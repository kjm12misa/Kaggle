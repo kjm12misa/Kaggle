{
 "cells": [
  {
   "cell_type": "code",
   "execution_count": 1,
   "id": "e3e56060",
   "metadata": {
    "_cell_guid": "b1076dfc-b9ad-4769-8c92-a6c4dae69d19",
    "_uuid": "8f2839f25d086af736a60e9eeb907d3b93b6e0e5",
    "execution": {
     "iopub.execute_input": "2022-04-04T00:01:03.482937Z",
     "iopub.status.busy": "2022-04-04T00:01:03.481143Z",
     "iopub.status.idle": "2022-04-04T00:01:03.497786Z",
     "shell.execute_reply": "2022-04-04T00:01:03.498708Z",
     "shell.execute_reply.started": "2022-04-04T00:00:33.294107Z"
    },
    "papermill": {
     "duration": 0.071573,
     "end_time": "2022-04-04T00:01:03.499110",
     "exception": false,
     "start_time": "2022-04-04T00:01:03.427537",
     "status": "completed"
    },
    "tags": []
   },
   "outputs": [
    {
     "name": "stdout",
     "output_type": "stream",
     "text": [
      "/kaggle/input/spaceship-titanic/sample_submission.csv\n",
      "/kaggle/input/spaceship-titanic/train.csv\n",
      "/kaggle/input/spaceship-titanic/test.csv\n"
     ]
    }
   ],
   "source": [
    "# This Python 3 environment comes with many helpful analytics libraries installed\n",
    "# It is defined by the kaggle/python Docker image: https://github.com/kaggle/docker-python\n",
    "# For example, here's several helpful packages to load\n",
    "\n",
    "import numpy as np # linear algebra\n",
    "import pandas as pd # data processing, CSV file I/O (e.g. pd.read_csv)\n",
    "\n",
    "# Input data files are available in the read-only \"../input/\" directory\n",
    "# For example, running this (by clicking run or pressing Shift+Enter) will list all files under the input directory\n",
    "\n",
    "import os\n",
    "for dirname, _, filenames in os.walk('/kaggle/input'):\n",
    "    for filename in filenames:\n",
    "        print(os.path.join(dirname, filename))\n",
    "\n",
    "# You can write up to 20GB to the current directory (/kaggle/working/) that gets preserved as output when you create a version using \"Save & Run All\" \n",
    "# You can also write temporary files to /kaggle/temp/, but they won't be saved outside of the current session"
   ]
  },
  {
   "cell_type": "markdown",
   "id": "05bec60c",
   "metadata": {
    "papermill": {
     "duration": 0.050727,
     "end_time": "2022-04-04T00:01:03.599126",
     "exception": false,
     "start_time": "2022-04-04T00:01:03.548399",
     "status": "completed"
    },
    "tags": []
   },
   "source": [
    "1. **라이브러리 및 데이터 불러오기\n",
    " - **라이브러리 버전 확인 반드시 해준다!!**\n",
    "2. 탐색적 자료 분석 (EDA)\n",
    " - **데이터 시각화**\n",
    " - **산점도, 막대그래프 등**\n",
    " - 그래프 해석해서 설명 달기\n",
    " - 약간의 데이터 전처리\n",
    "3. 데이터 전처리\n",
    " - Feature Engineering\n",
    " - ML 모형을 돌리기 위해 표준화 등/ 원핫-인코딩\n",
    " - 파생변수(도출변수) 만들기\n",
    "  + 왜 이변수를 만들었는지에 대한 설명 필요\n",
    "4. 머신러닝 모형 개발\n",
    " - 모형(로지스틱,,등)에 대한 설명 필요\n",
    " - 모형은 1, 2개 정도만 사용하자\n",
    " - 교차 검증, 하이퍼파라미터 튜닝\n",
    "5. 모형 평가\n",
    " - 훈련 데이터를 쪼개서 훈련 데이터와 검증 데이터 분리\n",
    " - 정확도 비교\n",
    " - 혼동행렬(confusion Matrix) 설명을 잘 찾아서 넣어주자\n",
    "6. 제출\n",
    " - 제출 양식 샘플은 쌤이 만들어 준다.\n",
    "★. 참고\n",
    " - 다른 사람의 code를 참고 했다면 노트북 표절 방지를 위해 참조한 코드는 반드시 링크 걸어둘 것\n",
    "  + 저자 이름, 글 제목, 링크 주소.\n",
    "★. 마감일\n",
    " - 4월 12일 17시 40분\n",
    " - 제출 형태\n",
    "  + Leaderboard 랭킹 사진 캡쳐\n",
    "  + 고용노동부 보고하기.\n",
    "\n",
    "★★ 코드가 오류가 계속 날 때는 쌤이 도움이 되는 링크만 준다(실력은 늘지도,,)"
   ]
  },
  {
   "cell_type": "markdown",
   "id": "684705b5",
   "metadata": {
    "papermill": {
     "duration": 0.049288,
     "end_time": "2022-04-04T00:01:03.696981",
     "exception": false,
     "start_time": "2022-04-04T00:01:03.647693",
     "status": "completed"
    },
    "tags": []
   },
   "source": [
    "#### 데이터 설명\n",
    "- 우주선 타이타닉이 시공간 이상과 충돌 하는 동안에 승객이 다른 차원으로 이동했는가에 대한 여부 예측하는 것.\n",
    " + 이러한 예측을 돕기 위해 손상된 함선의 컴퓨터 시스템에서 복구된 개인 기록이 제공됩니다.\n",
    "\n",
    "- sample_submission.csv : 올바른 형식의 송신 파일.\n",
    "- train : 승객이 다른 차원으로 운송되었는지 여부. 예측하려는 대상 열입니다.(훈련데이터로 사용됨)\n",
    "- test : 테스트 데이터로 사용되는 나머지 승객의 1/3(~4300)에 대한 개인 기록. 작업은 이 세트의 승객에 대한 운송 값을 예측하는 것\n",
    "\n",
    "- PassengerId - 테스트 세트에 포함된 각 승객의 ID\n",
    "- Transported - 타겟. 각 승객에 대해 참 또는 거짓을 예측\n",
    "- HomePlanet - 승객이 출발한 행성으로, 일반적으로 영구 거주지 행성\n",
    "- CryoSleep - 승객이 항해가 진행되는 동안 일시 정지 애니메이션으로 전환되도록 선택했는지 여부를 나타냅니다. 저온 수면 중인 승객들은 객실에 갇히게 된다.\n",
    "- 객실 - 승객이 머물고 있는 객실 번호입니다. 갑판/번호/측면 형식을 취합니다. 여기서 측면은 좌현에 P 또는 우현에 S가 될 수 있습니다.\n",
    "- 목적지 - 승객이 주차를 해제할 행성입니다.\n",
    "- VIP - 승객이 여행 중 특별 VIP 서비스에 비용을 지불했는지 여부\n",
    "- 룸 서비스, 푸드 코트, 쇼핑 몰, 스파, VRDeck - 승객이 우주선 타이타닉의 많은 고급 편의 시설 각각에서 청구한 금액입니다."
   ]
  },
  {
   "cell_type": "code",
   "execution_count": 2,
   "id": "d2fef4f0",
   "metadata": {
    "execution": {
     "iopub.execute_input": "2022-04-04T00:01:03.800543Z",
     "iopub.status.busy": "2022-04-04T00:01:03.799801Z",
     "iopub.status.idle": "2022-04-04T00:01:03.888642Z",
     "shell.execute_reply": "2022-04-04T00:01:03.887990Z",
     "shell.execute_reply.started": "2022-04-04T00:00:33.310366Z"
    },
    "papermill": {
     "duration": 0.142964,
     "end_time": "2022-04-04T00:01:03.888789",
     "exception": false,
     "start_time": "2022-04-04T00:01:03.745825",
     "status": "completed"
    },
    "tags": []
   },
   "outputs": [],
   "source": [
    "import pandas as pd\n",
    "submission = pd.read_csv(\"../input/spaceship-titanic/sample_submission.csv\")\n",
    "test = pd.read_csv(\"../input/spaceship-titanic/test.csv\")\n",
    "df = pd.read_csv(\"../input/spaceship-titanic/train.csv\")"
   ]
  },
  {
   "cell_type": "code",
   "execution_count": 3,
   "id": "105fb000",
   "metadata": {
    "execution": {
     "iopub.execute_input": "2022-04-04T00:01:03.992617Z",
     "iopub.status.busy": "2022-04-04T00:01:03.991610Z",
     "iopub.status.idle": "2022-04-04T00:01:05.088475Z",
     "shell.execute_reply": "2022-04-04T00:01:05.086952Z",
     "shell.execute_reply.started": "2022-04-04T00:00:33.382867Z"
    },
    "papermill": {
     "duration": 1.150995,
     "end_time": "2022-04-04T00:01:05.088662",
     "exception": false,
     "start_time": "2022-04-04T00:01:03.937667",
     "status": "completed"
    },
    "tags": []
   },
   "outputs": [],
   "source": [
    "import numpy as np\n",
    "import matplotlib.pyplot as plt\n",
    "import seaborn as sns"
   ]
  },
  {
   "cell_type": "code",
   "execution_count": 4,
   "id": "21db36d3",
   "metadata": {
    "execution": {
     "iopub.execute_input": "2022-04-04T00:01:05.192764Z",
     "iopub.status.busy": "2022-04-04T00:01:05.192060Z",
     "iopub.status.idle": "2022-04-04T00:01:05.194498Z",
     "shell.execute_reply": "2022-04-04T00:01:05.194961Z",
     "shell.execute_reply.started": "2022-04-04T00:00:33.389890Z"
    },
    "papermill": {
     "duration": 0.056739,
     "end_time": "2022-04-04T00:01:05.195186",
     "exception": false,
     "start_time": "2022-04-04T00:01:05.138447",
     "status": "completed"
    },
    "tags": []
   },
   "outputs": [],
   "source": [
    "sns.set_style('whitegrid')"
   ]
  },
  {
   "cell_type": "code",
   "execution_count": 5,
   "id": "9ebf6555",
   "metadata": {
    "execution": {
     "iopub.execute_input": "2022-04-04T00:01:05.295716Z",
     "iopub.status.busy": "2022-04-04T00:01:05.294958Z",
     "iopub.status.idle": "2022-04-04T00:01:05.312885Z",
     "shell.execute_reply": "2022-04-04T00:01:05.313410Z",
     "shell.execute_reply.started": "2022-04-04T00:00:33.405449Z"
    },
    "papermill": {
     "duration": 0.070052,
     "end_time": "2022-04-04T00:01:05.313601",
     "exception": false,
     "start_time": "2022-04-04T00:01:05.243549",
     "status": "completed"
    },
    "tags": []
   },
   "outputs": [
    {
     "data": {
      "text/html": [
       "<div>\n",
       "<style scoped>\n",
       "    .dataframe tbody tr th:only-of-type {\n",
       "        vertical-align: middle;\n",
       "    }\n",
       "\n",
       "    .dataframe tbody tr th {\n",
       "        vertical-align: top;\n",
       "    }\n",
       "\n",
       "    .dataframe thead th {\n",
       "        text-align: right;\n",
       "    }\n",
       "</style>\n",
       "<table border=\"1\" class=\"dataframe\">\n",
       "  <thead>\n",
       "    <tr style=\"text-align: right;\">\n",
       "      <th></th>\n",
       "      <th>PassengerId</th>\n",
       "      <th>Transported</th>\n",
       "    </tr>\n",
       "  </thead>\n",
       "  <tbody>\n",
       "    <tr>\n",
       "      <th>0</th>\n",
       "      <td>0013_01</td>\n",
       "      <td>False</td>\n",
       "    </tr>\n",
       "    <tr>\n",
       "      <th>1</th>\n",
       "      <td>0018_01</td>\n",
       "      <td>False</td>\n",
       "    </tr>\n",
       "    <tr>\n",
       "      <th>2</th>\n",
       "      <td>0019_01</td>\n",
       "      <td>False</td>\n",
       "    </tr>\n",
       "    <tr>\n",
       "      <th>3</th>\n",
       "      <td>0021_01</td>\n",
       "      <td>False</td>\n",
       "    </tr>\n",
       "    <tr>\n",
       "      <th>4</th>\n",
       "      <td>0023_01</td>\n",
       "      <td>False</td>\n",
       "    </tr>\n",
       "  </tbody>\n",
       "</table>\n",
       "</div>"
      ],
      "text/plain": [
       "  PassengerId  Transported\n",
       "0     0013_01        False\n",
       "1     0018_01        False\n",
       "2     0019_01        False\n",
       "3     0021_01        False\n",
       "4     0023_01        False"
      ]
     },
     "execution_count": 5,
     "metadata": {},
     "output_type": "execute_result"
    }
   ],
   "source": [
    "submission.head()"
   ]
  },
  {
   "cell_type": "code",
   "execution_count": 6,
   "id": "80347d9c",
   "metadata": {
    "execution": {
     "iopub.execute_input": "2022-04-04T00:01:05.416591Z",
     "iopub.status.busy": "2022-04-04T00:01:05.415880Z",
     "iopub.status.idle": "2022-04-04T00:01:05.435800Z",
     "shell.execute_reply": "2022-04-04T00:01:05.435284Z",
     "shell.execute_reply.started": "2022-04-04T00:00:33.427080Z"
    },
    "papermill": {
     "duration": 0.072047,
     "end_time": "2022-04-04T00:01:05.435948",
     "exception": false,
     "start_time": "2022-04-04T00:01:05.363901",
     "status": "completed"
    },
    "tags": []
   },
   "outputs": [
    {
     "data": {
      "text/html": [
       "<div>\n",
       "<style scoped>\n",
       "    .dataframe tbody tr th:only-of-type {\n",
       "        vertical-align: middle;\n",
       "    }\n",
       "\n",
       "    .dataframe tbody tr th {\n",
       "        vertical-align: top;\n",
       "    }\n",
       "\n",
       "    .dataframe thead th {\n",
       "        text-align: right;\n",
       "    }\n",
       "</style>\n",
       "<table border=\"1\" class=\"dataframe\">\n",
       "  <thead>\n",
       "    <tr style=\"text-align: right;\">\n",
       "      <th></th>\n",
       "      <th>PassengerId</th>\n",
       "      <th>HomePlanet</th>\n",
       "      <th>CryoSleep</th>\n",
       "      <th>Cabin</th>\n",
       "      <th>Destination</th>\n",
       "      <th>Age</th>\n",
       "      <th>VIP</th>\n",
       "      <th>RoomService</th>\n",
       "      <th>FoodCourt</th>\n",
       "      <th>ShoppingMall</th>\n",
       "      <th>Spa</th>\n",
       "      <th>VRDeck</th>\n",
       "      <th>Name</th>\n",
       "    </tr>\n",
       "  </thead>\n",
       "  <tbody>\n",
       "    <tr>\n",
       "      <th>0</th>\n",
       "      <td>0013_01</td>\n",
       "      <td>Earth</td>\n",
       "      <td>True</td>\n",
       "      <td>G/3/S</td>\n",
       "      <td>TRAPPIST-1e</td>\n",
       "      <td>27.0</td>\n",
       "      <td>False</td>\n",
       "      <td>0.0</td>\n",
       "      <td>0.0</td>\n",
       "      <td>0.0</td>\n",
       "      <td>0.0</td>\n",
       "      <td>0.0</td>\n",
       "      <td>Nelly Carsoning</td>\n",
       "    </tr>\n",
       "    <tr>\n",
       "      <th>1</th>\n",
       "      <td>0018_01</td>\n",
       "      <td>Earth</td>\n",
       "      <td>False</td>\n",
       "      <td>F/4/S</td>\n",
       "      <td>TRAPPIST-1e</td>\n",
       "      <td>19.0</td>\n",
       "      <td>False</td>\n",
       "      <td>0.0</td>\n",
       "      <td>9.0</td>\n",
       "      <td>0.0</td>\n",
       "      <td>2823.0</td>\n",
       "      <td>0.0</td>\n",
       "      <td>Lerome Peckers</td>\n",
       "    </tr>\n",
       "    <tr>\n",
       "      <th>2</th>\n",
       "      <td>0019_01</td>\n",
       "      <td>Europa</td>\n",
       "      <td>True</td>\n",
       "      <td>C/0/S</td>\n",
       "      <td>55 Cancri e</td>\n",
       "      <td>31.0</td>\n",
       "      <td>False</td>\n",
       "      <td>0.0</td>\n",
       "      <td>0.0</td>\n",
       "      <td>0.0</td>\n",
       "      <td>0.0</td>\n",
       "      <td>0.0</td>\n",
       "      <td>Sabih Unhearfus</td>\n",
       "    </tr>\n",
       "    <tr>\n",
       "      <th>3</th>\n",
       "      <td>0021_01</td>\n",
       "      <td>Europa</td>\n",
       "      <td>False</td>\n",
       "      <td>C/1/S</td>\n",
       "      <td>TRAPPIST-1e</td>\n",
       "      <td>38.0</td>\n",
       "      <td>False</td>\n",
       "      <td>0.0</td>\n",
       "      <td>6652.0</td>\n",
       "      <td>0.0</td>\n",
       "      <td>181.0</td>\n",
       "      <td>585.0</td>\n",
       "      <td>Meratz Caltilter</td>\n",
       "    </tr>\n",
       "    <tr>\n",
       "      <th>4</th>\n",
       "      <td>0023_01</td>\n",
       "      <td>Earth</td>\n",
       "      <td>False</td>\n",
       "      <td>F/5/S</td>\n",
       "      <td>TRAPPIST-1e</td>\n",
       "      <td>20.0</td>\n",
       "      <td>False</td>\n",
       "      <td>10.0</td>\n",
       "      <td>0.0</td>\n",
       "      <td>635.0</td>\n",
       "      <td>0.0</td>\n",
       "      <td>0.0</td>\n",
       "      <td>Brence Harperez</td>\n",
       "    </tr>\n",
       "  </tbody>\n",
       "</table>\n",
       "</div>"
      ],
      "text/plain": [
       "  PassengerId HomePlanet CryoSleep  Cabin  Destination   Age    VIP  \\\n",
       "0     0013_01      Earth      True  G/3/S  TRAPPIST-1e  27.0  False   \n",
       "1     0018_01      Earth     False  F/4/S  TRAPPIST-1e  19.0  False   \n",
       "2     0019_01     Europa      True  C/0/S  55 Cancri e  31.0  False   \n",
       "3     0021_01     Europa     False  C/1/S  TRAPPIST-1e  38.0  False   \n",
       "4     0023_01      Earth     False  F/5/S  TRAPPIST-1e  20.0  False   \n",
       "\n",
       "   RoomService  FoodCourt  ShoppingMall     Spa  VRDeck              Name  \n",
       "0          0.0        0.0           0.0     0.0     0.0   Nelly Carsoning  \n",
       "1          0.0        9.0           0.0  2823.0     0.0    Lerome Peckers  \n",
       "2          0.0        0.0           0.0     0.0     0.0   Sabih Unhearfus  \n",
       "3          0.0     6652.0           0.0   181.0   585.0  Meratz Caltilter  \n",
       "4         10.0        0.0         635.0     0.0     0.0   Brence Harperez  "
      ]
     },
     "execution_count": 6,
     "metadata": {},
     "output_type": "execute_result"
    }
   ],
   "source": [
    "test.head()"
   ]
  },
  {
   "cell_type": "code",
   "execution_count": 7,
   "id": "3659b50c",
   "metadata": {
    "execution": {
     "iopub.execute_input": "2022-04-04T00:01:05.538366Z",
     "iopub.status.busy": "2022-04-04T00:01:05.537688Z",
     "iopub.status.idle": "2022-04-04T00:01:05.564448Z",
     "shell.execute_reply": "2022-04-04T00:01:05.565045Z",
     "shell.execute_reply.started": "2022-04-04T00:00:33.457940Z"
    },
    "papermill": {
     "duration": 0.080223,
     "end_time": "2022-04-04T00:01:05.565237",
     "exception": false,
     "start_time": "2022-04-04T00:01:05.485014",
     "status": "completed"
    },
    "tags": []
   },
   "outputs": [
    {
     "data": {
      "text/html": [
       "<div>\n",
       "<style scoped>\n",
       "    .dataframe tbody tr th:only-of-type {\n",
       "        vertical-align: middle;\n",
       "    }\n",
       "\n",
       "    .dataframe tbody tr th {\n",
       "        vertical-align: top;\n",
       "    }\n",
       "\n",
       "    .dataframe thead th {\n",
       "        text-align: right;\n",
       "    }\n",
       "</style>\n",
       "<table border=\"1\" class=\"dataframe\">\n",
       "  <thead>\n",
       "    <tr style=\"text-align: right;\">\n",
       "      <th></th>\n",
       "      <th>PassengerId</th>\n",
       "      <th>HomePlanet</th>\n",
       "      <th>CryoSleep</th>\n",
       "      <th>Cabin</th>\n",
       "      <th>Destination</th>\n",
       "      <th>Age</th>\n",
       "      <th>VIP</th>\n",
       "      <th>RoomService</th>\n",
       "      <th>FoodCourt</th>\n",
       "      <th>ShoppingMall</th>\n",
       "      <th>Spa</th>\n",
       "      <th>VRDeck</th>\n",
       "      <th>Name</th>\n",
       "      <th>Transported</th>\n",
       "    </tr>\n",
       "  </thead>\n",
       "  <tbody>\n",
       "    <tr>\n",
       "      <th>0</th>\n",
       "      <td>0001_01</td>\n",
       "      <td>Europa</td>\n",
       "      <td>False</td>\n",
       "      <td>B/0/P</td>\n",
       "      <td>TRAPPIST-1e</td>\n",
       "      <td>39.0</td>\n",
       "      <td>False</td>\n",
       "      <td>0.0</td>\n",
       "      <td>0.0</td>\n",
       "      <td>0.0</td>\n",
       "      <td>0.0</td>\n",
       "      <td>0.0</td>\n",
       "      <td>Maham Ofracculy</td>\n",
       "      <td>False</td>\n",
       "    </tr>\n",
       "    <tr>\n",
       "      <th>1</th>\n",
       "      <td>0002_01</td>\n",
       "      <td>Earth</td>\n",
       "      <td>False</td>\n",
       "      <td>F/0/S</td>\n",
       "      <td>TRAPPIST-1e</td>\n",
       "      <td>24.0</td>\n",
       "      <td>False</td>\n",
       "      <td>109.0</td>\n",
       "      <td>9.0</td>\n",
       "      <td>25.0</td>\n",
       "      <td>549.0</td>\n",
       "      <td>44.0</td>\n",
       "      <td>Juanna Vines</td>\n",
       "      <td>True</td>\n",
       "    </tr>\n",
       "    <tr>\n",
       "      <th>2</th>\n",
       "      <td>0003_01</td>\n",
       "      <td>Europa</td>\n",
       "      <td>False</td>\n",
       "      <td>A/0/S</td>\n",
       "      <td>TRAPPIST-1e</td>\n",
       "      <td>58.0</td>\n",
       "      <td>True</td>\n",
       "      <td>43.0</td>\n",
       "      <td>3576.0</td>\n",
       "      <td>0.0</td>\n",
       "      <td>6715.0</td>\n",
       "      <td>49.0</td>\n",
       "      <td>Altark Susent</td>\n",
       "      <td>False</td>\n",
       "    </tr>\n",
       "    <tr>\n",
       "      <th>3</th>\n",
       "      <td>0003_02</td>\n",
       "      <td>Europa</td>\n",
       "      <td>False</td>\n",
       "      <td>A/0/S</td>\n",
       "      <td>TRAPPIST-1e</td>\n",
       "      <td>33.0</td>\n",
       "      <td>False</td>\n",
       "      <td>0.0</td>\n",
       "      <td>1283.0</td>\n",
       "      <td>371.0</td>\n",
       "      <td>3329.0</td>\n",
       "      <td>193.0</td>\n",
       "      <td>Solam Susent</td>\n",
       "      <td>False</td>\n",
       "    </tr>\n",
       "    <tr>\n",
       "      <th>4</th>\n",
       "      <td>0004_01</td>\n",
       "      <td>Earth</td>\n",
       "      <td>False</td>\n",
       "      <td>F/1/S</td>\n",
       "      <td>TRAPPIST-1e</td>\n",
       "      <td>16.0</td>\n",
       "      <td>False</td>\n",
       "      <td>303.0</td>\n",
       "      <td>70.0</td>\n",
       "      <td>151.0</td>\n",
       "      <td>565.0</td>\n",
       "      <td>2.0</td>\n",
       "      <td>Willy Santantines</td>\n",
       "      <td>True</td>\n",
       "    </tr>\n",
       "    <tr>\n",
       "      <th>5</th>\n",
       "      <td>0005_01</td>\n",
       "      <td>Earth</td>\n",
       "      <td>False</td>\n",
       "      <td>F/0/P</td>\n",
       "      <td>PSO J318.5-22</td>\n",
       "      <td>44.0</td>\n",
       "      <td>False</td>\n",
       "      <td>0.0</td>\n",
       "      <td>483.0</td>\n",
       "      <td>0.0</td>\n",
       "      <td>291.0</td>\n",
       "      <td>0.0</td>\n",
       "      <td>Sandie Hinetthews</td>\n",
       "      <td>True</td>\n",
       "    </tr>\n",
       "    <tr>\n",
       "      <th>6</th>\n",
       "      <td>0006_01</td>\n",
       "      <td>Earth</td>\n",
       "      <td>False</td>\n",
       "      <td>F/2/S</td>\n",
       "      <td>TRAPPIST-1e</td>\n",
       "      <td>26.0</td>\n",
       "      <td>False</td>\n",
       "      <td>42.0</td>\n",
       "      <td>1539.0</td>\n",
       "      <td>3.0</td>\n",
       "      <td>0.0</td>\n",
       "      <td>0.0</td>\n",
       "      <td>Billex Jacostaffey</td>\n",
       "      <td>True</td>\n",
       "    </tr>\n",
       "    <tr>\n",
       "      <th>7</th>\n",
       "      <td>0006_02</td>\n",
       "      <td>Earth</td>\n",
       "      <td>True</td>\n",
       "      <td>G/0/S</td>\n",
       "      <td>TRAPPIST-1e</td>\n",
       "      <td>28.0</td>\n",
       "      <td>False</td>\n",
       "      <td>0.0</td>\n",
       "      <td>0.0</td>\n",
       "      <td>0.0</td>\n",
       "      <td>0.0</td>\n",
       "      <td>NaN</td>\n",
       "      <td>Candra Jacostaffey</td>\n",
       "      <td>True</td>\n",
       "    </tr>\n",
       "    <tr>\n",
       "      <th>8</th>\n",
       "      <td>0007_01</td>\n",
       "      <td>Earth</td>\n",
       "      <td>False</td>\n",
       "      <td>F/3/S</td>\n",
       "      <td>TRAPPIST-1e</td>\n",
       "      <td>35.0</td>\n",
       "      <td>False</td>\n",
       "      <td>0.0</td>\n",
       "      <td>785.0</td>\n",
       "      <td>17.0</td>\n",
       "      <td>216.0</td>\n",
       "      <td>0.0</td>\n",
       "      <td>Andona Beston</td>\n",
       "      <td>True</td>\n",
       "    </tr>\n",
       "    <tr>\n",
       "      <th>9</th>\n",
       "      <td>0008_01</td>\n",
       "      <td>Europa</td>\n",
       "      <td>True</td>\n",
       "      <td>B/1/P</td>\n",
       "      <td>55 Cancri e</td>\n",
       "      <td>14.0</td>\n",
       "      <td>False</td>\n",
       "      <td>0.0</td>\n",
       "      <td>0.0</td>\n",
       "      <td>0.0</td>\n",
       "      <td>0.0</td>\n",
       "      <td>0.0</td>\n",
       "      <td>Erraiam Flatic</td>\n",
       "      <td>True</td>\n",
       "    </tr>\n",
       "  </tbody>\n",
       "</table>\n",
       "</div>"
      ],
      "text/plain": [
       "  PassengerId HomePlanet CryoSleep  Cabin    Destination   Age    VIP  \\\n",
       "0     0001_01     Europa     False  B/0/P    TRAPPIST-1e  39.0  False   \n",
       "1     0002_01      Earth     False  F/0/S    TRAPPIST-1e  24.0  False   \n",
       "2     0003_01     Europa     False  A/0/S    TRAPPIST-1e  58.0   True   \n",
       "3     0003_02     Europa     False  A/0/S    TRAPPIST-1e  33.0  False   \n",
       "4     0004_01      Earth     False  F/1/S    TRAPPIST-1e  16.0  False   \n",
       "5     0005_01      Earth     False  F/0/P  PSO J318.5-22  44.0  False   \n",
       "6     0006_01      Earth     False  F/2/S    TRAPPIST-1e  26.0  False   \n",
       "7     0006_02      Earth      True  G/0/S    TRAPPIST-1e  28.0  False   \n",
       "8     0007_01      Earth     False  F/3/S    TRAPPIST-1e  35.0  False   \n",
       "9     0008_01     Europa      True  B/1/P    55 Cancri e  14.0  False   \n",
       "\n",
       "   RoomService  FoodCourt  ShoppingMall     Spa  VRDeck                Name  \\\n",
       "0          0.0        0.0           0.0     0.0     0.0     Maham Ofracculy   \n",
       "1        109.0        9.0          25.0   549.0    44.0        Juanna Vines   \n",
       "2         43.0     3576.0           0.0  6715.0    49.0       Altark Susent   \n",
       "3          0.0     1283.0         371.0  3329.0   193.0        Solam Susent   \n",
       "4        303.0       70.0         151.0   565.0     2.0   Willy Santantines   \n",
       "5          0.0      483.0           0.0   291.0     0.0   Sandie Hinetthews   \n",
       "6         42.0     1539.0           3.0     0.0     0.0  Billex Jacostaffey   \n",
       "7          0.0        0.0           0.0     0.0     NaN  Candra Jacostaffey   \n",
       "8          0.0      785.0          17.0   216.0     0.0       Andona Beston   \n",
       "9          0.0        0.0           0.0     0.0     0.0      Erraiam Flatic   \n",
       "\n",
       "   Transported  \n",
       "0        False  \n",
       "1         True  \n",
       "2        False  \n",
       "3        False  \n",
       "4         True  \n",
       "5         True  \n",
       "6         True  \n",
       "7         True  \n",
       "8         True  \n",
       "9         True  "
      ]
     },
     "execution_count": 7,
     "metadata": {},
     "output_type": "execute_result"
    }
   ],
   "source": [
    "df.head(10)"
   ]
  },
  {
   "cell_type": "code",
   "execution_count": 8,
   "id": "1885e267",
   "metadata": {
    "execution": {
     "iopub.execute_input": "2022-04-04T00:01:05.668674Z",
     "iopub.status.busy": "2022-04-04T00:01:05.667838Z",
     "iopub.status.idle": "2022-04-04T00:01:05.696959Z",
     "shell.execute_reply": "2022-04-04T00:01:05.697442Z",
     "shell.execute_reply.started": "2022-04-04T00:00:33.486409Z"
    },
    "papermill": {
     "duration": 0.082659,
     "end_time": "2022-04-04T00:01:05.697631",
     "exception": false,
     "start_time": "2022-04-04T00:01:05.614972",
     "status": "completed"
    },
    "tags": []
   },
   "outputs": [
    {
     "name": "stdout",
     "output_type": "stream",
     "text": [
      "<class 'pandas.core.frame.DataFrame'>\n",
      "RangeIndex: 8693 entries, 0 to 8692\n",
      "Data columns (total 14 columns):\n",
      " #   Column        Non-Null Count  Dtype  \n",
      "---  ------        --------------  -----  \n",
      " 0   PassengerId   8693 non-null   object \n",
      " 1   HomePlanet    8492 non-null   object \n",
      " 2   CryoSleep     8476 non-null   object \n",
      " 3   Cabin         8494 non-null   object \n",
      " 4   Destination   8511 non-null   object \n",
      " 5   Age           8514 non-null   float64\n",
      " 6   VIP           8490 non-null   object \n",
      " 7   RoomService   8512 non-null   float64\n",
      " 8   FoodCourt     8510 non-null   float64\n",
      " 9   ShoppingMall  8485 non-null   float64\n",
      " 10  Spa           8510 non-null   float64\n",
      " 11  VRDeck        8505 non-null   float64\n",
      " 12  Name          8493 non-null   object \n",
      " 13  Transported   8693 non-null   bool   \n",
      "dtypes: bool(1), float64(6), object(7)\n",
      "memory usage: 891.5+ KB\n"
     ]
    }
   ],
   "source": [
    "df.info()"
   ]
  },
  {
   "cell_type": "code",
   "execution_count": 9,
   "id": "897a2620",
   "metadata": {
    "execution": {
     "iopub.execute_input": "2022-04-04T00:01:05.803028Z",
     "iopub.status.busy": "2022-04-04T00:01:05.802381Z",
     "iopub.status.idle": "2022-04-04T00:01:05.818669Z",
     "shell.execute_reply": "2022-04-04T00:01:05.819154Z",
     "shell.execute_reply.started": "2022-04-04T00:00:33.519913Z"
    },
    "papermill": {
     "duration": 0.070711,
     "end_time": "2022-04-04T00:01:05.819339",
     "exception": false,
     "start_time": "2022-04-04T00:01:05.748628",
     "status": "completed"
    },
    "tags": []
   },
   "outputs": [
    {
     "name": "stdout",
     "output_type": "stream",
     "text": [
      "<class 'pandas.core.frame.DataFrame'>\n",
      "RangeIndex: 4277 entries, 0 to 4276\n",
      "Data columns (total 13 columns):\n",
      " #   Column        Non-Null Count  Dtype  \n",
      "---  ------        --------------  -----  \n",
      " 0   PassengerId   4277 non-null   object \n",
      " 1   HomePlanet    4190 non-null   object \n",
      " 2   CryoSleep     4184 non-null   object \n",
      " 3   Cabin         4177 non-null   object \n",
      " 4   Destination   4185 non-null   object \n",
      " 5   Age           4186 non-null   float64\n",
      " 6   VIP           4184 non-null   object \n",
      " 7   RoomService   4195 non-null   float64\n",
      " 8   FoodCourt     4171 non-null   float64\n",
      " 9   ShoppingMall  4179 non-null   float64\n",
      " 10  Spa           4176 non-null   float64\n",
      " 11  VRDeck        4197 non-null   float64\n",
      " 12  Name          4183 non-null   object \n",
      "dtypes: float64(6), object(7)\n",
      "memory usage: 434.5+ KB\n"
     ]
    }
   ],
   "source": [
    "test.info()"
   ]
  },
  {
   "cell_type": "markdown",
   "id": "862ef8f1",
   "metadata": {
    "papermill": {
     "duration": 0.051064,
     "end_time": "2022-04-04T00:01:05.921454",
     "exception": false,
     "start_time": "2022-04-04T00:01:05.870390",
     "status": "completed"
    },
    "tags": []
   },
   "source": [
    "- 드랍을 시키는 이유는 모형에 아무런 영향을 주지 않기 때문.\n",
    "- 드랍은 지정된 행이나 열을 삭제하기 때문에 행축을 지정(axis= 0 또는 1 )"
   ]
  },
  {
   "cell_type": "code",
   "execution_count": 10,
   "id": "9f74700e",
   "metadata": {
    "execution": {
     "iopub.execute_input": "2022-04-04T00:01:06.030042Z",
     "iopub.status.busy": "2022-04-04T00:01:06.029391Z",
     "iopub.status.idle": "2022-04-04T00:01:06.059243Z",
     "shell.execute_reply": "2022-04-04T00:01:06.059746Z",
     "shell.execute_reply.started": "2022-04-04T00:00:33.545272Z"
    },
    "papermill": {
     "duration": 0.087401,
     "end_time": "2022-04-04T00:01:06.059912",
     "exception": false,
     "start_time": "2022-04-04T00:01:05.972511",
     "status": "completed"
    },
    "tags": []
   },
   "outputs": [
    {
     "data": {
      "text/html": [
       "<div>\n",
       "<style scoped>\n",
       "    .dataframe tbody tr th:only-of-type {\n",
       "        vertical-align: middle;\n",
       "    }\n",
       "\n",
       "    .dataframe tbody tr th {\n",
       "        vertical-align: top;\n",
       "    }\n",
       "\n",
       "    .dataframe thead th {\n",
       "        text-align: right;\n",
       "    }\n",
       "</style>\n",
       "<table border=\"1\" class=\"dataframe\">\n",
       "  <thead>\n",
       "    <tr style=\"text-align: right;\">\n",
       "      <th></th>\n",
       "      <th>PassengerId</th>\n",
       "      <th>HomePlanet</th>\n",
       "      <th>CryoSleep</th>\n",
       "      <th>Destination</th>\n",
       "      <th>Age</th>\n",
       "      <th>VIP</th>\n",
       "      <th>RoomService</th>\n",
       "      <th>FoodCourt</th>\n",
       "      <th>ShoppingMall</th>\n",
       "      <th>Spa</th>\n",
       "      <th>VRDeck</th>\n",
       "      <th>Name</th>\n",
       "      <th>Transported</th>\n",
       "    </tr>\n",
       "  </thead>\n",
       "  <tbody>\n",
       "    <tr>\n",
       "      <th>0</th>\n",
       "      <td>0001_01</td>\n",
       "      <td>Europa</td>\n",
       "      <td>False</td>\n",
       "      <td>TRAPPIST-1e</td>\n",
       "      <td>39.0</td>\n",
       "      <td>False</td>\n",
       "      <td>0.0</td>\n",
       "      <td>0.0</td>\n",
       "      <td>0.0</td>\n",
       "      <td>0.0</td>\n",
       "      <td>0.0</td>\n",
       "      <td>Maham Ofracculy</td>\n",
       "      <td>False</td>\n",
       "    </tr>\n",
       "    <tr>\n",
       "      <th>1</th>\n",
       "      <td>0002_01</td>\n",
       "      <td>Earth</td>\n",
       "      <td>False</td>\n",
       "      <td>TRAPPIST-1e</td>\n",
       "      <td>24.0</td>\n",
       "      <td>False</td>\n",
       "      <td>109.0</td>\n",
       "      <td>9.0</td>\n",
       "      <td>25.0</td>\n",
       "      <td>549.0</td>\n",
       "      <td>44.0</td>\n",
       "      <td>Juanna Vines</td>\n",
       "      <td>True</td>\n",
       "    </tr>\n",
       "    <tr>\n",
       "      <th>2</th>\n",
       "      <td>0003_01</td>\n",
       "      <td>Europa</td>\n",
       "      <td>False</td>\n",
       "      <td>TRAPPIST-1e</td>\n",
       "      <td>58.0</td>\n",
       "      <td>True</td>\n",
       "      <td>43.0</td>\n",
       "      <td>3576.0</td>\n",
       "      <td>0.0</td>\n",
       "      <td>6715.0</td>\n",
       "      <td>49.0</td>\n",
       "      <td>Altark Susent</td>\n",
       "      <td>False</td>\n",
       "    </tr>\n",
       "    <tr>\n",
       "      <th>3</th>\n",
       "      <td>0003_02</td>\n",
       "      <td>Europa</td>\n",
       "      <td>False</td>\n",
       "      <td>TRAPPIST-1e</td>\n",
       "      <td>33.0</td>\n",
       "      <td>False</td>\n",
       "      <td>0.0</td>\n",
       "      <td>1283.0</td>\n",
       "      <td>371.0</td>\n",
       "      <td>3329.0</td>\n",
       "      <td>193.0</td>\n",
       "      <td>Solam Susent</td>\n",
       "      <td>False</td>\n",
       "    </tr>\n",
       "    <tr>\n",
       "      <th>4</th>\n",
       "      <td>0004_01</td>\n",
       "      <td>Earth</td>\n",
       "      <td>False</td>\n",
       "      <td>TRAPPIST-1e</td>\n",
       "      <td>16.0</td>\n",
       "      <td>False</td>\n",
       "      <td>303.0</td>\n",
       "      <td>70.0</td>\n",
       "      <td>151.0</td>\n",
       "      <td>565.0</td>\n",
       "      <td>2.0</td>\n",
       "      <td>Willy Santantines</td>\n",
       "      <td>True</td>\n",
       "    </tr>\n",
       "    <tr>\n",
       "      <th>...</th>\n",
       "      <td>...</td>\n",
       "      <td>...</td>\n",
       "      <td>...</td>\n",
       "      <td>...</td>\n",
       "      <td>...</td>\n",
       "      <td>...</td>\n",
       "      <td>...</td>\n",
       "      <td>...</td>\n",
       "      <td>...</td>\n",
       "      <td>...</td>\n",
       "      <td>...</td>\n",
       "      <td>...</td>\n",
       "      <td>...</td>\n",
       "    </tr>\n",
       "    <tr>\n",
       "      <th>8688</th>\n",
       "      <td>9276_01</td>\n",
       "      <td>Europa</td>\n",
       "      <td>False</td>\n",
       "      <td>55 Cancri e</td>\n",
       "      <td>41.0</td>\n",
       "      <td>True</td>\n",
       "      <td>0.0</td>\n",
       "      <td>6819.0</td>\n",
       "      <td>0.0</td>\n",
       "      <td>1643.0</td>\n",
       "      <td>74.0</td>\n",
       "      <td>Gravior Noxnuther</td>\n",
       "      <td>False</td>\n",
       "    </tr>\n",
       "    <tr>\n",
       "      <th>8689</th>\n",
       "      <td>9278_01</td>\n",
       "      <td>Earth</td>\n",
       "      <td>True</td>\n",
       "      <td>PSO J318.5-22</td>\n",
       "      <td>18.0</td>\n",
       "      <td>False</td>\n",
       "      <td>0.0</td>\n",
       "      <td>0.0</td>\n",
       "      <td>0.0</td>\n",
       "      <td>0.0</td>\n",
       "      <td>0.0</td>\n",
       "      <td>Kurta Mondalley</td>\n",
       "      <td>False</td>\n",
       "    </tr>\n",
       "    <tr>\n",
       "      <th>8690</th>\n",
       "      <td>9279_01</td>\n",
       "      <td>Earth</td>\n",
       "      <td>False</td>\n",
       "      <td>TRAPPIST-1e</td>\n",
       "      <td>26.0</td>\n",
       "      <td>False</td>\n",
       "      <td>0.0</td>\n",
       "      <td>0.0</td>\n",
       "      <td>1872.0</td>\n",
       "      <td>1.0</td>\n",
       "      <td>0.0</td>\n",
       "      <td>Fayey Connon</td>\n",
       "      <td>True</td>\n",
       "    </tr>\n",
       "    <tr>\n",
       "      <th>8691</th>\n",
       "      <td>9280_01</td>\n",
       "      <td>Europa</td>\n",
       "      <td>False</td>\n",
       "      <td>55 Cancri e</td>\n",
       "      <td>32.0</td>\n",
       "      <td>False</td>\n",
       "      <td>0.0</td>\n",
       "      <td>1049.0</td>\n",
       "      <td>0.0</td>\n",
       "      <td>353.0</td>\n",
       "      <td>3235.0</td>\n",
       "      <td>Celeon Hontichre</td>\n",
       "      <td>False</td>\n",
       "    </tr>\n",
       "    <tr>\n",
       "      <th>8692</th>\n",
       "      <td>9280_02</td>\n",
       "      <td>Europa</td>\n",
       "      <td>False</td>\n",
       "      <td>TRAPPIST-1e</td>\n",
       "      <td>44.0</td>\n",
       "      <td>False</td>\n",
       "      <td>126.0</td>\n",
       "      <td>4688.0</td>\n",
       "      <td>0.0</td>\n",
       "      <td>0.0</td>\n",
       "      <td>12.0</td>\n",
       "      <td>Propsh Hontichre</td>\n",
       "      <td>True</td>\n",
       "    </tr>\n",
       "  </tbody>\n",
       "</table>\n",
       "<p>8693 rows × 13 columns</p>\n",
       "</div>"
      ],
      "text/plain": [
       "     PassengerId HomePlanet CryoSleep    Destination   Age    VIP  \\\n",
       "0        0001_01     Europa     False    TRAPPIST-1e  39.0  False   \n",
       "1        0002_01      Earth     False    TRAPPIST-1e  24.0  False   \n",
       "2        0003_01     Europa     False    TRAPPIST-1e  58.0   True   \n",
       "3        0003_02     Europa     False    TRAPPIST-1e  33.0  False   \n",
       "4        0004_01      Earth     False    TRAPPIST-1e  16.0  False   \n",
       "...          ...        ...       ...            ...   ...    ...   \n",
       "8688     9276_01     Europa     False    55 Cancri e  41.0   True   \n",
       "8689     9278_01      Earth      True  PSO J318.5-22  18.0  False   \n",
       "8690     9279_01      Earth     False    TRAPPIST-1e  26.0  False   \n",
       "8691     9280_01     Europa     False    55 Cancri e  32.0  False   \n",
       "8692     9280_02     Europa     False    TRAPPIST-1e  44.0  False   \n",
       "\n",
       "      RoomService  FoodCourt  ShoppingMall     Spa  VRDeck               Name  \\\n",
       "0             0.0        0.0           0.0     0.0     0.0    Maham Ofracculy   \n",
       "1           109.0        9.0          25.0   549.0    44.0       Juanna Vines   \n",
       "2            43.0     3576.0           0.0  6715.0    49.0      Altark Susent   \n",
       "3             0.0     1283.0         371.0  3329.0   193.0       Solam Susent   \n",
       "4           303.0       70.0         151.0   565.0     2.0  Willy Santantines   \n",
       "...           ...        ...           ...     ...     ...                ...   \n",
       "8688          0.0     6819.0           0.0  1643.0    74.0  Gravior Noxnuther   \n",
       "8689          0.0        0.0           0.0     0.0     0.0    Kurta Mondalley   \n",
       "8690          0.0        0.0        1872.0     1.0     0.0       Fayey Connon   \n",
       "8691          0.0     1049.0           0.0   353.0  3235.0   Celeon Hontichre   \n",
       "8692        126.0     4688.0           0.0     0.0    12.0   Propsh Hontichre   \n",
       "\n",
       "      Transported  \n",
       "0           False  \n",
       "1            True  \n",
       "2           False  \n",
       "3           False  \n",
       "4            True  \n",
       "...           ...  \n",
       "8688        False  \n",
       "8689        False  \n",
       "8690         True  \n",
       "8691        False  \n",
       "8692         True  \n",
       "\n",
       "[8693 rows x 13 columns]"
      ]
     },
     "execution_count": 10,
     "metadata": {},
     "output_type": "execute_result"
    }
   ],
   "source": [
    "df = df.drop(['Cabin'], axis=1)\n",
    "df"
   ]
  },
  {
   "cell_type": "code",
   "execution_count": 11,
   "id": "e10ec3f3",
   "metadata": {
    "execution": {
     "iopub.execute_input": "2022-04-04T00:01:06.167061Z",
     "iopub.status.busy": "2022-04-04T00:01:06.166027Z",
     "iopub.status.idle": "2022-04-04T00:01:06.195277Z",
     "shell.execute_reply": "2022-04-04T00:01:06.194708Z",
     "shell.execute_reply.started": "2022-04-04T00:00:33.583386Z"
    },
    "papermill": {
     "duration": 0.08405,
     "end_time": "2022-04-04T00:01:06.195432",
     "exception": false,
     "start_time": "2022-04-04T00:01:06.111382",
     "status": "completed"
    },
    "tags": []
   },
   "outputs": [
    {
     "data": {
      "text/html": [
       "<div>\n",
       "<style scoped>\n",
       "    .dataframe tbody tr th:only-of-type {\n",
       "        vertical-align: middle;\n",
       "    }\n",
       "\n",
       "    .dataframe tbody tr th {\n",
       "        vertical-align: top;\n",
       "    }\n",
       "\n",
       "    .dataframe thead th {\n",
       "        text-align: right;\n",
       "    }\n",
       "</style>\n",
       "<table border=\"1\" class=\"dataframe\">\n",
       "  <thead>\n",
       "    <tr style=\"text-align: right;\">\n",
       "      <th></th>\n",
       "      <th>PassengerId</th>\n",
       "      <th>HomePlanet</th>\n",
       "      <th>CryoSleep</th>\n",
       "      <th>Destination</th>\n",
       "      <th>Age</th>\n",
       "      <th>VIP</th>\n",
       "      <th>RoomService</th>\n",
       "      <th>FoodCourt</th>\n",
       "      <th>ShoppingMall</th>\n",
       "      <th>Spa</th>\n",
       "      <th>VRDeck</th>\n",
       "      <th>Name</th>\n",
       "    </tr>\n",
       "  </thead>\n",
       "  <tbody>\n",
       "    <tr>\n",
       "      <th>0</th>\n",
       "      <td>0013_01</td>\n",
       "      <td>Earth</td>\n",
       "      <td>True</td>\n",
       "      <td>TRAPPIST-1e</td>\n",
       "      <td>27.0</td>\n",
       "      <td>False</td>\n",
       "      <td>0.0</td>\n",
       "      <td>0.0</td>\n",
       "      <td>0.0</td>\n",
       "      <td>0.0</td>\n",
       "      <td>0.0</td>\n",
       "      <td>Nelly Carsoning</td>\n",
       "    </tr>\n",
       "    <tr>\n",
       "      <th>1</th>\n",
       "      <td>0018_01</td>\n",
       "      <td>Earth</td>\n",
       "      <td>False</td>\n",
       "      <td>TRAPPIST-1e</td>\n",
       "      <td>19.0</td>\n",
       "      <td>False</td>\n",
       "      <td>0.0</td>\n",
       "      <td>9.0</td>\n",
       "      <td>0.0</td>\n",
       "      <td>2823.0</td>\n",
       "      <td>0.0</td>\n",
       "      <td>Lerome Peckers</td>\n",
       "    </tr>\n",
       "    <tr>\n",
       "      <th>2</th>\n",
       "      <td>0019_01</td>\n",
       "      <td>Europa</td>\n",
       "      <td>True</td>\n",
       "      <td>55 Cancri e</td>\n",
       "      <td>31.0</td>\n",
       "      <td>False</td>\n",
       "      <td>0.0</td>\n",
       "      <td>0.0</td>\n",
       "      <td>0.0</td>\n",
       "      <td>0.0</td>\n",
       "      <td>0.0</td>\n",
       "      <td>Sabih Unhearfus</td>\n",
       "    </tr>\n",
       "    <tr>\n",
       "      <th>3</th>\n",
       "      <td>0021_01</td>\n",
       "      <td>Europa</td>\n",
       "      <td>False</td>\n",
       "      <td>TRAPPIST-1e</td>\n",
       "      <td>38.0</td>\n",
       "      <td>False</td>\n",
       "      <td>0.0</td>\n",
       "      <td>6652.0</td>\n",
       "      <td>0.0</td>\n",
       "      <td>181.0</td>\n",
       "      <td>585.0</td>\n",
       "      <td>Meratz Caltilter</td>\n",
       "    </tr>\n",
       "    <tr>\n",
       "      <th>4</th>\n",
       "      <td>0023_01</td>\n",
       "      <td>Earth</td>\n",
       "      <td>False</td>\n",
       "      <td>TRAPPIST-1e</td>\n",
       "      <td>20.0</td>\n",
       "      <td>False</td>\n",
       "      <td>10.0</td>\n",
       "      <td>0.0</td>\n",
       "      <td>635.0</td>\n",
       "      <td>0.0</td>\n",
       "      <td>0.0</td>\n",
       "      <td>Brence Harperez</td>\n",
       "    </tr>\n",
       "    <tr>\n",
       "      <th>...</th>\n",
       "      <td>...</td>\n",
       "      <td>...</td>\n",
       "      <td>...</td>\n",
       "      <td>...</td>\n",
       "      <td>...</td>\n",
       "      <td>...</td>\n",
       "      <td>...</td>\n",
       "      <td>...</td>\n",
       "      <td>...</td>\n",
       "      <td>...</td>\n",
       "      <td>...</td>\n",
       "      <td>...</td>\n",
       "    </tr>\n",
       "    <tr>\n",
       "      <th>4272</th>\n",
       "      <td>9266_02</td>\n",
       "      <td>Earth</td>\n",
       "      <td>True</td>\n",
       "      <td>TRAPPIST-1e</td>\n",
       "      <td>34.0</td>\n",
       "      <td>False</td>\n",
       "      <td>0.0</td>\n",
       "      <td>0.0</td>\n",
       "      <td>0.0</td>\n",
       "      <td>0.0</td>\n",
       "      <td>0.0</td>\n",
       "      <td>Jeron Peter</td>\n",
       "    </tr>\n",
       "    <tr>\n",
       "      <th>4273</th>\n",
       "      <td>9269_01</td>\n",
       "      <td>Earth</td>\n",
       "      <td>False</td>\n",
       "      <td>TRAPPIST-1e</td>\n",
       "      <td>42.0</td>\n",
       "      <td>False</td>\n",
       "      <td>0.0</td>\n",
       "      <td>847.0</td>\n",
       "      <td>17.0</td>\n",
       "      <td>10.0</td>\n",
       "      <td>144.0</td>\n",
       "      <td>Matty Scheron</td>\n",
       "    </tr>\n",
       "    <tr>\n",
       "      <th>4274</th>\n",
       "      <td>9271_01</td>\n",
       "      <td>Mars</td>\n",
       "      <td>True</td>\n",
       "      <td>55 Cancri e</td>\n",
       "      <td>NaN</td>\n",
       "      <td>False</td>\n",
       "      <td>0.0</td>\n",
       "      <td>0.0</td>\n",
       "      <td>0.0</td>\n",
       "      <td>0.0</td>\n",
       "      <td>0.0</td>\n",
       "      <td>Jayrin Pore</td>\n",
       "    </tr>\n",
       "    <tr>\n",
       "      <th>4275</th>\n",
       "      <td>9273_01</td>\n",
       "      <td>Europa</td>\n",
       "      <td>False</td>\n",
       "      <td>NaN</td>\n",
       "      <td>NaN</td>\n",
       "      <td>False</td>\n",
       "      <td>0.0</td>\n",
       "      <td>2680.0</td>\n",
       "      <td>0.0</td>\n",
       "      <td>0.0</td>\n",
       "      <td>523.0</td>\n",
       "      <td>Kitakan Conale</td>\n",
       "    </tr>\n",
       "    <tr>\n",
       "      <th>4276</th>\n",
       "      <td>9277_01</td>\n",
       "      <td>Earth</td>\n",
       "      <td>True</td>\n",
       "      <td>PSO J318.5-22</td>\n",
       "      <td>43.0</td>\n",
       "      <td>False</td>\n",
       "      <td>0.0</td>\n",
       "      <td>0.0</td>\n",
       "      <td>0.0</td>\n",
       "      <td>0.0</td>\n",
       "      <td>0.0</td>\n",
       "      <td>Lilace Leonzaley</td>\n",
       "    </tr>\n",
       "  </tbody>\n",
       "</table>\n",
       "<p>4277 rows × 12 columns</p>\n",
       "</div>"
      ],
      "text/plain": [
       "     PassengerId HomePlanet CryoSleep    Destination   Age    VIP  \\\n",
       "0        0013_01      Earth      True    TRAPPIST-1e  27.0  False   \n",
       "1        0018_01      Earth     False    TRAPPIST-1e  19.0  False   \n",
       "2        0019_01     Europa      True    55 Cancri e  31.0  False   \n",
       "3        0021_01     Europa     False    TRAPPIST-1e  38.0  False   \n",
       "4        0023_01      Earth     False    TRAPPIST-1e  20.0  False   \n",
       "...          ...        ...       ...            ...   ...    ...   \n",
       "4272     9266_02      Earth      True    TRAPPIST-1e  34.0  False   \n",
       "4273     9269_01      Earth     False    TRAPPIST-1e  42.0  False   \n",
       "4274     9271_01       Mars      True    55 Cancri e   NaN  False   \n",
       "4275     9273_01     Europa     False            NaN   NaN  False   \n",
       "4276     9277_01      Earth      True  PSO J318.5-22  43.0  False   \n",
       "\n",
       "      RoomService  FoodCourt  ShoppingMall     Spa  VRDeck              Name  \n",
       "0             0.0        0.0           0.0     0.0     0.0   Nelly Carsoning  \n",
       "1             0.0        9.0           0.0  2823.0     0.0    Lerome Peckers  \n",
       "2             0.0        0.0           0.0     0.0     0.0   Sabih Unhearfus  \n",
       "3             0.0     6652.0           0.0   181.0   585.0  Meratz Caltilter  \n",
       "4            10.0        0.0         635.0     0.0     0.0   Brence Harperez  \n",
       "...           ...        ...           ...     ...     ...               ...  \n",
       "4272          0.0        0.0           0.0     0.0     0.0       Jeron Peter  \n",
       "4273          0.0      847.0          17.0    10.0   144.0     Matty Scheron  \n",
       "4274          0.0        0.0           0.0     0.0     0.0       Jayrin Pore  \n",
       "4275          0.0     2680.0           0.0     0.0   523.0    Kitakan Conale  \n",
       "4276          0.0        0.0           0.0     0.0     0.0  Lilace Leonzaley  \n",
       "\n",
       "[4277 rows x 12 columns]"
      ]
     },
     "execution_count": 11,
     "metadata": {},
     "output_type": "execute_result"
    }
   ],
   "source": [
    "test = test.drop(['Cabin'], axis=1)\n",
    "test"
   ]
  },
  {
   "cell_type": "code",
   "execution_count": 12,
   "id": "50f7b57c",
   "metadata": {
    "execution": {
     "iopub.execute_input": "2022-04-04T00:01:06.307214Z",
     "iopub.status.busy": "2022-04-04T00:01:06.306519Z",
     "iopub.status.idle": "2022-04-04T00:01:06.334939Z",
     "shell.execute_reply": "2022-04-04T00:01:06.334354Z",
     "shell.execute_reply.started": "2022-04-04T00:00:33.620365Z"
    },
    "papermill": {
     "duration": 0.087269,
     "end_time": "2022-04-04T00:01:06.335085",
     "exception": false,
     "start_time": "2022-04-04T00:01:06.247816",
     "status": "completed"
    },
    "tags": []
   },
   "outputs": [
    {
     "data": {
      "text/html": [
       "<div>\n",
       "<style scoped>\n",
       "    .dataframe tbody tr th:only-of-type {\n",
       "        vertical-align: middle;\n",
       "    }\n",
       "\n",
       "    .dataframe tbody tr th {\n",
       "        vertical-align: top;\n",
       "    }\n",
       "\n",
       "    .dataframe thead th {\n",
       "        text-align: right;\n",
       "    }\n",
       "</style>\n",
       "<table border=\"1\" class=\"dataframe\">\n",
       "  <thead>\n",
       "    <tr style=\"text-align: right;\">\n",
       "      <th></th>\n",
       "      <th>Age</th>\n",
       "      <th>RoomService</th>\n",
       "      <th>FoodCourt</th>\n",
       "      <th>ShoppingMall</th>\n",
       "      <th>Spa</th>\n",
       "      <th>VRDeck</th>\n",
       "    </tr>\n",
       "  </thead>\n",
       "  <tbody>\n",
       "    <tr>\n",
       "      <th>count</th>\n",
       "      <td>8514.000000</td>\n",
       "      <td>8512.000000</td>\n",
       "      <td>8510.000000</td>\n",
       "      <td>8485.000000</td>\n",
       "      <td>8510.000000</td>\n",
       "      <td>8505.000000</td>\n",
       "    </tr>\n",
       "    <tr>\n",
       "      <th>mean</th>\n",
       "      <td>28.827930</td>\n",
       "      <td>224.687617</td>\n",
       "      <td>458.077203</td>\n",
       "      <td>173.729169</td>\n",
       "      <td>311.138778</td>\n",
       "      <td>304.854791</td>\n",
       "    </tr>\n",
       "    <tr>\n",
       "      <th>std</th>\n",
       "      <td>14.489021</td>\n",
       "      <td>666.717663</td>\n",
       "      <td>1611.489240</td>\n",
       "      <td>604.696458</td>\n",
       "      <td>1136.705535</td>\n",
       "      <td>1145.717189</td>\n",
       "    </tr>\n",
       "    <tr>\n",
       "      <th>min</th>\n",
       "      <td>0.000000</td>\n",
       "      <td>0.000000</td>\n",
       "      <td>0.000000</td>\n",
       "      <td>0.000000</td>\n",
       "      <td>0.000000</td>\n",
       "      <td>0.000000</td>\n",
       "    </tr>\n",
       "    <tr>\n",
       "      <th>25%</th>\n",
       "      <td>19.000000</td>\n",
       "      <td>0.000000</td>\n",
       "      <td>0.000000</td>\n",
       "      <td>0.000000</td>\n",
       "      <td>0.000000</td>\n",
       "      <td>0.000000</td>\n",
       "    </tr>\n",
       "    <tr>\n",
       "      <th>50%</th>\n",
       "      <td>27.000000</td>\n",
       "      <td>0.000000</td>\n",
       "      <td>0.000000</td>\n",
       "      <td>0.000000</td>\n",
       "      <td>0.000000</td>\n",
       "      <td>0.000000</td>\n",
       "    </tr>\n",
       "    <tr>\n",
       "      <th>75%</th>\n",
       "      <td>38.000000</td>\n",
       "      <td>47.000000</td>\n",
       "      <td>76.000000</td>\n",
       "      <td>27.000000</td>\n",
       "      <td>59.000000</td>\n",
       "      <td>46.000000</td>\n",
       "    </tr>\n",
       "    <tr>\n",
       "      <th>max</th>\n",
       "      <td>79.000000</td>\n",
       "      <td>14327.000000</td>\n",
       "      <td>29813.000000</td>\n",
       "      <td>23492.000000</td>\n",
       "      <td>22408.000000</td>\n",
       "      <td>24133.000000</td>\n",
       "    </tr>\n",
       "  </tbody>\n",
       "</table>\n",
       "</div>"
      ],
      "text/plain": [
       "               Age   RoomService     FoodCourt  ShoppingMall           Spa  \\\n",
       "count  8514.000000   8512.000000   8510.000000   8485.000000   8510.000000   \n",
       "mean     28.827930    224.687617    458.077203    173.729169    311.138778   \n",
       "std      14.489021    666.717663   1611.489240    604.696458   1136.705535   \n",
       "min       0.000000      0.000000      0.000000      0.000000      0.000000   \n",
       "25%      19.000000      0.000000      0.000000      0.000000      0.000000   \n",
       "50%      27.000000      0.000000      0.000000      0.000000      0.000000   \n",
       "75%      38.000000     47.000000     76.000000     27.000000     59.000000   \n",
       "max      79.000000  14327.000000  29813.000000  23492.000000  22408.000000   \n",
       "\n",
       "             VRDeck  \n",
       "count   8505.000000  \n",
       "mean     304.854791  \n",
       "std     1145.717189  \n",
       "min        0.000000  \n",
       "25%        0.000000  \n",
       "50%        0.000000  \n",
       "75%       46.000000  \n",
       "max    24133.000000  "
      ]
     },
     "execution_count": 12,
     "metadata": {},
     "output_type": "execute_result"
    }
   ],
   "source": [
    "df.describe()"
   ]
  },
  {
   "cell_type": "markdown",
   "id": "786ee7f0",
   "metadata": {
    "papermill": {
     "duration": 0.053305,
     "end_time": "2022-04-04T00:01:06.443275",
     "exception": false,
     "start_time": "2022-04-04T00:01:06.389970",
     "status": "completed"
    },
    "tags": []
   },
   "source": [
    "df(train)의 누락값을 na 해주고 describe 해주기"
   ]
  },
  {
   "cell_type": "code",
   "execution_count": 13,
   "id": "ca93ec49",
   "metadata": {
    "execution": {
     "iopub.execute_input": "2022-04-04T00:01:06.563414Z",
     "iopub.status.busy": "2022-04-04T00:01:06.562318Z",
     "iopub.status.idle": "2022-04-04T00:01:06.594124Z",
     "shell.execute_reply": "2022-04-04T00:01:06.594798Z",
     "shell.execute_reply.started": "2022-04-04T00:00:33.658530Z"
    },
    "papermill": {
     "duration": 0.097585,
     "end_time": "2022-04-04T00:01:06.594975",
     "exception": false,
     "start_time": "2022-04-04T00:01:06.497390",
     "status": "completed"
    },
    "tags": []
   },
   "outputs": [
    {
     "data": {
      "text/html": [
       "<div>\n",
       "<style scoped>\n",
       "    .dataframe tbody tr th:only-of-type {\n",
       "        vertical-align: middle;\n",
       "    }\n",
       "\n",
       "    .dataframe tbody tr th {\n",
       "        vertical-align: top;\n",
       "    }\n",
       "\n",
       "    .dataframe thead th {\n",
       "        text-align: right;\n",
       "    }\n",
       "</style>\n",
       "<table border=\"1\" class=\"dataframe\">\n",
       "  <thead>\n",
       "    <tr style=\"text-align: right;\">\n",
       "      <th></th>\n",
       "      <th>Age</th>\n",
       "      <th>RoomService</th>\n",
       "      <th>FoodCourt</th>\n",
       "      <th>ShoppingMall</th>\n",
       "      <th>Spa</th>\n",
       "      <th>VRDeck</th>\n",
       "    </tr>\n",
       "  </thead>\n",
       "  <tbody>\n",
       "    <tr>\n",
       "      <th>count</th>\n",
       "      <td>6764.000000</td>\n",
       "      <td>6764.000000</td>\n",
       "      <td>6764.000000</td>\n",
       "      <td>6764.000000</td>\n",
       "      <td>6764.000000</td>\n",
       "      <td>6764.000000</td>\n",
       "    </tr>\n",
       "    <tr>\n",
       "      <th>mean</th>\n",
       "      <td>28.891484</td>\n",
       "      <td>224.761236</td>\n",
       "      <td>479.760497</td>\n",
       "      <td>177.238025</td>\n",
       "      <td>317.654642</td>\n",
       "      <td>303.027055</td>\n",
       "    </tr>\n",
       "    <tr>\n",
       "      <th>std</th>\n",
       "      <td>14.516600</td>\n",
       "      <td>671.669743</td>\n",
       "      <td>1674.418004</td>\n",
       "      <td>572.893078</td>\n",
       "      <td>1164.620080</td>\n",
       "      <td>1125.732200</td>\n",
       "    </tr>\n",
       "    <tr>\n",
       "      <th>min</th>\n",
       "      <td>0.000000</td>\n",
       "      <td>0.000000</td>\n",
       "      <td>0.000000</td>\n",
       "      <td>0.000000</td>\n",
       "      <td>0.000000</td>\n",
       "      <td>0.000000</td>\n",
       "    </tr>\n",
       "    <tr>\n",
       "      <th>25%</th>\n",
       "      <td>19.000000</td>\n",
       "      <td>0.000000</td>\n",
       "      <td>0.000000</td>\n",
       "      <td>0.000000</td>\n",
       "      <td>0.000000</td>\n",
       "      <td>0.000000</td>\n",
       "    </tr>\n",
       "    <tr>\n",
       "      <th>50%</th>\n",
       "      <td>27.000000</td>\n",
       "      <td>0.000000</td>\n",
       "      <td>0.000000</td>\n",
       "      <td>0.000000</td>\n",
       "      <td>0.000000</td>\n",
       "      <td>0.000000</td>\n",
       "    </tr>\n",
       "    <tr>\n",
       "      <th>75%</th>\n",
       "      <td>38.000000</td>\n",
       "      <td>48.000000</td>\n",
       "      <td>82.000000</td>\n",
       "      <td>29.000000</td>\n",
       "      <td>64.250000</td>\n",
       "      <td>50.250000</td>\n",
       "    </tr>\n",
       "    <tr>\n",
       "      <th>max</th>\n",
       "      <td>79.000000</td>\n",
       "      <td>14327.000000</td>\n",
       "      <td>29813.000000</td>\n",
       "      <td>12253.000000</td>\n",
       "      <td>22408.000000</td>\n",
       "      <td>20336.000000</td>\n",
       "    </tr>\n",
       "  </tbody>\n",
       "</table>\n",
       "</div>"
      ],
      "text/plain": [
       "               Age   RoomService     FoodCourt  ShoppingMall           Spa  \\\n",
       "count  6764.000000   6764.000000   6764.000000   6764.000000   6764.000000   \n",
       "mean     28.891484    224.761236    479.760497    177.238025    317.654642   \n",
       "std      14.516600    671.669743   1674.418004    572.893078   1164.620080   \n",
       "min       0.000000      0.000000      0.000000      0.000000      0.000000   \n",
       "25%      19.000000      0.000000      0.000000      0.000000      0.000000   \n",
       "50%      27.000000      0.000000      0.000000      0.000000      0.000000   \n",
       "75%      38.000000     48.000000     82.000000     29.000000     64.250000   \n",
       "max      79.000000  14327.000000  29813.000000  12253.000000  22408.000000   \n",
       "\n",
       "             VRDeck  \n",
       "count   6764.000000  \n",
       "mean     303.027055  \n",
       "std     1125.732200  \n",
       "min        0.000000  \n",
       "25%        0.000000  \n",
       "50%        0.000000  \n",
       "75%       50.250000  \n",
       "max    20336.000000  "
      ]
     },
     "execution_count": 13,
     "metadata": {},
     "output_type": "execute_result"
    }
   ],
   "source": [
    "df.dropna().describe()"
   ]
  },
  {
   "cell_type": "markdown",
   "id": "4c0f629f",
   "metadata": {
    "papermill": {
     "duration": 0.055711,
     "end_time": "2022-04-04T00:01:06.706056",
     "exception": false,
     "start_time": "2022-04-04T00:01:06.650345",
     "status": "completed"
    },
    "tags": []
   },
   "source": [
    "수치값의 분포도"
   ]
  },
  {
   "cell_type": "code",
   "execution_count": 14,
   "id": "5d9ebc6d",
   "metadata": {
    "execution": {
     "iopub.execute_input": "2022-04-04T00:01:06.821818Z",
     "iopub.status.busy": "2022-04-04T00:01:06.820824Z",
     "iopub.status.idle": "2022-04-04T00:01:06.830622Z",
     "shell.execute_reply": "2022-04-04T00:01:06.831175Z",
     "shell.execute_reply.started": "2022-04-04T00:00:33.708003Z"
    },
    "papermill": {
     "duration": 0.069268,
     "end_time": "2022-04-04T00:01:06.831347",
     "exception": false,
     "start_time": "2022-04-04T00:01:06.762079",
     "status": "completed"
    },
    "tags": []
   },
   "outputs": [
    {
     "data": {
      "text/plain": [
       "Age              11.423771\n",
       "RoomService     347.127496\n",
       "FoodCourt       719.533919\n",
       "ShoppingMall    272.878338\n",
       "Spa             486.902759\n",
       "VRDeck          481.048454\n",
       "Transported       0.499974\n",
       "dtype: float64"
      ]
     },
     "execution_count": 14,
     "metadata": {},
     "output_type": "execute_result"
    }
   ],
   "source": [
    "df.mad()"
   ]
  },
  {
   "cell_type": "code",
   "execution_count": 15,
   "id": "e860439b",
   "metadata": {
    "execution": {
     "iopub.execute_input": "2022-04-04T00:01:06.962634Z",
     "iopub.status.busy": "2022-04-04T00:01:06.961929Z",
     "iopub.status.idle": "2022-04-04T00:01:06.990335Z",
     "shell.execute_reply": "2022-04-04T00:01:06.990849Z",
     "shell.execute_reply.started": "2022-04-04T00:00:33.723464Z"
    },
    "papermill": {
     "duration": 0.100032,
     "end_time": "2022-04-04T00:01:06.991030",
     "exception": false,
     "start_time": "2022-04-04T00:01:06.890998",
     "status": "completed"
    },
    "tags": []
   },
   "outputs": [
    {
     "data": {
      "text/html": [
       "<div>\n",
       "<style scoped>\n",
       "    .dataframe tbody tr th:only-of-type {\n",
       "        vertical-align: middle;\n",
       "    }\n",
       "\n",
       "    .dataframe tbody tr th {\n",
       "        vertical-align: top;\n",
       "    }\n",
       "\n",
       "    .dataframe thead th {\n",
       "        text-align: right;\n",
       "    }\n",
       "</style>\n",
       "<table border=\"1\" class=\"dataframe\">\n",
       "  <thead>\n",
       "    <tr style=\"text-align: right;\">\n",
       "      <th></th>\n",
       "      <th>Age</th>\n",
       "      <th>RoomService</th>\n",
       "      <th>FoodCourt</th>\n",
       "      <th>ShoppingMall</th>\n",
       "      <th>Spa</th>\n",
       "      <th>VRDeck</th>\n",
       "    </tr>\n",
       "  </thead>\n",
       "  <tbody>\n",
       "    <tr>\n",
       "      <th>count</th>\n",
       "      <td>4186.000000</td>\n",
       "      <td>4195.000000</td>\n",
       "      <td>4171.000000</td>\n",
       "      <td>4179.000000</td>\n",
       "      <td>4176.000000</td>\n",
       "      <td>4197.000000</td>\n",
       "    </tr>\n",
       "    <tr>\n",
       "      <th>mean</th>\n",
       "      <td>28.658146</td>\n",
       "      <td>219.266269</td>\n",
       "      <td>439.484296</td>\n",
       "      <td>177.295525</td>\n",
       "      <td>303.052443</td>\n",
       "      <td>310.710031</td>\n",
       "    </tr>\n",
       "    <tr>\n",
       "      <th>std</th>\n",
       "      <td>14.179072</td>\n",
       "      <td>607.011289</td>\n",
       "      <td>1527.663045</td>\n",
       "      <td>560.821123</td>\n",
       "      <td>1117.186015</td>\n",
       "      <td>1246.994742</td>\n",
       "    </tr>\n",
       "    <tr>\n",
       "      <th>min</th>\n",
       "      <td>0.000000</td>\n",
       "      <td>0.000000</td>\n",
       "      <td>0.000000</td>\n",
       "      <td>0.000000</td>\n",
       "      <td>0.000000</td>\n",
       "      <td>0.000000</td>\n",
       "    </tr>\n",
       "    <tr>\n",
       "      <th>25%</th>\n",
       "      <td>19.000000</td>\n",
       "      <td>0.000000</td>\n",
       "      <td>0.000000</td>\n",
       "      <td>0.000000</td>\n",
       "      <td>0.000000</td>\n",
       "      <td>0.000000</td>\n",
       "    </tr>\n",
       "    <tr>\n",
       "      <th>50%</th>\n",
       "      <td>26.000000</td>\n",
       "      <td>0.000000</td>\n",
       "      <td>0.000000</td>\n",
       "      <td>0.000000</td>\n",
       "      <td>0.000000</td>\n",
       "      <td>0.000000</td>\n",
       "    </tr>\n",
       "    <tr>\n",
       "      <th>75%</th>\n",
       "      <td>37.000000</td>\n",
       "      <td>53.000000</td>\n",
       "      <td>78.000000</td>\n",
       "      <td>33.000000</td>\n",
       "      <td>50.000000</td>\n",
       "      <td>36.000000</td>\n",
       "    </tr>\n",
       "    <tr>\n",
       "      <th>max</th>\n",
       "      <td>79.000000</td>\n",
       "      <td>11567.000000</td>\n",
       "      <td>25273.000000</td>\n",
       "      <td>8292.000000</td>\n",
       "      <td>19844.000000</td>\n",
       "      <td>22272.000000</td>\n",
       "    </tr>\n",
       "  </tbody>\n",
       "</table>\n",
       "</div>"
      ],
      "text/plain": [
       "               Age   RoomService     FoodCourt  ShoppingMall           Spa  \\\n",
       "count  4186.000000   4195.000000   4171.000000   4179.000000   4176.000000   \n",
       "mean     28.658146    219.266269    439.484296    177.295525    303.052443   \n",
       "std      14.179072    607.011289   1527.663045    560.821123   1117.186015   \n",
       "min       0.000000      0.000000      0.000000      0.000000      0.000000   \n",
       "25%      19.000000      0.000000      0.000000      0.000000      0.000000   \n",
       "50%      26.000000      0.000000      0.000000      0.000000      0.000000   \n",
       "75%      37.000000     53.000000     78.000000     33.000000     50.000000   \n",
       "max      79.000000  11567.000000  25273.000000   8292.000000  19844.000000   \n",
       "\n",
       "             VRDeck  \n",
       "count   4197.000000  \n",
       "mean     310.710031  \n",
       "std     1246.994742  \n",
       "min        0.000000  \n",
       "25%        0.000000  \n",
       "50%        0.000000  \n",
       "75%       36.000000  \n",
       "max    22272.000000  "
      ]
     },
     "execution_count": 15,
     "metadata": {},
     "output_type": "execute_result"
    }
   ],
   "source": [
    "test.describe()"
   ]
  },
  {
   "cell_type": "code",
   "execution_count": 16,
   "id": "ae717491",
   "metadata": {
    "execution": {
     "iopub.execute_input": "2022-04-04T00:01:07.108193Z",
     "iopub.status.busy": "2022-04-04T00:01:07.107444Z",
     "iopub.status.idle": "2022-04-04T00:01:07.140161Z",
     "shell.execute_reply": "2022-04-04T00:01:07.140679Z",
     "shell.execute_reply.started": "2022-04-04T00:00:33.762907Z"
    },
    "papermill": {
     "duration": 0.092793,
     "end_time": "2022-04-04T00:01:07.140875",
     "exception": false,
     "start_time": "2022-04-04T00:01:07.048082",
     "status": "completed"
    },
    "tags": []
   },
   "outputs": [
    {
     "data": {
      "text/html": [
       "<div>\n",
       "<style scoped>\n",
       "    .dataframe tbody tr th:only-of-type {\n",
       "        vertical-align: middle;\n",
       "    }\n",
       "\n",
       "    .dataframe tbody tr th {\n",
       "        vertical-align: top;\n",
       "    }\n",
       "\n",
       "    .dataframe thead th {\n",
       "        text-align: right;\n",
       "    }\n",
       "</style>\n",
       "<table border=\"1\" class=\"dataframe\">\n",
       "  <thead>\n",
       "    <tr style=\"text-align: right;\">\n",
       "      <th></th>\n",
       "      <th>Age</th>\n",
       "      <th>RoomService</th>\n",
       "      <th>FoodCourt</th>\n",
       "      <th>ShoppingMall</th>\n",
       "      <th>Spa</th>\n",
       "      <th>VRDeck</th>\n",
       "    </tr>\n",
       "  </thead>\n",
       "  <tbody>\n",
       "    <tr>\n",
       "      <th>count</th>\n",
       "      <td>3363.000000</td>\n",
       "      <td>3363.000000</td>\n",
       "      <td>3363.000000</td>\n",
       "      <td>3363.000000</td>\n",
       "      <td>3363.000000</td>\n",
       "      <td>3363.000000</td>\n",
       "    </tr>\n",
       "    <tr>\n",
       "      <th>mean</th>\n",
       "      <td>28.579542</td>\n",
       "      <td>218.546238</td>\n",
       "      <td>440.907820</td>\n",
       "      <td>174.109129</td>\n",
       "      <td>295.613738</td>\n",
       "      <td>297.090395</td>\n",
       "    </tr>\n",
       "    <tr>\n",
       "      <th>std</th>\n",
       "      <td>14.134851</td>\n",
       "      <td>614.659868</td>\n",
       "      <td>1489.409098</td>\n",
       "      <td>564.958573</td>\n",
       "      <td>1080.348991</td>\n",
       "      <td>1160.496856</td>\n",
       "    </tr>\n",
       "    <tr>\n",
       "      <th>min</th>\n",
       "      <td>0.000000</td>\n",
       "      <td>0.000000</td>\n",
       "      <td>0.000000</td>\n",
       "      <td>0.000000</td>\n",
       "      <td>0.000000</td>\n",
       "      <td>0.000000</td>\n",
       "    </tr>\n",
       "    <tr>\n",
       "      <th>25%</th>\n",
       "      <td>19.000000</td>\n",
       "      <td>0.000000</td>\n",
       "      <td>0.000000</td>\n",
       "      <td>0.000000</td>\n",
       "      <td>0.000000</td>\n",
       "      <td>0.000000</td>\n",
       "    </tr>\n",
       "    <tr>\n",
       "      <th>50%</th>\n",
       "      <td>26.000000</td>\n",
       "      <td>0.000000</td>\n",
       "      <td>0.000000</td>\n",
       "      <td>0.000000</td>\n",
       "      <td>0.000000</td>\n",
       "      <td>0.000000</td>\n",
       "    </tr>\n",
       "    <tr>\n",
       "      <th>75%</th>\n",
       "      <td>37.000000</td>\n",
       "      <td>51.000000</td>\n",
       "      <td>78.000000</td>\n",
       "      <td>29.500000</td>\n",
       "      <td>50.000000</td>\n",
       "      <td>35.500000</td>\n",
       "    </tr>\n",
       "    <tr>\n",
       "      <th>max</th>\n",
       "      <td>79.000000</td>\n",
       "      <td>11567.000000</td>\n",
       "      <td>20809.000000</td>\n",
       "      <td>8292.000000</td>\n",
       "      <td>15733.000000</td>\n",
       "      <td>19086.000000</td>\n",
       "    </tr>\n",
       "  </tbody>\n",
       "</table>\n",
       "</div>"
      ],
      "text/plain": [
       "               Age   RoomService     FoodCourt  ShoppingMall           Spa  \\\n",
       "count  3363.000000   3363.000000   3363.000000   3363.000000   3363.000000   \n",
       "mean     28.579542    218.546238    440.907820    174.109129    295.613738   \n",
       "std      14.134851    614.659868   1489.409098    564.958573   1080.348991   \n",
       "min       0.000000      0.000000      0.000000      0.000000      0.000000   \n",
       "25%      19.000000      0.000000      0.000000      0.000000      0.000000   \n",
       "50%      26.000000      0.000000      0.000000      0.000000      0.000000   \n",
       "75%      37.000000     51.000000     78.000000     29.500000     50.000000   \n",
       "max      79.000000  11567.000000  20809.000000   8292.000000  15733.000000   \n",
       "\n",
       "             VRDeck  \n",
       "count   3363.000000  \n",
       "mean     297.090395  \n",
       "std     1160.496856  \n",
       "min        0.000000  \n",
       "25%        0.000000  \n",
       "50%        0.000000  \n",
       "75%       35.500000  \n",
       "max    19086.000000  "
      ]
     },
     "execution_count": 16,
     "metadata": {},
     "output_type": "execute_result"
    }
   ],
   "source": [
    "test.dropna().describe()"
   ]
  },
  {
   "cell_type": "code",
   "execution_count": 17,
   "id": "a6e7430f",
   "metadata": {
    "execution": {
     "iopub.execute_input": "2022-04-04T00:01:07.257558Z",
     "iopub.status.busy": "2022-04-04T00:01:07.256842Z",
     "iopub.status.idle": "2022-04-04T00:01:07.264844Z",
     "shell.execute_reply": "2022-04-04T00:01:07.265332Z",
     "shell.execute_reply.started": "2022-04-04T00:00:33.806350Z"
    },
    "papermill": {
     "duration": 0.067621,
     "end_time": "2022-04-04T00:01:07.265520",
     "exception": false,
     "start_time": "2022-04-04T00:01:07.197899",
     "status": "completed"
    },
    "tags": []
   },
   "outputs": [
    {
     "data": {
      "text/plain": [
       "Age              11.174915\n",
       "RoomService     337.293629\n",
       "FoodCourt       686.754710\n",
       "ShoppingMall    277.442969\n",
       "Spa             474.830575\n",
       "VRDeck          496.591031\n",
       "dtype: float64"
      ]
     },
     "execution_count": 17,
     "metadata": {},
     "output_type": "execute_result"
    }
   ],
   "source": [
    "test.mad()"
   ]
  },
  {
   "cell_type": "markdown",
   "id": "657fce41",
   "metadata": {
    "papermill": {
     "duration": 0.055912,
     "end_time": "2022-04-04T00:01:07.378267",
     "exception": false,
     "start_time": "2022-04-04T00:01:07.322355",
     "status": "completed"
    },
    "tags": []
   },
   "source": [
    "### 결측치 확인과 제거\n",
    " - df, test"
   ]
  },
  {
   "cell_type": "code",
   "execution_count": 18,
   "id": "a491cc99",
   "metadata": {
    "execution": {
     "iopub.execute_input": "2022-04-04T00:01:07.494331Z",
     "iopub.status.busy": "2022-04-04T00:01:07.493509Z",
     "iopub.status.idle": "2022-04-04T00:01:07.506294Z",
     "shell.execute_reply": "2022-04-04T00:01:07.506766Z",
     "shell.execute_reply.started": "2022-04-04T00:00:33.822009Z"
    },
    "papermill": {
     "duration": 0.072678,
     "end_time": "2022-04-04T00:01:07.506949",
     "exception": false,
     "start_time": "2022-04-04T00:01:07.434271",
     "status": "completed"
    },
    "tags": []
   },
   "outputs": [
    {
     "data": {
      "text/plain": [
       "PassengerId       0\n",
       "HomePlanet      201\n",
       "CryoSleep       217\n",
       "Destination     182\n",
       "Age             179\n",
       "VIP             203\n",
       "RoomService     181\n",
       "FoodCourt       183\n",
       "ShoppingMall    208\n",
       "Spa             183\n",
       "VRDeck          188\n",
       "Name            200\n",
       "Transported       0\n",
       "dtype: int64"
      ]
     },
     "execution_count": 18,
     "metadata": {},
     "output_type": "execute_result"
    }
   ],
   "source": [
    "df.isnull().sum()"
   ]
  },
  {
   "cell_type": "code",
   "execution_count": 19,
   "id": "5050c457",
   "metadata": {
    "execution": {
     "iopub.execute_input": "2022-04-04T00:01:07.623712Z",
     "iopub.status.busy": "2022-04-04T00:01:07.622970Z",
     "iopub.status.idle": "2022-04-04T00:01:07.636410Z",
     "shell.execute_reply": "2022-04-04T00:01:07.636913Z",
     "shell.execute_reply.started": "2022-04-04T00:00:33.845524Z"
    },
    "papermill": {
     "duration": 0.073438,
     "end_time": "2022-04-04T00:01:07.637122",
     "exception": false,
     "start_time": "2022-04-04T00:01:07.563684",
     "status": "completed"
    },
    "tags": []
   },
   "outputs": [
    {
     "data": {
      "text/plain": [
       "PassengerId       0\n",
       "HomePlanet      201\n",
       "CryoSleep       217\n",
       "Destination     182\n",
       "Age             179\n",
       "VIP             203\n",
       "RoomService     181\n",
       "FoodCourt       183\n",
       "ShoppingMall    208\n",
       "Spa             183\n",
       "VRDeck          188\n",
       "Name            200\n",
       "Transported       0\n",
       "dtype: int64"
      ]
     },
     "execution_count": 19,
     "metadata": {},
     "output_type": "execute_result"
    }
   ],
   "source": [
    "df.isnull().sum()"
   ]
  },
  {
   "cell_type": "code",
   "execution_count": 20,
   "id": "d845d121",
   "metadata": {
    "execution": {
     "iopub.execute_input": "2022-04-04T00:01:07.760943Z",
     "iopub.status.busy": "2022-04-04T00:01:07.760248Z",
     "iopub.status.idle": "2022-04-04T00:01:07.767644Z",
     "shell.execute_reply": "2022-04-04T00:01:07.766961Z",
     "shell.execute_reply.started": "2022-04-04T00:00:33.866855Z"
    },
    "papermill": {
     "duration": 0.071852,
     "end_time": "2022-04-04T00:01:07.767787",
     "exception": false,
     "start_time": "2022-04-04T00:01:07.695935",
     "status": "completed"
    },
    "tags": []
   },
   "outputs": [
    {
     "data": {
      "text/plain": [
       "PassengerId       0\n",
       "HomePlanet       87\n",
       "CryoSleep        93\n",
       "Destination      92\n",
       "Age              91\n",
       "VIP              93\n",
       "RoomService      82\n",
       "FoodCourt       106\n",
       "ShoppingMall     98\n",
       "Spa             101\n",
       "VRDeck           80\n",
       "Name             94\n",
       "dtype: int64"
      ]
     },
     "execution_count": 20,
     "metadata": {},
     "output_type": "execute_result"
    }
   ],
   "source": [
    "test.isnull().sum()"
   ]
  },
  {
   "cell_type": "code",
   "execution_count": null,
   "id": "2eaf0162",
   "metadata": {
    "papermill": {
     "duration": 0.057727,
     "end_time": "2022-04-04T00:01:07.882877",
     "exception": false,
     "start_time": "2022-04-04T00:01:07.825150",
     "status": "completed"
    },
    "tags": []
   },
   "outputs": [],
   "source": []
  },
  {
   "cell_type": "code",
   "execution_count": 21,
   "id": "d2eb68dc",
   "metadata": {
    "execution": {
     "iopub.execute_input": "2022-04-04T00:01:08.008923Z",
     "iopub.status.busy": "2022-04-04T00:01:08.007779Z",
     "iopub.status.idle": "2022-04-04T00:01:08.024695Z",
     "shell.execute_reply": "2022-04-04T00:01:08.025278Z",
     "shell.execute_reply.started": "2022-04-04T00:00:33.886447Z"
    },
    "papermill": {
     "duration": 0.08483,
     "end_time": "2022-04-04T00:01:08.025457",
     "exception": false,
     "start_time": "2022-04-04T00:01:07.940627",
     "status": "completed"
    },
    "tags": []
   },
   "outputs": [
    {
     "data": {
      "text/html": [
       "<div>\n",
       "<style scoped>\n",
       "    .dataframe tbody tr th:only-of-type {\n",
       "        vertical-align: middle;\n",
       "    }\n",
       "\n",
       "    .dataframe tbody tr th {\n",
       "        vertical-align: top;\n",
       "    }\n",
       "\n",
       "    .dataframe thead th {\n",
       "        text-align: right;\n",
       "    }\n",
       "</style>\n",
       "<table border=\"1\" class=\"dataframe\">\n",
       "  <thead>\n",
       "    <tr style=\"text-align: right;\">\n",
       "      <th></th>\n",
       "      <th>PassengerId</th>\n",
       "      <th>HomePlanet</th>\n",
       "      <th>CryoSleep</th>\n",
       "      <th>Destination</th>\n",
       "      <th>Age</th>\n",
       "      <th>RoomService</th>\n",
       "      <th>FoodCourt</th>\n",
       "      <th>ShoppingMall</th>\n",
       "      <th>Spa</th>\n",
       "      <th>VRDeck</th>\n",
       "      <th>Name</th>\n",
       "      <th>Transported</th>\n",
       "    </tr>\n",
       "    <tr>\n",
       "      <th>VIP</th>\n",
       "      <th></th>\n",
       "      <th></th>\n",
       "      <th></th>\n",
       "      <th></th>\n",
       "      <th></th>\n",
       "      <th></th>\n",
       "      <th></th>\n",
       "      <th></th>\n",
       "      <th></th>\n",
       "      <th></th>\n",
       "      <th></th>\n",
       "      <th></th>\n",
       "    </tr>\n",
       "  </thead>\n",
       "  <tbody>\n",
       "    <tr>\n",
       "      <th>False</th>\n",
       "      <td>8291</td>\n",
       "      <td>8098</td>\n",
       "      <td>8084</td>\n",
       "      <td>8115</td>\n",
       "      <td>8119</td>\n",
       "      <td>8118</td>\n",
       "      <td>8118</td>\n",
       "      <td>8092</td>\n",
       "      <td>8112</td>\n",
       "      <td>8108</td>\n",
       "      <td>8095</td>\n",
       "      <td>8291</td>\n",
       "    </tr>\n",
       "    <tr>\n",
       "      <th>True</th>\n",
       "      <td>199</td>\n",
       "      <td>194</td>\n",
       "      <td>196</td>\n",
       "      <td>197</td>\n",
       "      <td>198</td>\n",
       "      <td>195</td>\n",
       "      <td>193</td>\n",
       "      <td>194</td>\n",
       "      <td>197</td>\n",
       "      <td>195</td>\n",
       "      <td>196</td>\n",
       "      <td>199</td>\n",
       "    </tr>\n",
       "  </tbody>\n",
       "</table>\n",
       "</div>"
      ],
      "text/plain": [
       "       PassengerId  HomePlanet  CryoSleep  Destination   Age  RoomService  \\\n",
       "VIP                                                                         \n",
       "False         8291        8098       8084         8115  8119         8118   \n",
       "True           199         194        196          197   198          195   \n",
       "\n",
       "       FoodCourt  ShoppingMall   Spa  VRDeck  Name  Transported  \n",
       "VIP                                                              \n",
       "False       8118          8092  8112    8108  8095         8291  \n",
       "True         193           194   197     195   196          199  "
      ]
     },
     "execution_count": 21,
     "metadata": {},
     "output_type": "execute_result"
    }
   ],
   "source": [
    "df.groupby('VIP').count()"
   ]
  },
  {
   "cell_type": "code",
   "execution_count": 22,
   "id": "c5c72381",
   "metadata": {
    "execution": {
     "iopub.execute_input": "2022-04-04T00:01:08.146456Z",
     "iopub.status.busy": "2022-04-04T00:01:08.145408Z",
     "iopub.status.idle": "2022-04-04T00:01:08.459266Z",
     "shell.execute_reply": "2022-04-04T00:01:08.458494Z",
     "shell.execute_reply.started": "2022-04-04T00:00:33.917257Z"
    },
    "papermill": {
     "duration": 0.375126,
     "end_time": "2022-04-04T00:01:08.459433",
     "exception": false,
     "start_time": "2022-04-04T00:01:08.084307",
     "status": "completed"
    },
    "tags": []
   },
   "outputs": [
    {
     "data": {
      "image/png": "[encoded data removed]",
      "text/plain": [
       "<Figure size 432x288 with 1 Axes>"
      ]
     },
     "metadata": {},
     "output_type": "display_data"
    }
   ],
   "source": [
    "sns.countplot(y='VIP', data=df);"
   ]
  },
  {
   "cell_type": "markdown",
   "id": "b7d9a847",
   "metadata": {
    "papermill": {
     "duration": 0.058814,
     "end_time": "2022-04-04T00:01:08.578525",
     "exception": false,
     "start_time": "2022-04-04T00:01:08.519711",
     "status": "completed"
    },
    "tags": []
   },
   "source": [
    "- 저온 수면을 안한 사람이 많음"
   ]
  },
  {
   "cell_type": "code",
   "execution_count": 23,
   "id": "e17e24d5",
   "metadata": {
    "execution": {
     "iopub.execute_input": "2022-04-04T00:01:08.703681Z",
     "iopub.status.busy": "2022-04-04T00:01:08.702696Z",
     "iopub.status.idle": "2022-04-04T00:01:08.721886Z",
     "shell.execute_reply": "2022-04-04T00:01:08.722407Z",
     "shell.execute_reply.started": "2022-04-04T00:00:34.224044Z"
    },
    "papermill": {
     "duration": 0.085191,
     "end_time": "2022-04-04T00:01:08.722589",
     "exception": false,
     "start_time": "2022-04-04T00:01:08.637398",
     "status": "completed"
    },
    "tags": []
   },
   "outputs": [
    {
     "data": {
      "text/html": [
       "<div>\n",
       "<style scoped>\n",
       "    .dataframe tbody tr th:only-of-type {\n",
       "        vertical-align: middle;\n",
       "    }\n",
       "\n",
       "    .dataframe tbody tr th {\n",
       "        vertical-align: top;\n",
       "    }\n",
       "\n",
       "    .dataframe thead th {\n",
       "        text-align: right;\n",
       "    }\n",
       "</style>\n",
       "<table border=\"1\" class=\"dataframe\">\n",
       "  <thead>\n",
       "    <tr style=\"text-align: right;\">\n",
       "      <th></th>\n",
       "      <th>PassengerId</th>\n",
       "      <th>HomePlanet</th>\n",
       "      <th>Destination</th>\n",
       "      <th>Age</th>\n",
       "      <th>VIP</th>\n",
       "      <th>RoomService</th>\n",
       "      <th>FoodCourt</th>\n",
       "      <th>ShoppingMall</th>\n",
       "      <th>Spa</th>\n",
       "      <th>VRDeck</th>\n",
       "      <th>Name</th>\n",
       "      <th>Transported</th>\n",
       "    </tr>\n",
       "    <tr>\n",
       "      <th>CryoSleep</th>\n",
       "      <th></th>\n",
       "      <th></th>\n",
       "      <th></th>\n",
       "      <th></th>\n",
       "      <th></th>\n",
       "      <th></th>\n",
       "      <th></th>\n",
       "      <th></th>\n",
       "      <th></th>\n",
       "      <th></th>\n",
       "      <th></th>\n",
       "      <th></th>\n",
       "    </tr>\n",
       "  </thead>\n",
       "  <tbody>\n",
       "    <tr>\n",
       "      <th>False</th>\n",
       "      <td>5439</td>\n",
       "      <td>5315</td>\n",
       "      <td>5309</td>\n",
       "      <td>5343</td>\n",
       "      <td>5318</td>\n",
       "      <td>5328</td>\n",
       "      <td>5329</td>\n",
       "      <td>5335</td>\n",
       "      <td>5326</td>\n",
       "      <td>5320</td>\n",
       "      <td>5311</td>\n",
       "      <td>5439</td>\n",
       "    </tr>\n",
       "    <tr>\n",
       "      <th>True</th>\n",
       "      <td>3037</td>\n",
       "      <td>2962</td>\n",
       "      <td>2989</td>\n",
       "      <td>2955</td>\n",
       "      <td>2962</td>\n",
       "      <td>2969</td>\n",
       "      <td>2967</td>\n",
       "      <td>2941</td>\n",
       "      <td>2972</td>\n",
       "      <td>2975</td>\n",
       "      <td>2975</td>\n",
       "      <td>3037</td>\n",
       "    </tr>\n",
       "  </tbody>\n",
       "</table>\n",
       "</div>"
      ],
      "text/plain": [
       "           PassengerId  HomePlanet  Destination   Age   VIP  RoomService  \\\n",
       "CryoSleep                                                                  \n",
       "False             5439        5315         5309  5343  5318         5328   \n",
       "True              3037        2962         2989  2955  2962         2969   \n",
       "\n",
       "           FoodCourt  ShoppingMall   Spa  VRDeck  Name  Transported  \n",
       "CryoSleep                                                            \n",
       "False           5329          5335  5326    5320  5311         5439  \n",
       "True            2967          2941  2972    2975  2975         3037  "
      ]
     },
     "execution_count": 23,
     "metadata": {},
     "output_type": "execute_result"
    }
   ],
   "source": [
    "df.groupby('CryoSleep').count()"
   ]
  },
  {
   "cell_type": "code",
   "execution_count": 24,
   "id": "7f7ea552",
   "metadata": {
    "execution": {
     "iopub.execute_input": "2022-04-04T00:01:08.849985Z",
     "iopub.status.busy": "2022-04-04T00:01:08.849004Z",
     "iopub.status.idle": "2022-04-04T00:01:09.067890Z",
     "shell.execute_reply": "2022-04-04T00:01:09.067288Z",
     "shell.execute_reply.started": "2022-04-04T00:00:34.256884Z"
    },
    "papermill": {
     "duration": 0.286402,
     "end_time": "2022-04-04T00:01:09.068029",
     "exception": false,
     "start_time": "2022-04-04T00:01:08.781627",
     "status": "completed"
    },
    "tags": []
   },
   "outputs": [
    {
     "data": {
      "image/png": "[encoded data removed]",
      "text/plain": [
       "<Figure size 432x288 with 1 Axes>"
      ]
     },
     "metadata": {},
     "output_type": "display_data"
    }
   ],
   "source": [
    "sns.countplot(y='CryoSleep', data=df);"
   ]
  },
  {
   "cell_type": "markdown",
   "id": "bb883bc6",
   "metadata": {
    "papermill": {
     "duration": 0.059433,
     "end_time": "2022-04-04T00:01:09.187752",
     "exception": false,
     "start_time": "2022-04-04T00:01:09.128319",
     "status": "completed"
    },
    "tags": []
   },
   "source": [
    "Transported는 수가 비슷함."
   ]
  },
  {
   "cell_type": "code",
   "execution_count": 25,
   "id": "179304f5",
   "metadata": {
    "execution": {
     "iopub.execute_input": "2022-04-04T00:01:09.317654Z",
     "iopub.status.busy": "2022-04-04T00:01:09.316933Z",
     "iopub.status.idle": "2022-04-04T00:01:09.335924Z",
     "shell.execute_reply": "2022-04-04T00:01:09.336457Z",
     "shell.execute_reply.started": "2022-04-04T00:00:34.535978Z"
    },
    "papermill": {
     "duration": 0.088788,
     "end_time": "2022-04-04T00:01:09.336631",
     "exception": false,
     "start_time": "2022-04-04T00:01:09.247843",
     "status": "completed"
    },
    "tags": []
   },
   "outputs": [
    {
     "data": {
      "text/html": [
       "<div>\n",
       "<style scoped>\n",
       "    .dataframe tbody tr th:only-of-type {\n",
       "        vertical-align: middle;\n",
       "    }\n",
       "\n",
       "    .dataframe tbody tr th {\n",
       "        vertical-align: top;\n",
       "    }\n",
       "\n",
       "    .dataframe thead th {\n",
       "        text-align: right;\n",
       "    }\n",
       "</style>\n",
       "<table border=\"1\" class=\"dataframe\">\n",
       "  <thead>\n",
       "    <tr style=\"text-align: right;\">\n",
       "      <th></th>\n",
       "      <th>PassengerId</th>\n",
       "      <th>HomePlanet</th>\n",
       "      <th>CryoSleep</th>\n",
       "      <th>Destination</th>\n",
       "      <th>Age</th>\n",
       "      <th>VIP</th>\n",
       "      <th>RoomService</th>\n",
       "      <th>FoodCourt</th>\n",
       "      <th>ShoppingMall</th>\n",
       "      <th>Spa</th>\n",
       "      <th>VRDeck</th>\n",
       "      <th>Name</th>\n",
       "    </tr>\n",
       "    <tr>\n",
       "      <th>Transported</th>\n",
       "      <th></th>\n",
       "      <th></th>\n",
       "      <th></th>\n",
       "      <th></th>\n",
       "      <th></th>\n",
       "      <th></th>\n",
       "      <th></th>\n",
       "      <th></th>\n",
       "      <th></th>\n",
       "      <th></th>\n",
       "      <th></th>\n",
       "      <th></th>\n",
       "    </tr>\n",
       "  </thead>\n",
       "  <tbody>\n",
       "    <tr>\n",
       "      <th>False</th>\n",
       "      <td>4315</td>\n",
       "      <td>4217</td>\n",
       "      <td>4204</td>\n",
       "      <td>4225</td>\n",
       "      <td>4226</td>\n",
       "      <td>4216</td>\n",
       "      <td>4217</td>\n",
       "      <td>4231</td>\n",
       "      <td>4221</td>\n",
       "      <td>4223</td>\n",
       "      <td>4225</td>\n",
       "      <td>4216</td>\n",
       "    </tr>\n",
       "    <tr>\n",
       "      <th>True</th>\n",
       "      <td>4378</td>\n",
       "      <td>4275</td>\n",
       "      <td>4272</td>\n",
       "      <td>4286</td>\n",
       "      <td>4288</td>\n",
       "      <td>4274</td>\n",
       "      <td>4295</td>\n",
       "      <td>4279</td>\n",
       "      <td>4264</td>\n",
       "      <td>4287</td>\n",
       "      <td>4280</td>\n",
       "      <td>4277</td>\n",
       "    </tr>\n",
       "  </tbody>\n",
       "</table>\n",
       "</div>"
      ],
      "text/plain": [
       "             PassengerId  HomePlanet  CryoSleep  Destination   Age   VIP  \\\n",
       "Transported                                                                \n",
       "False               4315        4217       4204         4225  4226  4216   \n",
       "True                4378        4275       4272         4286  4288  4274   \n",
       "\n",
       "             RoomService  FoodCourt  ShoppingMall   Spa  VRDeck  Name  \n",
       "Transported                                                            \n",
       "False               4217       4231          4221  4223    4225  4216  \n",
       "True                4295       4279          4264  4287    4280  4277  "
      ]
     },
     "execution_count": 25,
     "metadata": {},
     "output_type": "execute_result"
    }
   ],
   "source": [
    "df.groupby('Transported').count()"
   ]
  },
  {
   "cell_type": "code",
   "execution_count": 26,
   "id": "38389776",
   "metadata": {
    "execution": {
     "iopub.execute_input": "2022-04-04T00:01:09.470663Z",
     "iopub.status.busy": "2022-04-04T00:01:09.469976Z",
     "iopub.status.idle": "2022-04-04T00:01:09.473174Z",
     "shell.execute_reply": "2022-04-04T00:01:09.473722Z",
     "shell.execute_reply.started": "2022-04-04T00:00:34.562092Z"
    },
    "papermill": {
     "duration": 0.074562,
     "end_time": "2022-04-04T00:01:09.473898",
     "exception": false,
     "start_time": "2022-04-04T00:01:09.399336",
     "status": "completed"
    },
    "tags": []
   },
   "outputs": [
    {
     "data": {
      "text/plain": [
       "24.0    324\n",
       "18.0    320\n",
       "21.0    311\n",
       "19.0    293\n",
       "23.0    292\n",
       "       ... \n",
       "72.0      4\n",
       "78.0      3\n",
       "79.0      3\n",
       "76.0      2\n",
       "77.0      2\n",
       "Name: Age, Length: 80, dtype: int64"
      ]
     },
     "execution_count": 26,
     "metadata": {},
     "output_type": "execute_result"
    }
   ],
   "source": [
    "df['Age'].value_counts()"
   ]
  },
  {
   "cell_type": "markdown",
   "id": "f3488869",
   "metadata": {
    "papermill": {
     "duration": 0.061124,
     "end_time": "2022-04-04T00:01:09.597205",
     "exception": false,
     "start_time": "2022-04-04T00:01:09.536081",
     "status": "completed"
    },
    "tags": []
   },
   "source": [
    "# 시각화\n",
    " - Transported 와 FoodCourt 관계성\n",
    " - VIP 와 RoomService 관계성\n",
    " - 생존과 저온수면 그리고 나이 따른 그래프"
   ]
  },
  {
   "cell_type": "markdown",
   "id": "203bf70a",
   "metadata": {
    "papermill": {
     "duration": 0.062595,
     "end_time": "2022-04-04T00:01:09.721909",
     "exception": false,
     "start_time": "2022-04-04T00:01:09.659314",
     "status": "completed"
    },
    "tags": []
   },
   "source": [
    "- 탑승객은 약 18세 ~ 37세가 가장 많았고, VIP도 많았음을 age value counts와 그래프를 통해 알 수 있다.\n",
    "- 남은 40대 이후 부터는 탑승객이 적기에 VIP의 수도 적어짐을 확인 할 수 있다. \n"
   ]
  },
  {
   "cell_type": "code",
   "execution_count": 27,
   "id": "6dc17afc",
   "metadata": {
    "execution": {
     "iopub.execute_input": "2022-04-04T00:01:09.872641Z",
     "iopub.status.busy": "2022-04-04T00:01:09.861962Z",
     "iopub.status.idle": "2022-04-04T00:01:10.238681Z",
     "shell.execute_reply": "2022-04-04T00:01:10.238128Z",
     "shell.execute_reply.started": "2022-04-04T00:00:34.573526Z"
    },
    "papermill": {
     "duration": 0.453225,
     "end_time": "2022-04-04T00:01:10.238826",
     "exception": false,
     "start_time": "2022-04-04T00:01:09.785601",
     "status": "completed"
    },
    "tags": []
   },
   "outputs": [
    {
     "data": {
      "text/plain": [
       "<seaborn.axisgrid.FacetGrid at 0x7fae08e2d490>"
      ]
     },
     "execution_count": 27,
     "metadata": {},
     "output_type": "execute_result"
    },
    {
     "data": {
      "image/png": "[encoded data removed]",
      "text/plain": [
       "<Figure size 360x360 with 1 Axes>"
      ]
     },
     "metadata": {},
     "output_type": "display_data"
    }
   ],
   "source": [
    "sns.catplot(x='VIP', y='Age', data=df)"
   ]
  },
  {
   "cell_type": "code",
   "execution_count": 28,
   "id": "9e53229a",
   "metadata": {
    "execution": {
     "iopub.execute_input": "2022-04-04T00:01:10.368056Z",
     "iopub.status.busy": "2022-04-04T00:01:10.367332Z",
     "iopub.status.idle": "2022-04-04T00:01:10.884366Z",
     "shell.execute_reply": "2022-04-04T00:01:10.883651Z",
     "shell.execute_reply.started": "2022-04-04T00:00:35.047111Z"
    },
    "papermill": {
     "duration": 0.582681,
     "end_time": "2022-04-04T00:01:10.884524",
     "exception": false,
     "start_time": "2022-04-04T00:01:10.301843",
     "status": "completed"
    },
    "tags": []
   },
   "outputs": [
    {
     "data": {
      "text/plain": [
       "<seaborn.axisgrid.FacetGrid at 0x7fae08dadd90>"
      ]
     },
     "execution_count": 28,
     "metadata": {},
     "output_type": "execute_result"
    },
    {
     "data": {
      "image/png": "[encoded data removed]",
      "text/plain": [
       "<Figure size 427.125x360 with 1 Axes>"
      ]
     },
     "metadata": {},
     "output_type": "display_data"
    }
   ],
   "source": [
    "sns.catplot(x='VIP', y='Age', hue='Transported', data=df,\n",
    "           kind='violin')"
   ]
  },
  {
   "cell_type": "markdown",
   "id": "38ad33a0",
   "metadata": {
    "papermill": {
     "duration": 0.065145,
     "end_time": "2022-04-04T00:01:11.016647",
     "exception": false,
     "start_time": "2022-04-04T00:01:10.951502",
     "status": "completed"
    },
    "tags": []
   },
   "source": []
  },
  {
   "cell_type": "markdown",
   "id": "63e4995c",
   "metadata": {
    "papermill": {
     "duration": 0.064059,
     "end_time": "2022-04-04T00:01:11.145452",
     "exception": false,
     "start_time": "2022-04-04T00:01:11.081393",
     "status": "completed"
    },
    "tags": []
   },
   "source": [
    "- 푸드코트를 많이 이용한 사람이 생존율이 좀 더 높았고, 룸서비스를 많이 이용할 수록 생존율이 떨어지는 것을 확인 할 수 있다."
   ]
  },
  {
   "cell_type": "code",
   "execution_count": 29,
   "id": "d26309d9",
   "metadata": {
    "execution": {
     "iopub.execute_input": "2022-04-04T00:01:11.282395Z",
     "iopub.status.busy": "2022-04-04T00:01:11.281683Z",
     "iopub.status.idle": "2022-04-04T00:01:11.629202Z",
     "shell.execute_reply": "2022-04-04T00:01:11.629699Z",
     "shell.execute_reply.started": "2022-04-04T00:00:35.658420Z"
    },
    "papermill": {
     "duration": 0.419821,
     "end_time": "2022-04-04T00:01:11.629884",
     "exception": false,
     "start_time": "2022-04-04T00:01:11.210063",
     "status": "completed"
    },
    "tags": []
   },
   "outputs": [
    {
     "data": {
      "text/plain": [
       "<seaborn.axisgrid.FacetGrid at 0x7fae08f5a210>"
      ]
     },
     "execution_count": 29,
     "metadata": {},
     "output_type": "execute_result"
    },
    {
     "data": {
      "image/png": "[encoded data removed]",
      "text/plain": [
       "<Figure size 360x360 with 1 Axes>"
      ]
     },
     "metadata": {},
     "output_type": "display_data"
    }
   ],
   "source": [
    "sns.catplot(x='Transported', y='FoodCourt', data=df)"
   ]
  },
  {
   "cell_type": "code",
   "execution_count": 30,
   "id": "f9c73ca2",
   "metadata": {
    "execution": {
     "iopub.execute_input": "2022-04-04T00:01:11.774916Z",
     "iopub.status.busy": "2022-04-04T00:01:11.774184Z",
     "iopub.status.idle": "2022-04-04T00:01:12.159584Z",
     "shell.execute_reply": "2022-04-04T00:01:12.158947Z",
     "shell.execute_reply.started": "2022-04-04T00:00:36.111649Z"
    },
    "papermill": {
     "duration": 0.462669,
     "end_time": "2022-04-04T00:01:12.159748",
     "exception": false,
     "start_time": "2022-04-04T00:01:11.697079",
     "status": "completed"
    },
    "tags": []
   },
   "outputs": [
    {
     "data": {
      "text/plain": [
       "<seaborn.axisgrid.FacetGrid at 0x7fae08d16710>"
      ]
     },
     "execution_count": 30,
     "metadata": {},
     "output_type": "execute_result"
    },
    {
     "data": {
      "image/png": "[encoded data removed]",
      "text/plain": [
       "<Figure size 360x360 with 1 Axes>"
      ]
     },
     "metadata": {},
     "output_type": "display_data"
    }
   ],
   "source": [
    "sns.catplot(x='Transported', y='RoomService', data=df)"
   ]
  },
  {
   "cell_type": "markdown",
   "id": "ca659cf6",
   "metadata": {
    "papermill": {
     "duration": 0.068781,
     "end_time": "2022-04-04T00:01:12.297568",
     "exception": false,
     "start_time": "2022-04-04T00:01:12.228787",
     "status": "completed"
    },
    "tags": []
   },
   "source": [
    "된사람 안된 사람 나눠 놓기"
   ]
  },
  {
   "cell_type": "code",
   "execution_count": 31,
   "id": "4b4c43a8",
   "metadata": {
    "execution": {
     "iopub.execute_input": "2022-04-04T00:01:12.442483Z",
     "iopub.status.busy": "2022-04-04T00:01:12.441739Z",
     "iopub.status.idle": "2022-04-04T00:01:12.446364Z",
     "shell.execute_reply": "2022-04-04T00:01:12.446885Z",
     "shell.execute_reply.started": "2022-04-04T00:00:36.565631Z"
    },
    "papermill": {
     "duration": 0.078727,
     "end_time": "2022-04-04T00:01:12.447064",
     "exception": false,
     "start_time": "2022-04-04T00:01:12.368337",
     "status": "completed"
    },
    "tags": []
   },
   "outputs": [
    {
     "data": {
      "text/plain": [
       "(4315, 13)"
      ]
     },
     "execution_count": 31,
     "metadata": {},
     "output_type": "execute_result"
    }
   ],
   "source": [
    "df_nottransported = df[(df[\"Transported\"] == 0)]\n",
    "df_nottransported.shape"
   ]
  },
  {
   "cell_type": "code",
   "execution_count": 32,
   "id": "f81a61e8",
   "metadata": {
    "execution": {
     "iopub.execute_input": "2022-04-04T00:01:12.588380Z",
     "iopub.status.busy": "2022-04-04T00:01:12.586196Z",
     "iopub.status.idle": "2022-04-04T00:01:12.593271Z",
     "shell.execute_reply": "2022-04-04T00:01:12.593879Z",
     "shell.execute_reply.started": "2022-04-04T00:00:36.577113Z"
    },
    "papermill": {
     "duration": 0.07876,
     "end_time": "2022-04-04T00:01:12.594059",
     "exception": false,
     "start_time": "2022-04-04T00:01:12.515299",
     "status": "completed"
    },
    "tags": []
   },
   "outputs": [
    {
     "data": {
      "text/plain": [
       "(4378, 13)"
      ]
     },
     "execution_count": 32,
     "metadata": {},
     "output_type": "execute_result"
    }
   ],
   "source": [
    "df_transported = df[(df[\"Transported\"] == 1)]\n",
    "df_transported.shape"
   ]
  },
  {
   "cell_type": "code",
   "execution_count": 33,
   "id": "89de0a22",
   "metadata": {
    "execution": {
     "iopub.execute_input": "2022-04-04T00:01:12.736420Z",
     "iopub.status.busy": "2022-04-04T00:01:12.735492Z",
     "iopub.status.idle": "2022-04-04T00:01:12.738843Z",
     "shell.execute_reply": "2022-04-04T00:01:12.739536Z",
     "shell.execute_reply.started": "2022-04-04T00:00:36.595606Z"
    },
    "papermill": {
     "duration": 0.076675,
     "end_time": "2022-04-04T00:01:12.739718",
     "exception": false,
     "start_time": "2022-04-04T00:01:12.663043",
     "status": "completed"
    },
    "tags": []
   },
   "outputs": [],
   "source": [
    "#null_cat=null.select_dtypes(include='object')\n",
    "#null_cat.head(3)"
   ]
  },
  {
   "cell_type": "markdown",
   "id": "06c58e91",
   "metadata": {
    "papermill": {
     "duration": 0.071005,
     "end_time": "2022-04-04T00:01:12.879124",
     "exception": false,
     "start_time": "2022-04-04T00:01:12.808119",
     "status": "completed"
    },
    "tags": []
   },
   "source": [
    "### 필요한 카테고리로 묶어주기"
   ]
  },
  {
   "cell_type": "code",
   "execution_count": 34,
   "id": "1758102f",
   "metadata": {
    "execution": {
     "iopub.execute_input": "2022-04-04T00:01:13.023158Z",
     "iopub.status.busy": "2022-04-04T00:01:13.022458Z",
     "iopub.status.idle": "2022-04-04T00:01:13.035341Z",
     "shell.execute_reply": "2022-04-04T00:01:13.035944Z",
     "shell.execute_reply.started": "2022-04-04T00:00:36.605919Z"
    },
    "papermill": {
     "duration": 0.086221,
     "end_time": "2022-04-04T00:01:13.036143",
     "exception": false,
     "start_time": "2022-04-04T00:01:12.949922",
     "status": "completed"
    },
    "tags": []
   },
   "outputs": [
    {
     "data": {
      "text/html": [
       "<div>\n",
       "<style scoped>\n",
       "    .dataframe tbody tr th:only-of-type {\n",
       "        vertical-align: middle;\n",
       "    }\n",
       "\n",
       "    .dataframe tbody tr th {\n",
       "        vertical-align: top;\n",
       "    }\n",
       "\n",
       "    .dataframe thead th {\n",
       "        text-align: right;\n",
       "    }\n",
       "</style>\n",
       "<table border=\"1\" class=\"dataframe\">\n",
       "  <thead>\n",
       "    <tr style=\"text-align: right;\">\n",
       "      <th></th>\n",
       "      <th>PassengerId</th>\n",
       "      <th>HomePlanet</th>\n",
       "      <th>CryoSleep</th>\n",
       "      <th>Destination</th>\n",
       "      <th>VIP</th>\n",
       "      <th>Name</th>\n",
       "    </tr>\n",
       "  </thead>\n",
       "  <tbody>\n",
       "    <tr>\n",
       "      <th>0</th>\n",
       "      <td>0001_01</td>\n",
       "      <td>Europa</td>\n",
       "      <td>False</td>\n",
       "      <td>TRAPPIST-1e</td>\n",
       "      <td>False</td>\n",
       "      <td>Maham Ofracculy</td>\n",
       "    </tr>\n",
       "    <tr>\n",
       "      <th>1</th>\n",
       "      <td>0002_01</td>\n",
       "      <td>Earth</td>\n",
       "      <td>False</td>\n",
       "      <td>TRAPPIST-1e</td>\n",
       "      <td>False</td>\n",
       "      <td>Juanna Vines</td>\n",
       "    </tr>\n",
       "    <tr>\n",
       "      <th>2</th>\n",
       "      <td>0003_01</td>\n",
       "      <td>Europa</td>\n",
       "      <td>False</td>\n",
       "      <td>TRAPPIST-1e</td>\n",
       "      <td>True</td>\n",
       "      <td>Altark Susent</td>\n",
       "    </tr>\n",
       "    <tr>\n",
       "      <th>3</th>\n",
       "      <td>0003_02</td>\n",
       "      <td>Europa</td>\n",
       "      <td>False</td>\n",
       "      <td>TRAPPIST-1e</td>\n",
       "      <td>False</td>\n",
       "      <td>Solam Susent</td>\n",
       "    </tr>\n",
       "    <tr>\n",
       "      <th>4</th>\n",
       "      <td>0004_01</td>\n",
       "      <td>Earth</td>\n",
       "      <td>False</td>\n",
       "      <td>TRAPPIST-1e</td>\n",
       "      <td>False</td>\n",
       "      <td>Willy Santantines</td>\n",
       "    </tr>\n",
       "  </tbody>\n",
       "</table>\n",
       "</div>"
      ],
      "text/plain": [
       "  PassengerId HomePlanet CryoSleep  Destination    VIP               Name\n",
       "0     0001_01     Europa     False  TRAPPIST-1e  False    Maham Ofracculy\n",
       "1     0002_01      Earth     False  TRAPPIST-1e  False       Juanna Vines\n",
       "2     0003_01     Europa     False  TRAPPIST-1e   True      Altark Susent\n",
       "3     0003_02     Europa     False  TRAPPIST-1e  False       Solam Susent\n",
       "4     0004_01      Earth     False  TRAPPIST-1e  False  Willy Santantines"
      ]
     },
     "execution_count": 34,
     "metadata": {},
     "output_type": "execute_result"
    }
   ],
   "source": [
    "# train\n",
    "df_cat = df.select_dtypes(include='object')\n",
    "df_cat.head()"
   ]
  },
  {
   "cell_type": "code",
   "execution_count": 35,
   "id": "b1ef4309",
   "metadata": {
    "execution": {
     "iopub.execute_input": "2022-04-04T00:01:13.191479Z",
     "iopub.status.busy": "2022-04-04T00:01:13.190551Z",
     "iopub.status.idle": "2022-04-04T00:01:13.195003Z",
     "shell.execute_reply": "2022-04-04T00:01:13.194514Z",
     "shell.execute_reply.started": "2022-04-04T00:00:36.635391Z"
    },
    "papermill": {
     "duration": 0.087992,
     "end_time": "2022-04-04T00:01:13.195186",
     "exception": false,
     "start_time": "2022-04-04T00:01:13.107194",
     "status": "completed"
    },
    "tags": []
   },
   "outputs": [
    {
     "data": {
      "text/html": [
       "<div>\n",
       "<style scoped>\n",
       "    .dataframe tbody tr th:only-of-type {\n",
       "        vertical-align: middle;\n",
       "    }\n",
       "\n",
       "    .dataframe tbody tr th {\n",
       "        vertical-align: top;\n",
       "    }\n",
       "\n",
       "    .dataframe thead th {\n",
       "        text-align: right;\n",
       "    }\n",
       "</style>\n",
       "<table border=\"1\" class=\"dataframe\">\n",
       "  <thead>\n",
       "    <tr style=\"text-align: right;\">\n",
       "      <th></th>\n",
       "      <th>PassengerId</th>\n",
       "      <th>HomePlanet</th>\n",
       "      <th>CryoSleep</th>\n",
       "      <th>Destination</th>\n",
       "      <th>VIP</th>\n",
       "      <th>Name</th>\n",
       "    </tr>\n",
       "  </thead>\n",
       "  <tbody>\n",
       "    <tr>\n",
       "      <th>0</th>\n",
       "      <td>0013_01</td>\n",
       "      <td>Earth</td>\n",
       "      <td>True</td>\n",
       "      <td>TRAPPIST-1e</td>\n",
       "      <td>False</td>\n",
       "      <td>Nelly Carsoning</td>\n",
       "    </tr>\n",
       "    <tr>\n",
       "      <th>1</th>\n",
       "      <td>0018_01</td>\n",
       "      <td>Earth</td>\n",
       "      <td>False</td>\n",
       "      <td>TRAPPIST-1e</td>\n",
       "      <td>False</td>\n",
       "      <td>Lerome Peckers</td>\n",
       "    </tr>\n",
       "    <tr>\n",
       "      <th>2</th>\n",
       "      <td>0019_01</td>\n",
       "      <td>Europa</td>\n",
       "      <td>True</td>\n",
       "      <td>55 Cancri e</td>\n",
       "      <td>False</td>\n",
       "      <td>Sabih Unhearfus</td>\n",
       "    </tr>\n",
       "    <tr>\n",
       "      <th>3</th>\n",
       "      <td>0021_01</td>\n",
       "      <td>Europa</td>\n",
       "      <td>False</td>\n",
       "      <td>TRAPPIST-1e</td>\n",
       "      <td>False</td>\n",
       "      <td>Meratz Caltilter</td>\n",
       "    </tr>\n",
       "    <tr>\n",
       "      <th>4</th>\n",
       "      <td>0023_01</td>\n",
       "      <td>Earth</td>\n",
       "      <td>False</td>\n",
       "      <td>TRAPPIST-1e</td>\n",
       "      <td>False</td>\n",
       "      <td>Brence Harperez</td>\n",
       "    </tr>\n",
       "  </tbody>\n",
       "</table>\n",
       "</div>"
      ],
      "text/plain": [
       "  PassengerId HomePlanet CryoSleep  Destination    VIP              Name\n",
       "0     0013_01      Earth      True  TRAPPIST-1e  False   Nelly Carsoning\n",
       "1     0018_01      Earth     False  TRAPPIST-1e  False    Lerome Peckers\n",
       "2     0019_01     Europa      True  55 Cancri e  False   Sabih Unhearfus\n",
       "3     0021_01     Europa     False  TRAPPIST-1e  False  Meratz Caltilter\n",
       "4     0023_01      Earth     False  TRAPPIST-1e  False   Brence Harperez"
      ]
     },
     "execution_count": 35,
     "metadata": {},
     "output_type": "execute_result"
    }
   ],
   "source": [
    "# test\n",
    "df_cat = test.select_dtypes(include = 'object')\n",
    "df_cat.head()"
   ]
  },
  {
   "cell_type": "markdown",
   "id": "63a0c793",
   "metadata": {
    "papermill": {
     "duration": 0.07098,
     "end_time": "2022-04-04T00:01:13.338236",
     "exception": false,
     "start_time": "2022-04-04T00:01:13.267256",
     "status": "completed"
    },
    "tags": []
   },
   "source": [
    "CryoSleep(저온수면) False 또는 True, 목적지, VIP 관계성 "
   ]
  },
  {
   "cell_type": "markdown",
   "id": "dce58e45",
   "metadata": {
    "papermill": {
     "duration": 0.071169,
     "end_time": "2022-04-04T00:01:13.480992",
     "exception": false,
     "start_time": "2022-04-04T00:01:13.409823",
     "status": "completed"
    },
    "tags": []
   },
   "source": [
    "# 스텝 3?"
   ]
  },
  {
   "cell_type": "code",
   "execution_count": 36,
   "id": "42fcbbf7",
   "metadata": {
    "execution": {
     "iopub.execute_input": "2022-04-04T00:01:13.626468Z",
     "iopub.status.busy": "2022-04-04T00:01:13.625181Z",
     "iopub.status.idle": "2022-04-04T00:01:13.627414Z",
     "shell.execute_reply": "2022-04-04T00:01:13.627932Z",
     "shell.execute_reply.started": "2022-04-04T00:00:36.662384Z"
    },
    "papermill": {
     "duration": 0.076801,
     "end_time": "2022-04-04T00:01:13.628125",
     "exception": false,
     "start_time": "2022-04-04T00:01:13.551324",
     "status": "completed"
    },
    "tags": []
   },
   "outputs": [],
   "source": [
    "#from sklearn.model_selection import train_test_split\n",
    "#train_input, test_input, train_target, test_target = train_test_split(\n",
    "   # df_data, df_target, test_size = 0.2, random_state=42)\n",
    "\n",
    "#print(train_input.shape, test_input.shape)\n",
    "#print(train_input)"
   ]
  },
  {
   "cell_type": "code",
   "execution_count": 37,
   "id": "893733c2",
   "metadata": {
    "execution": {
     "iopub.execute_input": "2022-04-04T00:01:13.775431Z",
     "iopub.status.busy": "2022-04-04T00:01:13.774574Z",
     "iopub.status.idle": "2022-04-04T00:01:13.777726Z",
     "shell.execute_reply": "2022-04-04T00:01:13.777046Z",
     "shell.execute_reply.started": "2022-04-04T00:00:36.668438Z"
    },
    "papermill": {
     "duration": 0.079516,
     "end_time": "2022-04-04T00:01:13.777884",
     "exception": false,
     "start_time": "2022-04-04T00:01:13.698368",
     "status": "completed"
    },
    "tags": []
   },
   "outputs": [],
   "source": [
    "#from sklearn.preprocessing import StandardScaler\n",
    "#ss = StandardScaler()\n",
    "#ss.fit(train_input)\n",
    "#train_scaled = ss.transform(train_input)\n",
    "#test_scaled = ss.transform(test_input)"
   ]
  },
  {
   "cell_type": "code",
   "execution_count": 38,
   "id": "847e29ee",
   "metadata": {
    "execution": {
     "iopub.execute_input": "2022-04-04T00:01:13.924089Z",
     "iopub.status.busy": "2022-04-04T00:01:13.923362Z",
     "iopub.status.idle": "2022-04-04T00:01:13.926735Z",
     "shell.execute_reply": "2022-04-04T00:01:13.926175Z",
     "shell.execute_reply.started": "2022-04-04T00:00:36.689505Z"
    },
    "papermill": {
     "duration": 0.076979,
     "end_time": "2022-04-04T00:01:13.926875",
     "exception": false,
     "start_time": "2022-04-04T00:01:13.849896",
     "status": "completed"
    },
    "tags": []
   },
   "outputs": [],
   "source": [
    "#from sklearn.linear_model import LogisticRegression\n",
    "#lr = LogisticRegression()\n",
    "#lr.fit(train_scaled, train_target)\n",
    "#print(lr.score(train_scaled, train_target))\n",
    "#print(lr.score(test_scaled, test_target))"
   ]
  }
 ],
 "metadata": {
  "kernelspec": {
   "display_name": "Python 3",
   "language": "python",
   "name": "python3"
  },
  "language_info": {
   "codemirror_mode": {
    "name": "ipython",
    "version": 3
   },
   "file_extension": ".py",
   "mimetype": "text/x-python",
   "name": "python",
   "nbconvert_exporter": "python",
   "pygments_lexer": "ipython3",
   "version": "3.7.12"
  },
  "papermill": {
   "default_parameters": {},
   "duration": 22.735144,
   "end_time": "2022-04-04T00:01:14.708159",
   "environment_variables": {},
   "exception": null,
   "input_path": "__notebook__.ipynb",
   "output_path": "__notebook__.ipynb",
   "parameters": {},
   "start_time": "2022-04-04T00:00:51.973015",
   "version": "2.3.3"
  }
 },
 "nbformat": 4,
 "nbformat_minor": 5
}
