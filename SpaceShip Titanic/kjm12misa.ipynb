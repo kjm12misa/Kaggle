{
 "cells": [
  {
   "cell_type": "code",
   "execution_count": 1,
   "id": "87a88535",
   "metadata": {
    "_cell_guid": "b1076dfc-b9ad-4769-8c92-a6c4dae69d19",
    "_uuid": "8f2839f25d086af736a60e9eeb907d3b93b6e0e5",
    "execution": {
     "iopub.execute_input": "2022-04-04T01:56:36.206459Z",
     "iopub.status.busy": "2022-04-04T01:56:36.198972Z",
     "iopub.status.idle": "2022-04-04T01:56:36.212151Z",
     "shell.execute_reply": "2022-04-04T01:56:36.212640Z",
     "shell.execute_reply.started": "2022-04-04T01:56:02.526134Z"
    },
    "papermill": {
     "duration": 0.064123,
     "end_time": "2022-04-04T01:56:36.212907",
     "exception": false,
     "start_time": "2022-04-04T01:56:36.148784",
     "status": "completed"
    },
    "tags": []
   },
   "outputs": [
    {
     "name": "stdout",
     "output_type": "stream",
     "text": [
      "/kaggle/input/spaceship-titanic/sample_submission.csv\n",
      "/kaggle/input/spaceship-titanic/train.csv\n",
      "/kaggle/input/spaceship-titanic/test.csv\n"
     ]
    }
   ],
   "source": [
    "# This Python 3 environment comes with many helpful analytics libraries installed\n",
    "# It is defined by the kaggle/python Docker image: https://github.com/kaggle/docker-python\n",
    "# For example, here's several helpful packages to load\n",
    "\n",
    "import numpy as np # linear algebra\n",
    "import pandas as pd # data processing, CSV file I/O (e.g. pd.read_csv)\n",
    "\n",
    "# Input data files are available in the read-only \"../input/\" directory\n",
    "# For example, running this (by clicking run or pressing Shift+Enter) will list all files under the input directory\n",
    "\n",
    "import os\n",
    "for dirname, _, filenames in os.walk('/kaggle/input'):\n",
    "    for filename in filenames:\n",
    "        print(os.path.join(dirname, filename))\n",
    "\n",
    "# You can write up to 20GB to the current directory (/kaggle/working/) that gets preserved as output when you create a version using \"Save & Run All\" \n",
    "# You can also write temporary files to /kaggle/temp/, but they won't be saved outside of the current session"
   ]
  },
  {
   "cell_type": "markdown",
   "id": "47f298d8",
   "metadata": {
    "papermill": {
     "duration": 0.045331,
     "end_time": "2022-04-04T01:56:36.305739",
     "exception": false,
     "start_time": "2022-04-04T01:56:36.260408",
     "status": "completed"
    },
    "tags": []
   },
   "source": [
    "1. **라이브러리 및 데이터 불러오기\n",
    " - **라이브러리 버전 확인 반드시 해준다!!**\n",
    "2. 탐색적 자료 분석 (EDA)\n",
    " - **데이터 시각화**\n",
    " - **산점도, 막대그래프 등**\n",
    " - **그래프 해석해서 설명 달기**\n",
    " - 약간의 데이터 전처리\n",
    "3. 데이터 전처리\n",
    " - Feature Engineering\n",
    " - ML 모형을 돌리기 위해 표준화 등/ 원핫-인코딩\n",
    " - 파생변수(도출변수) 만들기\n",
    "  + 왜 이변수를 만들었는지에 대한 설명 필요\n",
    "4. 머신러닝 모형 개발\n",
    " - 모형(로지스틱,,등)에 대한 설명 필요\n",
    " - 모형은 1, 2개 정도만 사용하자\n",
    " - 교차 검증, 하이퍼파라미터 튜닝\n",
    "5. 모형 평가\n",
    " - 훈련 데이터를 쪼개서 훈련 데이터와 검증 데이터 분리\n",
    " - 정확도 비교\n",
    " - 혼동행렬(confusion Matrix) 설명을 잘 찾아서 넣어주자\n",
    "6. 제출\n",
    " - 제출 양식 샘플은 쌤이 만들어 준다.\n",
    "★. 참고\n",
    " - 다른 사람의 code를 참고 했다면 노트북 표절 방지를 위해 참조한 코드는 반드시 링크 걸어둘 것\n",
    "  + 저자 이름, 글 제목, 링크 주소.\n",
    "★. 마감일\n",
    " - 4월 12일 17시 40분\n",
    " - 제출 형태\n",
    "  + Leaderboard 랭킹 사진 캡쳐\n",
    "  + 고용노동부 보고하기.\n",
    "\n",
    "★★ 코드가 오류가 계속 날 때는 쌤이 도움이 되는 링크만 준다(실력은 늘지도,,)"
   ]
  },
  {
   "cell_type": "markdown",
   "id": "4768f374",
   "metadata": {
    "papermill": {
     "duration": 0.045661,
     "end_time": "2022-04-04T01:56:36.399532",
     "exception": false,
     "start_time": "2022-04-04T01:56:36.353871",
     "status": "completed"
    },
    "tags": []
   },
   "source": [
    "#### 데이터 설명\n",
    "- 우주선 타이타닉이 시공간 이상과 충돌 하는 동안에 승객이 다른 차원으로 이동했는가에 대한 여부 예측하는 것.\n",
    " + 이러한 예측을 돕기 위해 손상된 함선의 컴퓨터 시스템에서 복구된 개인 기록이 제공됩니다.\n",
    "\n",
    "- sample_submission.csv : 올바른 형식의 송신 파일.\n",
    "- train : 승객이 다른 차원으로 운송되었는지 여부. 예측하려는 대상 열입니다.(훈련데이터로 사용됨)\n",
    "- test : 테스트 데이터로 사용되는 나머지 승객의 1/3(~4300)에 대한 개인 기록. 작업은 이 세트의 승객에 대한 운송 값을 예측하는 것\n",
    "\n",
    "- PassengerId - 테스트 세트에 포함된 각 승객의 ID\n",
    "- Transported - 타겟. 각 승객에 대해 참 또는 거짓을 예측\n",
    "- HomePlanet - 승객이 출발한 행성으로, 일반적으로 영구 거주지 행성\n",
    "- CryoSleep - 승객이 항해가 진행되는 동안 일시 정지 애니메이션으로 전환되도록 선택했는지 여부를 나타냅니다. 저온 수면 중인 승객들은 객실에 갇히게 된다.\n",
    "- Cabin : 승객이 머물고 있는 객실 번호입니다. 갑판/번호/측면 형식을 취합니다. 여기서 측면은 좌현에 P 또는 우현에 S가 될 수 있습니다.\n",
    "- Destination : 승객이 주차를 해제할 행성입니다.\n",
    "- VIP - 승객이 여행 중 특별 VIP 서비스에 비용을 지불했는지 여부\n",
    "- 룸 서비스, 푸드 코트, 쇼핑 몰, 스파, VRDeck - 승객이 우주선 타이타닉의 많은 고급 편의 시설 각각에서 청구한 금액."
   ]
  },
  {
   "cell_type": "code",
   "execution_count": 2,
   "id": "0e97e150",
   "metadata": {
    "execution": {
     "iopub.execute_input": "2022-04-04T01:56:36.499138Z",
     "iopub.status.busy": "2022-04-04T01:56:36.498031Z",
     "iopub.status.idle": "2022-04-04T01:56:36.594030Z",
     "shell.execute_reply": "2022-04-04T01:56:36.594666Z",
     "shell.execute_reply.started": "2022-04-04T01:56:02.595800Z"
    },
    "papermill": {
     "duration": 0.149077,
     "end_time": "2022-04-04T01:56:36.594858",
     "exception": false,
     "start_time": "2022-04-04T01:56:36.445781",
     "status": "completed"
    },
    "tags": []
   },
   "outputs": [],
   "source": [
    "import pandas as pd\n",
    "submission = pd.read_csv(\"../input/spaceship-titanic/sample_submission.csv\")\n",
    "test = pd.read_csv(\"../input/spaceship-titanic/test.csv\")\n",
    "df = pd.read_csv(\"../input/spaceship-titanic/train.csv\")"
   ]
  },
  {
   "cell_type": "code",
   "execution_count": 3,
   "id": "19a6c62c",
   "metadata": {
    "execution": {
     "iopub.execute_input": "2022-04-04T01:56:36.694590Z",
     "iopub.status.busy": "2022-04-04T01:56:36.693952Z",
     "iopub.status.idle": "2022-04-04T01:56:37.593247Z",
     "shell.execute_reply": "2022-04-04T01:56:37.592098Z",
     "shell.execute_reply.started": "2022-04-04T01:56:02.668063Z"
    },
    "papermill": {
     "duration": 0.949711,
     "end_time": "2022-04-04T01:56:37.593402",
     "exception": false,
     "start_time": "2022-04-04T01:56:36.643691",
     "status": "completed"
    },
    "tags": []
   },
   "outputs": [],
   "source": [
    "import numpy as np\n",
    "import matplotlib.pyplot as plt\n",
    "import seaborn as sns"
   ]
  },
  {
   "cell_type": "code",
   "execution_count": 4,
   "id": "9b75efb4",
   "metadata": {
    "execution": {
     "iopub.execute_input": "2022-04-04T01:56:37.691584Z",
     "iopub.status.busy": "2022-04-04T01:56:37.690510Z",
     "iopub.status.idle": "2022-04-04T01:56:37.693068Z",
     "shell.execute_reply": "2022-04-04T01:56:37.692389Z",
     "shell.execute_reply.started": "2022-04-04T01:56:02.732918Z"
    },
    "papermill": {
     "duration": 0.053567,
     "end_time": "2022-04-04T01:56:37.693236",
     "exception": false,
     "start_time": "2022-04-04T01:56:37.639669",
     "status": "completed"
    },
    "tags": []
   },
   "outputs": [],
   "source": [
    "sns.set_style('whitegrid')"
   ]
  },
  {
   "cell_type": "code",
   "execution_count": 5,
   "id": "c4927e7b",
   "metadata": {
    "execution": {
     "iopub.execute_input": "2022-04-04T01:56:37.795448Z",
     "iopub.status.busy": "2022-04-04T01:56:37.789761Z",
     "iopub.status.idle": "2022-04-04T01:56:37.806293Z",
     "shell.execute_reply": "2022-04-04T01:56:37.806784Z",
     "shell.execute_reply.started": "2022-04-04T01:56:02.799398Z"
    },
    "papermill": {
     "duration": 0.066631,
     "end_time": "2022-04-04T01:56:37.806969",
     "exception": false,
     "start_time": "2022-04-04T01:56:37.740338",
     "status": "completed"
    },
    "tags": []
   },
   "outputs": [
    {
     "data": {
      "text/html": [
       "<div>\n",
       "<style scoped>\n",
       "    .dataframe tbody tr th:only-of-type {\n",
       "        vertical-align: middle;\n",
       "    }\n",
       "\n",
       "    .dataframe tbody tr th {\n",
       "        vertical-align: top;\n",
       "    }\n",
       "\n",
       "    .dataframe thead th {\n",
       "        text-align: right;\n",
       "    }\n",
       "</style>\n",
       "<table border=\"1\" class=\"dataframe\">\n",
       "  <thead>\n",
       "    <tr style=\"text-align: right;\">\n",
       "      <th></th>\n",
       "      <th>PassengerId</th>\n",
       "      <th>Transported</th>\n",
       "    </tr>\n",
       "  </thead>\n",
       "  <tbody>\n",
       "    <tr>\n",
       "      <th>0</th>\n",
       "      <td>0013_01</td>\n",
       "      <td>False</td>\n",
       "    </tr>\n",
       "    <tr>\n",
       "      <th>1</th>\n",
       "      <td>0018_01</td>\n",
       "      <td>False</td>\n",
       "    </tr>\n",
       "    <tr>\n",
       "      <th>2</th>\n",
       "      <td>0019_01</td>\n",
       "      <td>False</td>\n",
       "    </tr>\n",
       "    <tr>\n",
       "      <th>3</th>\n",
       "      <td>0021_01</td>\n",
       "      <td>False</td>\n",
       "    </tr>\n",
       "    <tr>\n",
       "      <th>4</th>\n",
       "      <td>0023_01</td>\n",
       "      <td>False</td>\n",
       "    </tr>\n",
       "  </tbody>\n",
       "</table>\n",
       "</div>"
      ],
      "text/plain": [
       "  PassengerId  Transported\n",
       "0     0013_01        False\n",
       "1     0018_01        False\n",
       "2     0019_01        False\n",
       "3     0021_01        False\n",
       "4     0023_01        False"
      ]
     },
     "execution_count": 5,
     "metadata": {},
     "output_type": "execute_result"
    }
   ],
   "source": [
    "submission.head()"
   ]
  },
  {
   "cell_type": "code",
   "execution_count": 6,
   "id": "dc1b6798",
   "metadata": {
    "execution": {
     "iopub.execute_input": "2022-04-04T01:56:37.903857Z",
     "iopub.status.busy": "2022-04-04T01:56:37.902895Z",
     "iopub.status.idle": "2022-04-04T01:56:37.922889Z",
     "shell.execute_reply": "2022-04-04T01:56:37.922327Z",
     "shell.execute_reply.started": "2022-04-04T01:56:02.869967Z"
    },
    "papermill": {
     "duration": 0.069108,
     "end_time": "2022-04-04T01:56:37.923053",
     "exception": false,
     "start_time": "2022-04-04T01:56:37.853945",
     "status": "completed"
    },
    "tags": []
   },
   "outputs": [
    {
     "data": {
      "text/html": [
       "<div>\n",
       "<style scoped>\n",
       "    .dataframe tbody tr th:only-of-type {\n",
       "        vertical-align: middle;\n",
       "    }\n",
       "\n",
       "    .dataframe tbody tr th {\n",
       "        vertical-align: top;\n",
       "    }\n",
       "\n",
       "    .dataframe thead th {\n",
       "        text-align: right;\n",
       "    }\n",
       "</style>\n",
       "<table border=\"1\" class=\"dataframe\">\n",
       "  <thead>\n",
       "    <tr style=\"text-align: right;\">\n",
       "      <th></th>\n",
       "      <th>PassengerId</th>\n",
       "      <th>HomePlanet</th>\n",
       "      <th>CryoSleep</th>\n",
       "      <th>Cabin</th>\n",
       "      <th>Destination</th>\n",
       "      <th>Age</th>\n",
       "      <th>VIP</th>\n",
       "      <th>RoomService</th>\n",
       "      <th>FoodCourt</th>\n",
       "      <th>ShoppingMall</th>\n",
       "      <th>Spa</th>\n",
       "      <th>VRDeck</th>\n",
       "      <th>Name</th>\n",
       "    </tr>\n",
       "  </thead>\n",
       "  <tbody>\n",
       "    <tr>\n",
       "      <th>0</th>\n",
       "      <td>0013_01</td>\n",
       "      <td>Earth</td>\n",
       "      <td>True</td>\n",
       "      <td>G/3/S</td>\n",
       "      <td>TRAPPIST-1e</td>\n",
       "      <td>27.0</td>\n",
       "      <td>False</td>\n",
       "      <td>0.0</td>\n",
       "      <td>0.0</td>\n",
       "      <td>0.0</td>\n",
       "      <td>0.0</td>\n",
       "      <td>0.0</td>\n",
       "      <td>Nelly Carsoning</td>\n",
       "    </tr>\n",
       "    <tr>\n",
       "      <th>1</th>\n",
       "      <td>0018_01</td>\n",
       "      <td>Earth</td>\n",
       "      <td>False</td>\n",
       "      <td>F/4/S</td>\n",
       "      <td>TRAPPIST-1e</td>\n",
       "      <td>19.0</td>\n",
       "      <td>False</td>\n",
       "      <td>0.0</td>\n",
       "      <td>9.0</td>\n",
       "      <td>0.0</td>\n",
       "      <td>2823.0</td>\n",
       "      <td>0.0</td>\n",
       "      <td>Lerome Peckers</td>\n",
       "    </tr>\n",
       "    <tr>\n",
       "      <th>2</th>\n",
       "      <td>0019_01</td>\n",
       "      <td>Europa</td>\n",
       "      <td>True</td>\n",
       "      <td>C/0/S</td>\n",
       "      <td>55 Cancri e</td>\n",
       "      <td>31.0</td>\n",
       "      <td>False</td>\n",
       "      <td>0.0</td>\n",
       "      <td>0.0</td>\n",
       "      <td>0.0</td>\n",
       "      <td>0.0</td>\n",
       "      <td>0.0</td>\n",
       "      <td>Sabih Unhearfus</td>\n",
       "    </tr>\n",
       "    <tr>\n",
       "      <th>3</th>\n",
       "      <td>0021_01</td>\n",
       "      <td>Europa</td>\n",
       "      <td>False</td>\n",
       "      <td>C/1/S</td>\n",
       "      <td>TRAPPIST-1e</td>\n",
       "      <td>38.0</td>\n",
       "      <td>False</td>\n",
       "      <td>0.0</td>\n",
       "      <td>6652.0</td>\n",
       "      <td>0.0</td>\n",
       "      <td>181.0</td>\n",
       "      <td>585.0</td>\n",
       "      <td>Meratz Caltilter</td>\n",
       "    </tr>\n",
       "    <tr>\n",
       "      <th>4</th>\n",
       "      <td>0023_01</td>\n",
       "      <td>Earth</td>\n",
       "      <td>False</td>\n",
       "      <td>F/5/S</td>\n",
       "      <td>TRAPPIST-1e</td>\n",
       "      <td>20.0</td>\n",
       "      <td>False</td>\n",
       "      <td>10.0</td>\n",
       "      <td>0.0</td>\n",
       "      <td>635.0</td>\n",
       "      <td>0.0</td>\n",
       "      <td>0.0</td>\n",
       "      <td>Brence Harperez</td>\n",
       "    </tr>\n",
       "  </tbody>\n",
       "</table>\n",
       "</div>"
      ],
      "text/plain": [
       "  PassengerId HomePlanet CryoSleep  Cabin  Destination   Age    VIP  \\\n",
       "0     0013_01      Earth      True  G/3/S  TRAPPIST-1e  27.0  False   \n",
       "1     0018_01      Earth     False  F/4/S  TRAPPIST-1e  19.0  False   \n",
       "2     0019_01     Europa      True  C/0/S  55 Cancri e  31.0  False   \n",
       "3     0021_01     Europa     False  C/1/S  TRAPPIST-1e  38.0  False   \n",
       "4     0023_01      Earth     False  F/5/S  TRAPPIST-1e  20.0  False   \n",
       "\n",
       "   RoomService  FoodCourt  ShoppingMall     Spa  VRDeck              Name  \n",
       "0          0.0        0.0           0.0     0.0     0.0   Nelly Carsoning  \n",
       "1          0.0        9.0           0.0  2823.0     0.0    Lerome Peckers  \n",
       "2          0.0        0.0           0.0     0.0     0.0   Sabih Unhearfus  \n",
       "3          0.0     6652.0           0.0   181.0   585.0  Meratz Caltilter  \n",
       "4         10.0        0.0         635.0     0.0     0.0   Brence Harperez  "
      ]
     },
     "execution_count": 6,
     "metadata": {},
     "output_type": "execute_result"
    }
   ],
   "source": [
    "test.head()"
   ]
  },
  {
   "cell_type": "code",
   "execution_count": 7,
   "id": "bf766658",
   "metadata": {
    "execution": {
     "iopub.execute_input": "2022-04-04T01:56:38.023744Z",
     "iopub.status.busy": "2022-04-04T01:56:38.023129Z",
     "iopub.status.idle": "2022-04-04T01:56:38.042348Z",
     "shell.execute_reply": "2022-04-04T01:56:38.042900Z",
     "shell.execute_reply.started": "2022-04-04T01:56:02.934158Z"
    },
    "papermill": {
     "duration": 0.073183,
     "end_time": "2022-04-04T01:56:38.043091",
     "exception": false,
     "start_time": "2022-04-04T01:56:37.969908",
     "status": "completed"
    },
    "tags": []
   },
   "outputs": [
    {
     "data": {
      "text/html": [
       "<div>\n",
       "<style scoped>\n",
       "    .dataframe tbody tr th:only-of-type {\n",
       "        vertical-align: middle;\n",
       "    }\n",
       "\n",
       "    .dataframe tbody tr th {\n",
       "        vertical-align: top;\n",
       "    }\n",
       "\n",
       "    .dataframe thead th {\n",
       "        text-align: right;\n",
       "    }\n",
       "</style>\n",
       "<table border=\"1\" class=\"dataframe\">\n",
       "  <thead>\n",
       "    <tr style=\"text-align: right;\">\n",
       "      <th></th>\n",
       "      <th>PassengerId</th>\n",
       "      <th>HomePlanet</th>\n",
       "      <th>CryoSleep</th>\n",
       "      <th>Cabin</th>\n",
       "      <th>Destination</th>\n",
       "      <th>Age</th>\n",
       "      <th>VIP</th>\n",
       "      <th>RoomService</th>\n",
       "      <th>FoodCourt</th>\n",
       "      <th>ShoppingMall</th>\n",
       "      <th>Spa</th>\n",
       "      <th>VRDeck</th>\n",
       "      <th>Name</th>\n",
       "      <th>Transported</th>\n",
       "    </tr>\n",
       "  </thead>\n",
       "  <tbody>\n",
       "    <tr>\n",
       "      <th>0</th>\n",
       "      <td>0001_01</td>\n",
       "      <td>Europa</td>\n",
       "      <td>False</td>\n",
       "      <td>B/0/P</td>\n",
       "      <td>TRAPPIST-1e</td>\n",
       "      <td>39.0</td>\n",
       "      <td>False</td>\n",
       "      <td>0.0</td>\n",
       "      <td>0.0</td>\n",
       "      <td>0.0</td>\n",
       "      <td>0.0</td>\n",
       "      <td>0.0</td>\n",
       "      <td>Maham Ofracculy</td>\n",
       "      <td>False</td>\n",
       "    </tr>\n",
       "    <tr>\n",
       "      <th>1</th>\n",
       "      <td>0002_01</td>\n",
       "      <td>Earth</td>\n",
       "      <td>False</td>\n",
       "      <td>F/0/S</td>\n",
       "      <td>TRAPPIST-1e</td>\n",
       "      <td>24.0</td>\n",
       "      <td>False</td>\n",
       "      <td>109.0</td>\n",
       "      <td>9.0</td>\n",
       "      <td>25.0</td>\n",
       "      <td>549.0</td>\n",
       "      <td>44.0</td>\n",
       "      <td>Juanna Vines</td>\n",
       "      <td>True</td>\n",
       "    </tr>\n",
       "    <tr>\n",
       "      <th>2</th>\n",
       "      <td>0003_01</td>\n",
       "      <td>Europa</td>\n",
       "      <td>False</td>\n",
       "      <td>A/0/S</td>\n",
       "      <td>TRAPPIST-1e</td>\n",
       "      <td>58.0</td>\n",
       "      <td>True</td>\n",
       "      <td>43.0</td>\n",
       "      <td>3576.0</td>\n",
       "      <td>0.0</td>\n",
       "      <td>6715.0</td>\n",
       "      <td>49.0</td>\n",
       "      <td>Altark Susent</td>\n",
       "      <td>False</td>\n",
       "    </tr>\n",
       "    <tr>\n",
       "      <th>3</th>\n",
       "      <td>0003_02</td>\n",
       "      <td>Europa</td>\n",
       "      <td>False</td>\n",
       "      <td>A/0/S</td>\n",
       "      <td>TRAPPIST-1e</td>\n",
       "      <td>33.0</td>\n",
       "      <td>False</td>\n",
       "      <td>0.0</td>\n",
       "      <td>1283.0</td>\n",
       "      <td>371.0</td>\n",
       "      <td>3329.0</td>\n",
       "      <td>193.0</td>\n",
       "      <td>Solam Susent</td>\n",
       "      <td>False</td>\n",
       "    </tr>\n",
       "    <tr>\n",
       "      <th>4</th>\n",
       "      <td>0004_01</td>\n",
       "      <td>Earth</td>\n",
       "      <td>False</td>\n",
       "      <td>F/1/S</td>\n",
       "      <td>TRAPPIST-1e</td>\n",
       "      <td>16.0</td>\n",
       "      <td>False</td>\n",
       "      <td>303.0</td>\n",
       "      <td>70.0</td>\n",
       "      <td>151.0</td>\n",
       "      <td>565.0</td>\n",
       "      <td>2.0</td>\n",
       "      <td>Willy Santantines</td>\n",
       "      <td>True</td>\n",
       "    </tr>\n",
       "    <tr>\n",
       "      <th>5</th>\n",
       "      <td>0005_01</td>\n",
       "      <td>Earth</td>\n",
       "      <td>False</td>\n",
       "      <td>F/0/P</td>\n",
       "      <td>PSO J318.5-22</td>\n",
       "      <td>44.0</td>\n",
       "      <td>False</td>\n",
       "      <td>0.0</td>\n",
       "      <td>483.0</td>\n",
       "      <td>0.0</td>\n",
       "      <td>291.0</td>\n",
       "      <td>0.0</td>\n",
       "      <td>Sandie Hinetthews</td>\n",
       "      <td>True</td>\n",
       "    </tr>\n",
       "    <tr>\n",
       "      <th>6</th>\n",
       "      <td>0006_01</td>\n",
       "      <td>Earth</td>\n",
       "      <td>False</td>\n",
       "      <td>F/2/S</td>\n",
       "      <td>TRAPPIST-1e</td>\n",
       "      <td>26.0</td>\n",
       "      <td>False</td>\n",
       "      <td>42.0</td>\n",
       "      <td>1539.0</td>\n",
       "      <td>3.0</td>\n",
       "      <td>0.0</td>\n",
       "      <td>0.0</td>\n",
       "      <td>Billex Jacostaffey</td>\n",
       "      <td>True</td>\n",
       "    </tr>\n",
       "    <tr>\n",
       "      <th>7</th>\n",
       "      <td>0006_02</td>\n",
       "      <td>Earth</td>\n",
       "      <td>True</td>\n",
       "      <td>G/0/S</td>\n",
       "      <td>TRAPPIST-1e</td>\n",
       "      <td>28.0</td>\n",
       "      <td>False</td>\n",
       "      <td>0.0</td>\n",
       "      <td>0.0</td>\n",
       "      <td>0.0</td>\n",
       "      <td>0.0</td>\n",
       "      <td>NaN</td>\n",
       "      <td>Candra Jacostaffey</td>\n",
       "      <td>True</td>\n",
       "    </tr>\n",
       "    <tr>\n",
       "      <th>8</th>\n",
       "      <td>0007_01</td>\n",
       "      <td>Earth</td>\n",
       "      <td>False</td>\n",
       "      <td>F/3/S</td>\n",
       "      <td>TRAPPIST-1e</td>\n",
       "      <td>35.0</td>\n",
       "      <td>False</td>\n",
       "      <td>0.0</td>\n",
       "      <td>785.0</td>\n",
       "      <td>17.0</td>\n",
       "      <td>216.0</td>\n",
       "      <td>0.0</td>\n",
       "      <td>Andona Beston</td>\n",
       "      <td>True</td>\n",
       "    </tr>\n",
       "    <tr>\n",
       "      <th>9</th>\n",
       "      <td>0008_01</td>\n",
       "      <td>Europa</td>\n",
       "      <td>True</td>\n",
       "      <td>B/1/P</td>\n",
       "      <td>55 Cancri e</td>\n",
       "      <td>14.0</td>\n",
       "      <td>False</td>\n",
       "      <td>0.0</td>\n",
       "      <td>0.0</td>\n",
       "      <td>0.0</td>\n",
       "      <td>0.0</td>\n",
       "      <td>0.0</td>\n",
       "      <td>Erraiam Flatic</td>\n",
       "      <td>True</td>\n",
       "    </tr>\n",
       "  </tbody>\n",
       "</table>\n",
       "</div>"
      ],
      "text/plain": [
       "  PassengerId HomePlanet CryoSleep  Cabin    Destination   Age    VIP  \\\n",
       "0     0001_01     Europa     False  B/0/P    TRAPPIST-1e  39.0  False   \n",
       "1     0002_01      Earth     False  F/0/S    TRAPPIST-1e  24.0  False   \n",
       "2     0003_01     Europa     False  A/0/S    TRAPPIST-1e  58.0   True   \n",
       "3     0003_02     Europa     False  A/0/S    TRAPPIST-1e  33.0  False   \n",
       "4     0004_01      Earth     False  F/1/S    TRAPPIST-1e  16.0  False   \n",
       "5     0005_01      Earth     False  F/0/P  PSO J318.5-22  44.0  False   \n",
       "6     0006_01      Earth     False  F/2/S    TRAPPIST-1e  26.0  False   \n",
       "7     0006_02      Earth      True  G/0/S    TRAPPIST-1e  28.0  False   \n",
       "8     0007_01      Earth     False  F/3/S    TRAPPIST-1e  35.0  False   \n",
       "9     0008_01     Europa      True  B/1/P    55 Cancri e  14.0  False   \n",
       "\n",
       "   RoomService  FoodCourt  ShoppingMall     Spa  VRDeck                Name  \\\n",
       "0          0.0        0.0           0.0     0.0     0.0     Maham Ofracculy   \n",
       "1        109.0        9.0          25.0   549.0    44.0        Juanna Vines   \n",
       "2         43.0     3576.0           0.0  6715.0    49.0       Altark Susent   \n",
       "3          0.0     1283.0         371.0  3329.0   193.0        Solam Susent   \n",
       "4        303.0       70.0         151.0   565.0     2.0   Willy Santantines   \n",
       "5          0.0      483.0           0.0   291.0     0.0   Sandie Hinetthews   \n",
       "6         42.0     1539.0           3.0     0.0     0.0  Billex Jacostaffey   \n",
       "7          0.0        0.0           0.0     0.0     NaN  Candra Jacostaffey   \n",
       "8          0.0      785.0          17.0   216.0     0.0       Andona Beston   \n",
       "9          0.0        0.0           0.0     0.0     0.0      Erraiam Flatic   \n",
       "\n",
       "   Transported  \n",
       "0        False  \n",
       "1         True  \n",
       "2        False  \n",
       "3        False  \n",
       "4         True  \n",
       "5         True  \n",
       "6         True  \n",
       "7         True  \n",
       "8         True  \n",
       "9         True  "
      ]
     },
     "execution_count": 7,
     "metadata": {},
     "output_type": "execute_result"
    }
   ],
   "source": [
    "df.head(10)"
   ]
  },
  {
   "cell_type": "code",
   "execution_count": 8,
   "id": "e4e4ca84",
   "metadata": {
    "execution": {
     "iopub.execute_input": "2022-04-04T01:56:38.150410Z",
     "iopub.status.busy": "2022-04-04T01:56:38.142210Z",
     "iopub.status.idle": "2022-04-04T01:56:38.167162Z",
     "shell.execute_reply": "2022-04-04T01:56:38.167772Z",
     "shell.execute_reply.started": "2022-04-04T01:56:02.990856Z"
    },
    "papermill": {
     "duration": 0.077811,
     "end_time": "2022-04-04T01:56:38.167930",
     "exception": false,
     "start_time": "2022-04-04T01:56:38.090119",
     "status": "completed"
    },
    "tags": []
   },
   "outputs": [
    {
     "name": "stdout",
     "output_type": "stream",
     "text": [
      "<class 'pandas.core.frame.DataFrame'>\n",
      "RangeIndex: 8693 entries, 0 to 8692\n",
      "Data columns (total 14 columns):\n",
      " #   Column        Non-Null Count  Dtype  \n",
      "---  ------        --------------  -----  \n",
      " 0   PassengerId   8693 non-null   object \n",
      " 1   HomePlanet    8492 non-null   object \n",
      " 2   CryoSleep     8476 non-null   object \n",
      " 3   Cabin         8494 non-null   object \n",
      " 4   Destination   8511 non-null   object \n",
      " 5   Age           8514 non-null   float64\n",
      " 6   VIP           8490 non-null   object \n",
      " 7   RoomService   8512 non-null   float64\n",
      " 8   FoodCourt     8510 non-null   float64\n",
      " 9   ShoppingMall  8485 non-null   float64\n",
      " 10  Spa           8510 non-null   float64\n",
      " 11  VRDeck        8505 non-null   float64\n",
      " 12  Name          8493 non-null   object \n",
      " 13  Transported   8693 non-null   bool   \n",
      "dtypes: bool(1), float64(6), object(7)\n",
      "memory usage: 891.5+ KB\n"
     ]
    }
   ],
   "source": [
    "df.info()"
   ]
  },
  {
   "cell_type": "code",
   "execution_count": 9,
   "id": "d1b2e346",
   "metadata": {
    "execution": {
     "iopub.execute_input": "2022-04-04T01:56:38.266510Z",
     "iopub.status.busy": "2022-04-04T01:56:38.265881Z",
     "iopub.status.idle": "2022-04-04T01:56:38.279997Z",
     "shell.execute_reply": "2022-04-04T01:56:38.280617Z",
     "shell.execute_reply.started": "2022-04-04T01:56:03.071834Z"
    },
    "papermill": {
     "duration": 0.064885,
     "end_time": "2022-04-04T01:56:38.280788",
     "exception": false,
     "start_time": "2022-04-04T01:56:38.215903",
     "status": "completed"
    },
    "tags": []
   },
   "outputs": [
    {
     "name": "stdout",
     "output_type": "stream",
     "text": [
      "<class 'pandas.core.frame.DataFrame'>\n",
      "RangeIndex: 4277 entries, 0 to 4276\n",
      "Data columns (total 13 columns):\n",
      " #   Column        Non-Null Count  Dtype  \n",
      "---  ------        --------------  -----  \n",
      " 0   PassengerId   4277 non-null   object \n",
      " 1   HomePlanet    4190 non-null   object \n",
      " 2   CryoSleep     4184 non-null   object \n",
      " 3   Cabin         4177 non-null   object \n",
      " 4   Destination   4185 non-null   object \n",
      " 5   Age           4186 non-null   float64\n",
      " 6   VIP           4184 non-null   object \n",
      " 7   RoomService   4195 non-null   float64\n",
      " 8   FoodCourt     4171 non-null   float64\n",
      " 9   ShoppingMall  4179 non-null   float64\n",
      " 10  Spa           4176 non-null   float64\n",
      " 11  VRDeck        4197 non-null   float64\n",
      " 12  Name          4183 non-null   object \n",
      "dtypes: float64(6), object(7)\n",
      "memory usage: 434.5+ KB\n"
     ]
    }
   ],
   "source": [
    "test.info()"
   ]
  },
  {
   "cell_type": "markdown",
   "id": "77be6aa2",
   "metadata": {
    "papermill": {
     "duration": 0.048611,
     "end_time": "2022-04-04T01:56:38.378124",
     "exception": false,
     "start_time": "2022-04-04T01:56:38.329513",
     "status": "completed"
    },
    "tags": []
   },
   "source": [
    "- 드랍을 시키는 이유는 모형에 아무런 영향을 주지 않기 때문.\n",
    "- 드랍은 지정된 행이나 열을 삭제하기 때문에 행축을 지정(axis= 0 또는 1 )"
   ]
  },
  {
   "cell_type": "code",
   "execution_count": 10,
   "id": "26b7ff65",
   "metadata": {
    "execution": {
     "iopub.execute_input": "2022-04-04T01:56:38.478005Z",
     "iopub.status.busy": "2022-04-04T01:56:38.477375Z",
     "iopub.status.idle": "2022-04-04T01:56:38.480221Z",
     "shell.execute_reply": "2022-04-04T01:56:38.480819Z",
     "shell.execute_reply.started": "2022-04-04T01:56:03.131322Z"
    },
    "papermill": {
     "duration": 0.054131,
     "end_time": "2022-04-04T01:56:38.481006",
     "exception": false,
     "start_time": "2022-04-04T01:56:38.426875",
     "status": "completed"
    },
    "tags": []
   },
   "outputs": [],
   "source": [
    "#df = df.drop(['Cabin'], axis=1)\n",
    "#df"
   ]
  },
  {
   "cell_type": "code",
   "execution_count": 11,
   "id": "e57a1f02",
   "metadata": {
    "execution": {
     "iopub.execute_input": "2022-04-04T01:56:38.579733Z",
     "iopub.status.busy": "2022-04-04T01:56:38.579099Z",
     "iopub.status.idle": "2022-04-04T01:56:38.581822Z",
     "shell.execute_reply": "2022-04-04T01:56:38.582395Z",
     "shell.execute_reply.started": "2022-04-04T01:56:03.186399Z"
    },
    "papermill": {
     "duration": 0.05374,
     "end_time": "2022-04-04T01:56:38.582545",
     "exception": false,
     "start_time": "2022-04-04T01:56:38.528805",
     "status": "completed"
    },
    "tags": []
   },
   "outputs": [],
   "source": [
    "#test = test.drop(['Cabin'], axis=1)\n",
    "#test"
   ]
  },
  {
   "cell_type": "code",
   "execution_count": 12,
   "id": "6067ea5a",
   "metadata": {
    "execution": {
     "iopub.execute_input": "2022-04-04T01:56:38.682820Z",
     "iopub.status.busy": "2022-04-04T01:56:38.682207Z",
     "iopub.status.idle": "2022-04-04T01:56:38.713067Z",
     "shell.execute_reply": "2022-04-04T01:56:38.713578Z",
     "shell.execute_reply.started": "2022-04-04T01:56:03.249044Z"
    },
    "papermill": {
     "duration": 0.082338,
     "end_time": "2022-04-04T01:56:38.713743",
     "exception": false,
     "start_time": "2022-04-04T01:56:38.631405",
     "status": "completed"
    },
    "tags": []
   },
   "outputs": [
    {
     "data": {
      "text/html": [
       "<div>\n",
       "<style scoped>\n",
       "    .dataframe tbody tr th:only-of-type {\n",
       "        vertical-align: middle;\n",
       "    }\n",
       "\n",
       "    .dataframe tbody tr th {\n",
       "        vertical-align: top;\n",
       "    }\n",
       "\n",
       "    .dataframe thead th {\n",
       "        text-align: right;\n",
       "    }\n",
       "</style>\n",
       "<table border=\"1\" class=\"dataframe\">\n",
       "  <thead>\n",
       "    <tr style=\"text-align: right;\">\n",
       "      <th></th>\n",
       "      <th>Age</th>\n",
       "      <th>RoomService</th>\n",
       "      <th>FoodCourt</th>\n",
       "      <th>ShoppingMall</th>\n",
       "      <th>Spa</th>\n",
       "      <th>VRDeck</th>\n",
       "    </tr>\n",
       "  </thead>\n",
       "  <tbody>\n",
       "    <tr>\n",
       "      <th>count</th>\n",
       "      <td>8514.000000</td>\n",
       "      <td>8512.000000</td>\n",
       "      <td>8510.000000</td>\n",
       "      <td>8485.000000</td>\n",
       "      <td>8510.000000</td>\n",
       "      <td>8505.000000</td>\n",
       "    </tr>\n",
       "    <tr>\n",
       "      <th>mean</th>\n",
       "      <td>28.827930</td>\n",
       "      <td>224.687617</td>\n",
       "      <td>458.077203</td>\n",
       "      <td>173.729169</td>\n",
       "      <td>311.138778</td>\n",
       "      <td>304.854791</td>\n",
       "    </tr>\n",
       "    <tr>\n",
       "      <th>std</th>\n",
       "      <td>14.489021</td>\n",
       "      <td>666.717663</td>\n",
       "      <td>1611.489240</td>\n",
       "      <td>604.696458</td>\n",
       "      <td>1136.705535</td>\n",
       "      <td>1145.717189</td>\n",
       "    </tr>\n",
       "    <tr>\n",
       "      <th>min</th>\n",
       "      <td>0.000000</td>\n",
       "      <td>0.000000</td>\n",
       "      <td>0.000000</td>\n",
       "      <td>0.000000</td>\n",
       "      <td>0.000000</td>\n",
       "      <td>0.000000</td>\n",
       "    </tr>\n",
       "    <tr>\n",
       "      <th>25%</th>\n",
       "      <td>19.000000</td>\n",
       "      <td>0.000000</td>\n",
       "      <td>0.000000</td>\n",
       "      <td>0.000000</td>\n",
       "      <td>0.000000</td>\n",
       "      <td>0.000000</td>\n",
       "    </tr>\n",
       "    <tr>\n",
       "      <th>50%</th>\n",
       "      <td>27.000000</td>\n",
       "      <td>0.000000</td>\n",
       "      <td>0.000000</td>\n",
       "      <td>0.000000</td>\n",
       "      <td>0.000000</td>\n",
       "      <td>0.000000</td>\n",
       "    </tr>\n",
       "    <tr>\n",
       "      <th>75%</th>\n",
       "      <td>38.000000</td>\n",
       "      <td>47.000000</td>\n",
       "      <td>76.000000</td>\n",
       "      <td>27.000000</td>\n",
       "      <td>59.000000</td>\n",
       "      <td>46.000000</td>\n",
       "    </tr>\n",
       "    <tr>\n",
       "      <th>max</th>\n",
       "      <td>79.000000</td>\n",
       "      <td>14327.000000</td>\n",
       "      <td>29813.000000</td>\n",
       "      <td>23492.000000</td>\n",
       "      <td>22408.000000</td>\n",
       "      <td>24133.000000</td>\n",
       "    </tr>\n",
       "  </tbody>\n",
       "</table>\n",
       "</div>"
      ],
      "text/plain": [
       "               Age   RoomService     FoodCourt  ShoppingMall           Spa  \\\n",
       "count  8514.000000   8512.000000   8510.000000   8485.000000   8510.000000   \n",
       "mean     28.827930    224.687617    458.077203    173.729169    311.138778   \n",
       "std      14.489021    666.717663   1611.489240    604.696458   1136.705535   \n",
       "min       0.000000      0.000000      0.000000      0.000000      0.000000   \n",
       "25%      19.000000      0.000000      0.000000      0.000000      0.000000   \n",
       "50%      27.000000      0.000000      0.000000      0.000000      0.000000   \n",
       "75%      38.000000     47.000000     76.000000     27.000000     59.000000   \n",
       "max      79.000000  14327.000000  29813.000000  23492.000000  22408.000000   \n",
       "\n",
       "             VRDeck  \n",
       "count   8505.000000  \n",
       "mean     304.854791  \n",
       "std     1145.717189  \n",
       "min        0.000000  \n",
       "25%        0.000000  \n",
       "50%        0.000000  \n",
       "75%       46.000000  \n",
       "max    24133.000000  "
      ]
     },
     "execution_count": 12,
     "metadata": {},
     "output_type": "execute_result"
    }
   ],
   "source": [
    "df.describe()"
   ]
  },
  {
   "cell_type": "markdown",
   "id": "8fa2aae8",
   "metadata": {
    "papermill": {
     "duration": 0.048597,
     "end_time": "2022-04-04T01:56:38.810955",
     "exception": false,
     "start_time": "2022-04-04T01:56:38.762358",
     "status": "completed"
    },
    "tags": []
   },
   "source": [
    "df(train)의 누락값을 na 해주고 describe 해주기"
   ]
  },
  {
   "cell_type": "code",
   "execution_count": 13,
   "id": "4acf6193",
   "metadata": {
    "execution": {
     "iopub.execute_input": "2022-04-04T01:56:38.913055Z",
     "iopub.status.busy": "2022-04-04T01:56:38.912402Z",
     "iopub.status.idle": "2022-04-04T01:56:38.950680Z",
     "shell.execute_reply": "2022-04-04T01:56:38.950088Z",
     "shell.execute_reply.started": "2022-04-04T01:56:03.311590Z"
    },
    "papermill": {
     "duration": 0.091321,
     "end_time": "2022-04-04T01:56:38.950810",
     "exception": false,
     "start_time": "2022-04-04T01:56:38.859489",
     "status": "completed"
    },
    "tags": []
   },
   "outputs": [
    {
     "data": {
      "text/html": [
       "<div>\n",
       "<style scoped>\n",
       "    .dataframe tbody tr th:only-of-type {\n",
       "        vertical-align: middle;\n",
       "    }\n",
       "\n",
       "    .dataframe tbody tr th {\n",
       "        vertical-align: top;\n",
       "    }\n",
       "\n",
       "    .dataframe thead th {\n",
       "        text-align: right;\n",
       "    }\n",
       "</style>\n",
       "<table border=\"1\" class=\"dataframe\">\n",
       "  <thead>\n",
       "    <tr style=\"text-align: right;\">\n",
       "      <th></th>\n",
       "      <th>Age</th>\n",
       "      <th>RoomService</th>\n",
       "      <th>FoodCourt</th>\n",
       "      <th>ShoppingMall</th>\n",
       "      <th>Spa</th>\n",
       "      <th>VRDeck</th>\n",
       "    </tr>\n",
       "  </thead>\n",
       "  <tbody>\n",
       "    <tr>\n",
       "      <th>count</th>\n",
       "      <td>6606.000000</td>\n",
       "      <td>6606.000000</td>\n",
       "      <td>6606.000000</td>\n",
       "      <td>6606.000000</td>\n",
       "      <td>6606.000000</td>\n",
       "      <td>6606.000000</td>\n",
       "    </tr>\n",
       "    <tr>\n",
       "      <th>mean</th>\n",
       "      <td>28.894036</td>\n",
       "      <td>222.991674</td>\n",
       "      <td>478.958523</td>\n",
       "      <td>178.356494</td>\n",
       "      <td>313.161520</td>\n",
       "      <td>303.780048</td>\n",
       "    </tr>\n",
       "    <tr>\n",
       "      <th>std</th>\n",
       "      <td>14.533429</td>\n",
       "      <td>644.987936</td>\n",
       "      <td>1678.592291</td>\n",
       "      <td>576.328407</td>\n",
       "      <td>1144.016291</td>\n",
       "      <td>1127.142166</td>\n",
       "    </tr>\n",
       "    <tr>\n",
       "      <th>min</th>\n",
       "      <td>0.000000</td>\n",
       "      <td>0.000000</td>\n",
       "      <td>0.000000</td>\n",
       "      <td>0.000000</td>\n",
       "      <td>0.000000</td>\n",
       "      <td>0.000000</td>\n",
       "    </tr>\n",
       "    <tr>\n",
       "      <th>25%</th>\n",
       "      <td>19.000000</td>\n",
       "      <td>0.000000</td>\n",
       "      <td>0.000000</td>\n",
       "      <td>0.000000</td>\n",
       "      <td>0.000000</td>\n",
       "      <td>0.000000</td>\n",
       "    </tr>\n",
       "    <tr>\n",
       "      <th>50%</th>\n",
       "      <td>27.000000</td>\n",
       "      <td>0.000000</td>\n",
       "      <td>0.000000</td>\n",
       "      <td>0.000000</td>\n",
       "      <td>0.000000</td>\n",
       "      <td>0.000000</td>\n",
       "    </tr>\n",
       "    <tr>\n",
       "      <th>75%</th>\n",
       "      <td>38.000000</td>\n",
       "      <td>49.000000</td>\n",
       "      <td>82.750000</td>\n",
       "      <td>30.000000</td>\n",
       "      <td>65.000000</td>\n",
       "      <td>52.000000</td>\n",
       "    </tr>\n",
       "    <tr>\n",
       "      <th>max</th>\n",
       "      <td>79.000000</td>\n",
       "      <td>9920.000000</td>\n",
       "      <td>29813.000000</td>\n",
       "      <td>12253.000000</td>\n",
       "      <td>22408.000000</td>\n",
       "      <td>20336.000000</td>\n",
       "    </tr>\n",
       "  </tbody>\n",
       "</table>\n",
       "</div>"
      ],
      "text/plain": [
       "               Age  RoomService     FoodCourt  ShoppingMall           Spa  \\\n",
       "count  6606.000000  6606.000000   6606.000000   6606.000000   6606.000000   \n",
       "mean     28.894036   222.991674    478.958523    178.356494    313.161520   \n",
       "std      14.533429   644.987936   1678.592291    576.328407   1144.016291   \n",
       "min       0.000000     0.000000      0.000000      0.000000      0.000000   \n",
       "25%      19.000000     0.000000      0.000000      0.000000      0.000000   \n",
       "50%      27.000000     0.000000      0.000000      0.000000      0.000000   \n",
       "75%      38.000000    49.000000     82.750000     30.000000     65.000000   \n",
       "max      79.000000  9920.000000  29813.000000  12253.000000  22408.000000   \n",
       "\n",
       "             VRDeck  \n",
       "count   6606.000000  \n",
       "mean     303.780048  \n",
       "std     1127.142166  \n",
       "min        0.000000  \n",
       "25%        0.000000  \n",
       "50%        0.000000  \n",
       "75%       52.000000  \n",
       "max    20336.000000  "
      ]
     },
     "execution_count": 13,
     "metadata": {},
     "output_type": "execute_result"
    }
   ],
   "source": [
    "df.dropna().describe()"
   ]
  },
  {
   "cell_type": "code",
   "execution_count": 14,
   "id": "1805ab11",
   "metadata": {
    "execution": {
     "iopub.execute_input": "2022-04-04T01:56:39.056169Z",
     "iopub.status.busy": "2022-04-04T01:56:39.055532Z",
     "iopub.status.idle": "2022-04-04T01:56:39.079118Z",
     "shell.execute_reply": "2022-04-04T01:56:39.078569Z",
     "shell.execute_reply.started": "2022-04-04T01:56:03.374097Z"
    },
    "papermill": {
     "duration": 0.079277,
     "end_time": "2022-04-04T01:56:39.079258",
     "exception": false,
     "start_time": "2022-04-04T01:56:38.999981",
     "status": "completed"
    },
    "tags": []
   },
   "outputs": [
    {
     "data": {
      "text/html": [
       "<div>\n",
       "<style scoped>\n",
       "    .dataframe tbody tr th:only-of-type {\n",
       "        vertical-align: middle;\n",
       "    }\n",
       "\n",
       "    .dataframe tbody tr th {\n",
       "        vertical-align: top;\n",
       "    }\n",
       "\n",
       "    .dataframe thead th {\n",
       "        text-align: right;\n",
       "    }\n",
       "</style>\n",
       "<table border=\"1\" class=\"dataframe\">\n",
       "  <thead>\n",
       "    <tr style=\"text-align: right;\">\n",
       "      <th></th>\n",
       "      <th>Age</th>\n",
       "      <th>RoomService</th>\n",
       "      <th>FoodCourt</th>\n",
       "      <th>ShoppingMall</th>\n",
       "      <th>Spa</th>\n",
       "      <th>VRDeck</th>\n",
       "    </tr>\n",
       "  </thead>\n",
       "  <tbody>\n",
       "    <tr>\n",
       "      <th>count</th>\n",
       "      <td>4186.000000</td>\n",
       "      <td>4195.000000</td>\n",
       "      <td>4171.000000</td>\n",
       "      <td>4179.000000</td>\n",
       "      <td>4176.000000</td>\n",
       "      <td>4197.000000</td>\n",
       "    </tr>\n",
       "    <tr>\n",
       "      <th>mean</th>\n",
       "      <td>28.658146</td>\n",
       "      <td>219.266269</td>\n",
       "      <td>439.484296</td>\n",
       "      <td>177.295525</td>\n",
       "      <td>303.052443</td>\n",
       "      <td>310.710031</td>\n",
       "    </tr>\n",
       "    <tr>\n",
       "      <th>std</th>\n",
       "      <td>14.179072</td>\n",
       "      <td>607.011289</td>\n",
       "      <td>1527.663045</td>\n",
       "      <td>560.821123</td>\n",
       "      <td>1117.186015</td>\n",
       "      <td>1246.994742</td>\n",
       "    </tr>\n",
       "    <tr>\n",
       "      <th>min</th>\n",
       "      <td>0.000000</td>\n",
       "      <td>0.000000</td>\n",
       "      <td>0.000000</td>\n",
       "      <td>0.000000</td>\n",
       "      <td>0.000000</td>\n",
       "      <td>0.000000</td>\n",
       "    </tr>\n",
       "    <tr>\n",
       "      <th>25%</th>\n",
       "      <td>19.000000</td>\n",
       "      <td>0.000000</td>\n",
       "      <td>0.000000</td>\n",
       "      <td>0.000000</td>\n",
       "      <td>0.000000</td>\n",
       "      <td>0.000000</td>\n",
       "    </tr>\n",
       "    <tr>\n",
       "      <th>50%</th>\n",
       "      <td>26.000000</td>\n",
       "      <td>0.000000</td>\n",
       "      <td>0.000000</td>\n",
       "      <td>0.000000</td>\n",
       "      <td>0.000000</td>\n",
       "      <td>0.000000</td>\n",
       "    </tr>\n",
       "    <tr>\n",
       "      <th>75%</th>\n",
       "      <td>37.000000</td>\n",
       "      <td>53.000000</td>\n",
       "      <td>78.000000</td>\n",
       "      <td>33.000000</td>\n",
       "      <td>50.000000</td>\n",
       "      <td>36.000000</td>\n",
       "    </tr>\n",
       "    <tr>\n",
       "      <th>max</th>\n",
       "      <td>79.000000</td>\n",
       "      <td>11567.000000</td>\n",
       "      <td>25273.000000</td>\n",
       "      <td>8292.000000</td>\n",
       "      <td>19844.000000</td>\n",
       "      <td>22272.000000</td>\n",
       "    </tr>\n",
       "  </tbody>\n",
       "</table>\n",
       "</div>"
      ],
      "text/plain": [
       "               Age   RoomService     FoodCourt  ShoppingMall           Spa  \\\n",
       "count  4186.000000   4195.000000   4171.000000   4179.000000   4176.000000   \n",
       "mean     28.658146    219.266269    439.484296    177.295525    303.052443   \n",
       "std      14.179072    607.011289   1527.663045    560.821123   1117.186015   \n",
       "min       0.000000      0.000000      0.000000      0.000000      0.000000   \n",
       "25%      19.000000      0.000000      0.000000      0.000000      0.000000   \n",
       "50%      26.000000      0.000000      0.000000      0.000000      0.000000   \n",
       "75%      37.000000     53.000000     78.000000     33.000000     50.000000   \n",
       "max      79.000000  11567.000000  25273.000000   8292.000000  19844.000000   \n",
       "\n",
       "             VRDeck  \n",
       "count   4197.000000  \n",
       "mean     310.710031  \n",
       "std     1246.994742  \n",
       "min        0.000000  \n",
       "25%        0.000000  \n",
       "50%        0.000000  \n",
       "75%       36.000000  \n",
       "max    22272.000000  "
      ]
     },
     "execution_count": 14,
     "metadata": {},
     "output_type": "execute_result"
    }
   ],
   "source": [
    "test.describe()"
   ]
  },
  {
   "cell_type": "code",
   "execution_count": 15,
   "id": "3912adfe",
   "metadata": {
    "execution": {
     "iopub.execute_input": "2022-04-04T01:56:39.189681Z",
     "iopub.status.busy": "2022-04-04T01:56:39.185428Z",
     "iopub.status.idle": "2022-04-04T01:56:39.216882Z",
     "shell.execute_reply": "2022-04-04T01:56:39.216375Z",
     "shell.execute_reply.started": "2022-04-04T01:56:03.433757Z"
    },
    "papermill": {
     "duration": 0.086543,
     "end_time": "2022-04-04T01:56:39.217040",
     "exception": false,
     "start_time": "2022-04-04T01:56:39.130497",
     "status": "completed"
    },
    "tags": []
   },
   "outputs": [
    {
     "data": {
      "text/html": [
       "<div>\n",
       "<style scoped>\n",
       "    .dataframe tbody tr th:only-of-type {\n",
       "        vertical-align: middle;\n",
       "    }\n",
       "\n",
       "    .dataframe tbody tr th {\n",
       "        vertical-align: top;\n",
       "    }\n",
       "\n",
       "    .dataframe thead th {\n",
       "        text-align: right;\n",
       "    }\n",
       "</style>\n",
       "<table border=\"1\" class=\"dataframe\">\n",
       "  <thead>\n",
       "    <tr style=\"text-align: right;\">\n",
       "      <th></th>\n",
       "      <th>Age</th>\n",
       "      <th>RoomService</th>\n",
       "      <th>FoodCourt</th>\n",
       "      <th>ShoppingMall</th>\n",
       "      <th>Spa</th>\n",
       "      <th>VRDeck</th>\n",
       "    </tr>\n",
       "  </thead>\n",
       "  <tbody>\n",
       "    <tr>\n",
       "      <th>count</th>\n",
       "      <td>3281.000000</td>\n",
       "      <td>3281.000000</td>\n",
       "      <td>3281.000000</td>\n",
       "      <td>3281.000000</td>\n",
       "      <td>3281.000000</td>\n",
       "      <td>3281.000000</td>\n",
       "    </tr>\n",
       "    <tr>\n",
       "      <th>mean</th>\n",
       "      <td>28.582444</td>\n",
       "      <td>220.147516</td>\n",
       "      <td>440.914051</td>\n",
       "      <td>175.314233</td>\n",
       "      <td>296.718683</td>\n",
       "      <td>300.355684</td>\n",
       "    </tr>\n",
       "    <tr>\n",
       "      <th>std</th>\n",
       "      <td>14.112137</td>\n",
       "      <td>619.036964</td>\n",
       "      <td>1491.232741</td>\n",
       "      <td>569.268632</td>\n",
       "      <td>1086.436043</td>\n",
       "      <td>1172.719307</td>\n",
       "    </tr>\n",
       "    <tr>\n",
       "      <th>min</th>\n",
       "      <td>0.000000</td>\n",
       "      <td>0.000000</td>\n",
       "      <td>0.000000</td>\n",
       "      <td>0.000000</td>\n",
       "      <td>0.000000</td>\n",
       "      <td>0.000000</td>\n",
       "    </tr>\n",
       "    <tr>\n",
       "      <th>25%</th>\n",
       "      <td>19.000000</td>\n",
       "      <td>0.000000</td>\n",
       "      <td>0.000000</td>\n",
       "      <td>0.000000</td>\n",
       "      <td>0.000000</td>\n",
       "      <td>0.000000</td>\n",
       "    </tr>\n",
       "    <tr>\n",
       "      <th>50%</th>\n",
       "      <td>26.000000</td>\n",
       "      <td>0.000000</td>\n",
       "      <td>0.000000</td>\n",
       "      <td>0.000000</td>\n",
       "      <td>0.000000</td>\n",
       "      <td>0.000000</td>\n",
       "    </tr>\n",
       "    <tr>\n",
       "      <th>75%</th>\n",
       "      <td>37.000000</td>\n",
       "      <td>53.000000</td>\n",
       "      <td>78.000000</td>\n",
       "      <td>27.000000</td>\n",
       "      <td>49.000000</td>\n",
       "      <td>34.000000</td>\n",
       "    </tr>\n",
       "    <tr>\n",
       "      <th>max</th>\n",
       "      <td>79.000000</td>\n",
       "      <td>11567.000000</td>\n",
       "      <td>20809.000000</td>\n",
       "      <td>8292.000000</td>\n",
       "      <td>15733.000000</td>\n",
       "      <td>19086.000000</td>\n",
       "    </tr>\n",
       "  </tbody>\n",
       "</table>\n",
       "</div>"
      ],
      "text/plain": [
       "               Age   RoomService     FoodCourt  ShoppingMall           Spa  \\\n",
       "count  3281.000000   3281.000000   3281.000000   3281.000000   3281.000000   \n",
       "mean     28.582444    220.147516    440.914051    175.314233    296.718683   \n",
       "std      14.112137    619.036964   1491.232741    569.268632   1086.436043   \n",
       "min       0.000000      0.000000      0.000000      0.000000      0.000000   \n",
       "25%      19.000000      0.000000      0.000000      0.000000      0.000000   \n",
       "50%      26.000000      0.000000      0.000000      0.000000      0.000000   \n",
       "75%      37.000000     53.000000     78.000000     27.000000     49.000000   \n",
       "max      79.000000  11567.000000  20809.000000   8292.000000  15733.000000   \n",
       "\n",
       "             VRDeck  \n",
       "count   3281.000000  \n",
       "mean     300.355684  \n",
       "std     1172.719307  \n",
       "min        0.000000  \n",
       "25%        0.000000  \n",
       "50%        0.000000  \n",
       "75%       34.000000  \n",
       "max    19086.000000  "
      ]
     },
     "execution_count": 15,
     "metadata": {},
     "output_type": "execute_result"
    }
   ],
   "source": [
    "test.dropna().describe()"
   ]
  },
  {
   "cell_type": "markdown",
   "id": "2d54b1ac",
   "metadata": {
    "papermill": {
     "duration": 0.050799,
     "end_time": "2022-04-04T01:56:39.319444",
     "exception": false,
     "start_time": "2022-04-04T01:56:39.268645",
     "status": "completed"
    },
    "tags": []
   },
   "source": [
    "### 결측치 확인"
   ]
  },
  {
   "cell_type": "code",
   "execution_count": 16,
   "id": "cbe1a422",
   "metadata": {
    "execution": {
     "iopub.execute_input": "2022-04-04T01:56:39.424569Z",
     "iopub.status.busy": "2022-04-04T01:56:39.423896Z",
     "iopub.status.idle": "2022-04-04T01:56:39.437898Z",
     "shell.execute_reply": "2022-04-04T01:56:39.438400Z",
     "shell.execute_reply.started": "2022-04-04T01:56:03.475126Z"
    },
    "papermill": {
     "duration": 0.06811,
     "end_time": "2022-04-04T01:56:39.438579",
     "exception": false,
     "start_time": "2022-04-04T01:56:39.370469",
     "status": "completed"
    },
    "tags": []
   },
   "outputs": [
    {
     "data": {
      "text/plain": [
       "PassengerId       0\n",
       "HomePlanet      201\n",
       "CryoSleep       217\n",
       "Cabin           199\n",
       "Destination     182\n",
       "Age             179\n",
       "VIP             203\n",
       "RoomService     181\n",
       "FoodCourt       183\n",
       "ShoppingMall    208\n",
       "Spa             183\n",
       "VRDeck          188\n",
       "Name            200\n",
       "Transported       0\n",
       "dtype: int64"
      ]
     },
     "execution_count": 16,
     "metadata": {},
     "output_type": "execute_result"
    }
   ],
   "source": [
    "df.isnull().sum()"
   ]
  },
  {
   "cell_type": "code",
   "execution_count": 17,
   "id": "8a0e2040",
   "metadata": {
    "execution": {
     "iopub.execute_input": "2022-04-04T01:56:39.544160Z",
     "iopub.status.busy": "2022-04-04T01:56:39.543524Z",
     "iopub.status.idle": "2022-04-04T01:56:39.553548Z",
     "shell.execute_reply": "2022-04-04T01:56:39.554144Z",
     "shell.execute_reply.started": "2022-04-04T01:56:03.564727Z"
    },
    "papermill": {
     "duration": 0.064187,
     "end_time": "2022-04-04T01:56:39.554309",
     "exception": false,
     "start_time": "2022-04-04T01:56:39.490122",
     "status": "completed"
    },
    "tags": []
   },
   "outputs": [
    {
     "data": {
      "text/plain": [
       "PassengerId       0\n",
       "HomePlanet       87\n",
       "CryoSleep        93\n",
       "Cabin           100\n",
       "Destination      92\n",
       "Age              91\n",
       "VIP              93\n",
       "RoomService      82\n",
       "FoodCourt       106\n",
       "ShoppingMall     98\n",
       "Spa             101\n",
       "VRDeck           80\n",
       "Name             94\n",
       "dtype: int64"
      ]
     },
     "execution_count": 17,
     "metadata": {},
     "output_type": "execute_result"
    }
   ],
   "source": [
    "test.isnull().sum()"
   ]
  },
  {
   "cell_type": "code",
   "execution_count": 18,
   "id": "18a5d202",
   "metadata": {
    "execution": {
     "iopub.execute_input": "2022-04-04T01:56:39.661951Z",
     "iopub.status.busy": "2022-04-04T01:56:39.661313Z",
     "iopub.status.idle": "2022-04-04T01:56:39.681808Z",
     "shell.execute_reply": "2022-04-04T01:56:39.682410Z",
     "shell.execute_reply.started": "2022-04-04T01:56:03.662522Z"
    },
    "papermill": {
     "duration": 0.075868,
     "end_time": "2022-04-04T01:56:39.682591",
     "exception": false,
     "start_time": "2022-04-04T01:56:39.606723",
     "status": "completed"
    },
    "tags": []
   },
   "outputs": [
    {
     "data": {
      "text/html": [
       "<div>\n",
       "<style scoped>\n",
       "    .dataframe tbody tr th:only-of-type {\n",
       "        vertical-align: middle;\n",
       "    }\n",
       "\n",
       "    .dataframe tbody tr th {\n",
       "        vertical-align: top;\n",
       "    }\n",
       "\n",
       "    .dataframe thead th {\n",
       "        text-align: right;\n",
       "    }\n",
       "</style>\n",
       "<table border=\"1\" class=\"dataframe\">\n",
       "  <thead>\n",
       "    <tr style=\"text-align: right;\">\n",
       "      <th></th>\n",
       "      <th>PassengerId</th>\n",
       "      <th>HomePlanet</th>\n",
       "      <th>CryoSleep</th>\n",
       "      <th>Cabin</th>\n",
       "      <th>Destination</th>\n",
       "      <th>Age</th>\n",
       "      <th>RoomService</th>\n",
       "      <th>FoodCourt</th>\n",
       "      <th>ShoppingMall</th>\n",
       "      <th>Spa</th>\n",
       "      <th>VRDeck</th>\n",
       "      <th>Name</th>\n",
       "      <th>Transported</th>\n",
       "    </tr>\n",
       "    <tr>\n",
       "      <th>VIP</th>\n",
       "      <th></th>\n",
       "      <th></th>\n",
       "      <th></th>\n",
       "      <th></th>\n",
       "      <th></th>\n",
       "      <th></th>\n",
       "      <th></th>\n",
       "      <th></th>\n",
       "      <th></th>\n",
       "      <th></th>\n",
       "      <th></th>\n",
       "      <th></th>\n",
       "      <th></th>\n",
       "    </tr>\n",
       "  </thead>\n",
       "  <tbody>\n",
       "    <tr>\n",
       "      <th>False</th>\n",
       "      <td>8291</td>\n",
       "      <td>8098</td>\n",
       "      <td>8084</td>\n",
       "      <td>8104</td>\n",
       "      <td>8115</td>\n",
       "      <td>8119</td>\n",
       "      <td>8118</td>\n",
       "      <td>8118</td>\n",
       "      <td>8092</td>\n",
       "      <td>8112</td>\n",
       "      <td>8108</td>\n",
       "      <td>8095</td>\n",
       "      <td>8291</td>\n",
       "    </tr>\n",
       "    <tr>\n",
       "      <th>True</th>\n",
       "      <td>199</td>\n",
       "      <td>194</td>\n",
       "      <td>196</td>\n",
       "      <td>193</td>\n",
       "      <td>197</td>\n",
       "      <td>198</td>\n",
       "      <td>195</td>\n",
       "      <td>193</td>\n",
       "      <td>194</td>\n",
       "      <td>197</td>\n",
       "      <td>195</td>\n",
       "      <td>196</td>\n",
       "      <td>199</td>\n",
       "    </tr>\n",
       "  </tbody>\n",
       "</table>\n",
       "</div>"
      ],
      "text/plain": [
       "       PassengerId  HomePlanet  CryoSleep  Cabin  Destination   Age  \\\n",
       "VIP                                                                   \n",
       "False         8291        8098       8084   8104         8115  8119   \n",
       "True           199         194        196    193          197   198   \n",
       "\n",
       "       RoomService  FoodCourt  ShoppingMall   Spa  VRDeck  Name  Transported  \n",
       "VIP                                                                           \n",
       "False         8118       8118          8092  8112    8108  8095         8291  \n",
       "True           195        193           194   197     195   196          199  "
      ]
     },
     "execution_count": 18,
     "metadata": {},
     "output_type": "execute_result"
    }
   ],
   "source": [
    "df.groupby('VIP').count()"
   ]
  },
  {
   "cell_type": "code",
   "execution_count": 19,
   "id": "cdadff00",
   "metadata": {
    "execution": {
     "iopub.execute_input": "2022-04-04T01:56:39.789230Z",
     "iopub.status.busy": "2022-04-04T01:56:39.788601Z",
     "iopub.status.idle": "2022-04-04T01:56:40.034416Z",
     "shell.execute_reply": "2022-04-04T01:56:40.033927Z",
     "shell.execute_reply.started": "2022-04-04T01:56:03.721530Z"
    },
    "papermill": {
     "duration": 0.299768,
     "end_time": "2022-04-04T01:56:40.034566",
     "exception": false,
     "start_time": "2022-04-04T01:56:39.734798",
     "status": "completed"
    },
    "tags": []
   },
   "outputs": [
    {
     "data": {
      "image/png": "[encoded data removed]",
      "text/plain": [
       "<Figure size 432x288 with 1 Axes>"
      ]
     },
     "metadata": {},
     "output_type": "display_data"
    }
   ],
   "source": [
    "sns.countplot(y='VIP', data=df);"
   ]
  },
  {
   "cell_type": "markdown",
   "id": "d9b1c8e5",
   "metadata": {
    "papermill": {
     "duration": 0.053578,
     "end_time": "2022-04-04T01:56:40.143177",
     "exception": false,
     "start_time": "2022-04-04T01:56:40.089599",
     "status": "completed"
    },
    "tags": []
   },
   "source": [
    "- 저온 수면을 안한 사람이 많음"
   ]
  },
  {
   "cell_type": "code",
   "execution_count": 20,
   "id": "d15afa24",
   "metadata": {
    "execution": {
     "iopub.execute_input": "2022-04-04T01:56:40.260119Z",
     "iopub.status.busy": "2022-04-04T01:56:40.258231Z",
     "iopub.status.idle": "2022-04-04T01:56:40.279587Z",
     "shell.execute_reply": "2022-04-04T01:56:40.278946Z",
     "shell.execute_reply.started": "2022-04-04T01:56:03.954016Z"
    },
    "papermill": {
     "duration": 0.082241,
     "end_time": "2022-04-04T01:56:40.279724",
     "exception": false,
     "start_time": "2022-04-04T01:56:40.197483",
     "status": "completed"
    },
    "tags": []
   },
   "outputs": [
    {
     "data": {
      "text/html": [
       "<div>\n",
       "<style scoped>\n",
       "    .dataframe tbody tr th:only-of-type {\n",
       "        vertical-align: middle;\n",
       "    }\n",
       "\n",
       "    .dataframe tbody tr th {\n",
       "        vertical-align: top;\n",
       "    }\n",
       "\n",
       "    .dataframe thead th {\n",
       "        text-align: right;\n",
       "    }\n",
       "</style>\n",
       "<table border=\"1\" class=\"dataframe\">\n",
       "  <thead>\n",
       "    <tr style=\"text-align: right;\">\n",
       "      <th></th>\n",
       "      <th>PassengerId</th>\n",
       "      <th>HomePlanet</th>\n",
       "      <th>Cabin</th>\n",
       "      <th>Destination</th>\n",
       "      <th>Age</th>\n",
       "      <th>VIP</th>\n",
       "      <th>RoomService</th>\n",
       "      <th>FoodCourt</th>\n",
       "      <th>ShoppingMall</th>\n",
       "      <th>Spa</th>\n",
       "      <th>VRDeck</th>\n",
       "      <th>Name</th>\n",
       "      <th>Transported</th>\n",
       "    </tr>\n",
       "    <tr>\n",
       "      <th>CryoSleep</th>\n",
       "      <th></th>\n",
       "      <th></th>\n",
       "      <th></th>\n",
       "      <th></th>\n",
       "      <th></th>\n",
       "      <th></th>\n",
       "      <th></th>\n",
       "      <th></th>\n",
       "      <th></th>\n",
       "      <th></th>\n",
       "      <th></th>\n",
       "      <th></th>\n",
       "      <th></th>\n",
       "    </tr>\n",
       "  </thead>\n",
       "  <tbody>\n",
       "    <tr>\n",
       "      <th>False</th>\n",
       "      <td>5439</td>\n",
       "      <td>5315</td>\n",
       "      <td>5331</td>\n",
       "      <td>5309</td>\n",
       "      <td>5343</td>\n",
       "      <td>5318</td>\n",
       "      <td>5328</td>\n",
       "      <td>5329</td>\n",
       "      <td>5335</td>\n",
       "      <td>5326</td>\n",
       "      <td>5320</td>\n",
       "      <td>5311</td>\n",
       "      <td>5439</td>\n",
       "    </tr>\n",
       "    <tr>\n",
       "      <th>True</th>\n",
       "      <td>3037</td>\n",
       "      <td>2962</td>\n",
       "      <td>2953</td>\n",
       "      <td>2989</td>\n",
       "      <td>2955</td>\n",
       "      <td>2962</td>\n",
       "      <td>2969</td>\n",
       "      <td>2967</td>\n",
       "      <td>2941</td>\n",
       "      <td>2972</td>\n",
       "      <td>2975</td>\n",
       "      <td>2975</td>\n",
       "      <td>3037</td>\n",
       "    </tr>\n",
       "  </tbody>\n",
       "</table>\n",
       "</div>"
      ],
      "text/plain": [
       "           PassengerId  HomePlanet  Cabin  Destination   Age   VIP  \\\n",
       "CryoSleep                                                            \n",
       "False             5439        5315   5331         5309  5343  5318   \n",
       "True              3037        2962   2953         2989  2955  2962   \n",
       "\n",
       "           RoomService  FoodCourt  ShoppingMall   Spa  VRDeck  Name  \\\n",
       "CryoSleep                                                             \n",
       "False             5328       5329          5335  5326    5320  5311   \n",
       "True              2969       2967          2941  2972    2975  2975   \n",
       "\n",
       "           Transported  \n",
       "CryoSleep               \n",
       "False             5439  \n",
       "True              3037  "
      ]
     },
     "execution_count": 20,
     "metadata": {},
     "output_type": "execute_result"
    }
   ],
   "source": [
    "df.groupby('CryoSleep').count()"
   ]
  },
  {
   "cell_type": "code",
   "execution_count": 21,
   "id": "825720ea",
   "metadata": {
    "execution": {
     "iopub.execute_input": "2022-04-04T01:56:40.418621Z",
     "iopub.status.busy": "2022-04-04T01:56:40.399865Z",
     "iopub.status.idle": "2022-04-04T01:56:40.631656Z",
     "shell.execute_reply": "2022-04-04T01:56:40.631126Z",
     "shell.execute_reply.started": "2022-04-04T01:56:03.982345Z"
    },
    "papermill": {
     "duration": 0.297856,
     "end_time": "2022-04-04T01:56:40.631818",
     "exception": false,
     "start_time": "2022-04-04T01:56:40.333962",
     "status": "completed"
    },
    "tags": []
   },
   "outputs": [
    {
     "data": {
      "image/png": "[encoded data removed]",
      "text/plain": [
       "<Figure size 432x288 with 1 Axes>"
      ]
     },
     "metadata": {},
     "output_type": "display_data"
    }
   ],
   "source": [
    "sns.countplot(y='CryoSleep', data=df);"
   ]
  },
  {
   "cell_type": "markdown",
   "id": "b1c59644",
   "metadata": {
    "papermill": {
     "duration": 0.067417,
     "end_time": "2022-04-04T01:56:40.767245",
     "exception": false,
     "start_time": "2022-04-04T01:56:40.699828",
     "status": "completed"
    },
    "tags": []
   },
   "source": [
    "Transported는 수가 비슷함."
   ]
  },
  {
   "cell_type": "code",
   "execution_count": 22,
   "id": "a13705bd",
   "metadata": {
    "execution": {
     "iopub.execute_input": "2022-04-04T01:56:40.907818Z",
     "iopub.status.busy": "2022-04-04T01:56:40.905066Z",
     "iopub.status.idle": "2022-04-04T01:56:40.927911Z",
     "shell.execute_reply": "2022-04-04T01:56:40.927398Z",
     "shell.execute_reply.started": "2022-04-04T01:56:04.205031Z"
    },
    "papermill": {
     "duration": 0.092889,
     "end_time": "2022-04-04T01:56:40.928081",
     "exception": false,
     "start_time": "2022-04-04T01:56:40.835192",
     "status": "completed"
    },
    "tags": []
   },
   "outputs": [
    {
     "data": {
      "text/html": [
       "<div>\n",
       "<style scoped>\n",
       "    .dataframe tbody tr th:only-of-type {\n",
       "        vertical-align: middle;\n",
       "    }\n",
       "\n",
       "    .dataframe tbody tr th {\n",
       "        vertical-align: top;\n",
       "    }\n",
       "\n",
       "    .dataframe thead th {\n",
       "        text-align: right;\n",
       "    }\n",
       "</style>\n",
       "<table border=\"1\" class=\"dataframe\">\n",
       "  <thead>\n",
       "    <tr style=\"text-align: right;\">\n",
       "      <th></th>\n",
       "      <th>PassengerId</th>\n",
       "      <th>HomePlanet</th>\n",
       "      <th>CryoSleep</th>\n",
       "      <th>Cabin</th>\n",
       "      <th>Destination</th>\n",
       "      <th>Age</th>\n",
       "      <th>VIP</th>\n",
       "      <th>RoomService</th>\n",
       "      <th>FoodCourt</th>\n",
       "      <th>ShoppingMall</th>\n",
       "      <th>Spa</th>\n",
       "      <th>VRDeck</th>\n",
       "      <th>Name</th>\n",
       "    </tr>\n",
       "    <tr>\n",
       "      <th>Transported</th>\n",
       "      <th></th>\n",
       "      <th></th>\n",
       "      <th></th>\n",
       "      <th></th>\n",
       "      <th></th>\n",
       "      <th></th>\n",
       "      <th></th>\n",
       "      <th></th>\n",
       "      <th></th>\n",
       "      <th></th>\n",
       "      <th></th>\n",
       "      <th></th>\n",
       "      <th></th>\n",
       "    </tr>\n",
       "  </thead>\n",
       "  <tbody>\n",
       "    <tr>\n",
       "      <th>False</th>\n",
       "      <td>4315</td>\n",
       "      <td>4217</td>\n",
       "      <td>4204</td>\n",
       "      <td>4216</td>\n",
       "      <td>4225</td>\n",
       "      <td>4226</td>\n",
       "      <td>4216</td>\n",
       "      <td>4217</td>\n",
       "      <td>4231</td>\n",
       "      <td>4221</td>\n",
       "      <td>4223</td>\n",
       "      <td>4225</td>\n",
       "      <td>4216</td>\n",
       "    </tr>\n",
       "    <tr>\n",
       "      <th>True</th>\n",
       "      <td>4378</td>\n",
       "      <td>4275</td>\n",
       "      <td>4272</td>\n",
       "      <td>4278</td>\n",
       "      <td>4286</td>\n",
       "      <td>4288</td>\n",
       "      <td>4274</td>\n",
       "      <td>4295</td>\n",
       "      <td>4279</td>\n",
       "      <td>4264</td>\n",
       "      <td>4287</td>\n",
       "      <td>4280</td>\n",
       "      <td>4277</td>\n",
       "    </tr>\n",
       "  </tbody>\n",
       "</table>\n",
       "</div>"
      ],
      "text/plain": [
       "             PassengerId  HomePlanet  CryoSleep  Cabin  Destination   Age  \\\n",
       "Transported                                                                 \n",
       "False               4315        4217       4204   4216         4225  4226   \n",
       "True                4378        4275       4272   4278         4286  4288   \n",
       "\n",
       "              VIP  RoomService  FoodCourt  ShoppingMall   Spa  VRDeck  Name  \n",
       "Transported                                                                  \n",
       "False        4216         4217       4231          4221  4223    4225  4216  \n",
       "True         4274         4295       4279          4264  4287    4280  4277  "
      ]
     },
     "execution_count": 22,
     "metadata": {},
     "output_type": "execute_result"
    }
   ],
   "source": [
    "df.groupby('Transported').count()"
   ]
  },
  {
   "cell_type": "code",
   "execution_count": 23,
   "id": "b8eec14f",
   "metadata": {
    "execution": {
     "iopub.execute_input": "2022-04-04T01:56:41.045604Z",
     "iopub.status.busy": "2022-04-04T01:56:41.044886Z",
     "iopub.status.idle": "2022-04-04T01:56:41.050314Z",
     "shell.execute_reply": "2022-04-04T01:56:41.050882Z",
     "shell.execute_reply.started": "2022-04-04T01:56:04.231717Z"
    },
    "papermill": {
     "duration": 0.067189,
     "end_time": "2022-04-04T01:56:41.051075",
     "exception": false,
     "start_time": "2022-04-04T01:56:40.983886",
     "status": "completed"
    },
    "tags": []
   },
   "outputs": [
    {
     "data": {
      "text/plain": [
       "24.0    324\n",
       "18.0    320\n",
       "21.0    311\n",
       "19.0    293\n",
       "23.0    292\n",
       "       ... \n",
       "72.0      4\n",
       "78.0      3\n",
       "79.0      3\n",
       "76.0      2\n",
       "77.0      2\n",
       "Name: Age, Length: 80, dtype: int64"
      ]
     },
     "execution_count": 23,
     "metadata": {},
     "output_type": "execute_result"
    }
   ],
   "source": [
    "df['Age'].value_counts()"
   ]
  },
  {
   "cell_type": "markdown",
   "id": "044327ba",
   "metadata": {
    "papermill": {
     "duration": 0.055251,
     "end_time": "2022-04-04T01:56:41.162374",
     "exception": false,
     "start_time": "2022-04-04T01:56:41.107123",
     "status": "completed"
    },
    "tags": []
   },
   "source": [
    "### 시각화"
   ]
  },
  {
   "cell_type": "markdown",
   "id": "1239befc",
   "metadata": {
    "papermill": {
     "duration": 0.057307,
     "end_time": "2022-04-04T01:56:41.275737",
     "exception": false,
     "start_time": "2022-04-04T01:56:41.218430",
     "status": "completed"
    },
    "tags": []
   },
   "source": [
    "- 탑승객은 대부분이 20대 ~ 40대 사이가 많이 탑승하고 있고, 50 ~70대는 많지 않게 탑승하고 있어 VIP에 가입한 사람이 20대 부터 존재한다.\n"
   ]
  },
  {
   "cell_type": "code",
   "execution_count": 24,
   "id": "911703d0",
   "metadata": {
    "execution": {
     "iopub.execute_input": "2022-04-04T01:56:41.389101Z",
     "iopub.status.busy": "2022-04-04T01:56:41.388465Z",
     "iopub.status.idle": "2022-04-04T01:56:41.818749Z",
     "shell.execute_reply": "2022-04-04T01:56:41.817903Z",
     "shell.execute_reply.started": "2022-04-04T01:56:04.241134Z"
    },
    "papermill": {
     "duration": 0.487919,
     "end_time": "2022-04-04T01:56:41.818958",
     "exception": false,
     "start_time": "2022-04-04T01:56:41.331039",
     "status": "completed"
    },
    "tags": []
   },
   "outputs": [
    {
     "data": {
      "text/plain": [
       "<seaborn.axisgrid.FacetGrid at 0x7f440750a810>"
      ]
     },
     "execution_count": 24,
     "metadata": {},
     "output_type": "execute_result"
    },
    {
     "data": {
      "image/png": "[encoded data removed]",
      "text/plain": [
       "<Figure size 360x360 with 1 Axes>"
      ]
     },
     "metadata": {},
     "output_type": "display_data"
    }
   ],
   "source": [
    "sns.catplot(x='VIP', y='Age', data=df)"
   ]
  },
  {
   "cell_type": "code",
   "execution_count": 25,
   "id": "4fd16fd4",
   "metadata": {
    "execution": {
     "iopub.execute_input": "2022-04-04T01:56:41.948354Z",
     "iopub.status.busy": "2022-04-04T01:56:41.947661Z",
     "iopub.status.idle": "2022-04-04T01:56:42.490786Z",
     "shell.execute_reply": "2022-04-04T01:56:42.490183Z",
     "shell.execute_reply.started": "2022-04-04T01:56:04.635131Z"
    },
    "papermill": {
     "duration": 0.613909,
     "end_time": "2022-04-04T01:56:42.490943",
     "exception": false,
     "start_time": "2022-04-04T01:56:41.877034",
     "status": "completed"
    },
    "tags": []
   },
   "outputs": [
    {
     "data": {
      "text/plain": [
       "<seaborn.axisgrid.FacetGrid at 0x7f4405364690>"
      ]
     },
     "execution_count": 25,
     "metadata": {},
     "output_type": "execute_result"
    },
    {
     "data": {
      "image/png": "[encoded data removed]",
      "text/plain": [
       "<Figure size 427.125x360 with 1 Axes>"
      ]
     },
     "metadata": {},
     "output_type": "display_data"
    }
   ],
   "source": [
    "sns.catplot(x='VIP', y='Age', hue='Transported', data=df,\n",
    "           kind='violin')"
   ]
  },
  {
   "cell_type": "markdown",
   "id": "59ddf10d",
   "metadata": {
    "papermill": {
     "duration": 0.059905,
     "end_time": "2022-04-04T01:56:42.610565",
     "exception": false,
     "start_time": "2022-04-04T01:56:42.550660",
     "status": "completed"
    },
    "tags": []
   },
   "source": []
  },
  {
   "cell_type": "markdown",
   "id": "0707736a",
   "metadata": {
    "papermill": {
     "duration": 0.059193,
     "end_time": "2022-04-04T01:56:42.728984",
     "exception": false,
     "start_time": "2022-04-04T01:56:42.669791",
     "status": "completed"
    },
    "tags": []
   },
   "source": [
    "- 푸드코트를 많이 이용한 사람이 생존율이 좀 더 높았고, 룸서비스를 많이 이용할 수록 생존율이 떨어지는 것을 확인 할 수 있다."
   ]
  },
  {
   "cell_type": "code",
   "execution_count": 26,
   "id": "8669bb44",
   "metadata": {
    "execution": {
     "iopub.execute_input": "2022-04-04T01:56:42.851728Z",
     "iopub.status.busy": "2022-04-04T01:56:42.851114Z",
     "iopub.status.idle": "2022-04-04T01:56:43.259354Z",
     "shell.execute_reply": "2022-04-04T01:56:43.258740Z",
     "shell.execute_reply.started": "2022-04-04T01:56:05.309928Z"
    },
    "papermill": {
     "duration": 0.4704,
     "end_time": "2022-04-04T01:56:43.259497",
     "exception": false,
     "start_time": "2022-04-04T01:56:42.789097",
     "status": "completed"
    },
    "tags": []
   },
   "outputs": [
    {
     "data": {
      "text/plain": [
       "<seaborn.axisgrid.FacetGrid at 0x7f44077cf9d0>"
      ]
     },
     "execution_count": 26,
     "metadata": {},
     "output_type": "execute_result"
    },
    {
     "data": {
      "image/png": "[encoded data removed]",
      "text/plain": [
       "<Figure size 360x360 with 1 Axes>"
      ]
     },
     "metadata": {},
     "output_type": "display_data"
    }
   ],
   "source": [
    "sns.catplot(x='Transported', y='FoodCourt', data=df)"
   ]
  },
  {
   "cell_type": "code",
   "execution_count": 27,
   "id": "9897ef8d",
   "metadata": {
    "execution": {
     "iopub.execute_input": "2022-04-04T01:56:43.387803Z",
     "iopub.status.busy": "2022-04-04T01:56:43.387195Z",
     "iopub.status.idle": "2022-04-04T01:56:43.791618Z",
     "shell.execute_reply": "2022-04-04T01:56:43.792103Z",
     "shell.execute_reply.started": "2022-04-04T01:56:05.653712Z"
    },
    "papermill": {
     "duration": 0.467985,
     "end_time": "2022-04-04T01:56:43.792268",
     "exception": false,
     "start_time": "2022-04-04T01:56:43.324283",
     "status": "completed"
    },
    "tags": []
   },
   "outputs": [
    {
     "data": {
      "text/plain": [
       "<seaborn.axisgrid.FacetGrid at 0x7f4405335d90>"
      ]
     },
     "execution_count": 27,
     "metadata": {},
     "output_type": "execute_result"
    },
    {
     "data": {
      "image/png": "[encoded data removed]",
      "text/plain": [
       "<Figure size 360x360 with 1 Axes>"
      ]
     },
     "metadata": {},
     "output_type": "display_data"
    }
   ],
   "source": [
    "sns.catplot(x='Transported', y='RoomService', data=df)"
   ]
  },
  {
   "cell_type": "markdown",
   "id": "5a8e30d4",
   "metadata": {
    "papermill": {
     "duration": 0.062361,
     "end_time": "2022-04-04T01:56:43.916630",
     "exception": false,
     "start_time": "2022-04-04T01:56:43.854269",
     "status": "completed"
    },
    "tags": []
   },
   "source": [
    "생존자, 죽은자 "
   ]
  },
  {
   "cell_type": "code",
   "execution_count": 28,
   "id": "0995ad8e",
   "metadata": {
    "execution": {
     "iopub.execute_input": "2022-04-04T01:56:44.045494Z",
     "iopub.status.busy": "2022-04-04T01:56:44.044473Z",
     "iopub.status.idle": "2022-04-04T01:56:44.051406Z",
     "shell.execute_reply": "2022-04-04T01:56:44.051865Z",
     "shell.execute_reply.started": "2022-04-04T01:56:06.008231Z"
    },
    "papermill": {
     "duration": 0.073219,
     "end_time": "2022-04-04T01:56:44.052037",
     "exception": false,
     "start_time": "2022-04-04T01:56:43.978818",
     "status": "completed"
    },
    "tags": []
   },
   "outputs": [
    {
     "data": {
      "text/plain": [
       "(4315, 14)"
      ]
     },
     "execution_count": 28,
     "metadata": {},
     "output_type": "execute_result"
    }
   ],
   "source": [
    "df_nottransported = df[(df[\"Transported\"] == 0)]\n",
    "df_nottransported.shape"
   ]
  },
  {
   "cell_type": "code",
   "execution_count": 29,
   "id": "258361b8",
   "metadata": {
    "execution": {
     "iopub.execute_input": "2022-04-04T01:56:44.178947Z",
     "iopub.status.busy": "2022-04-04T01:56:44.178316Z",
     "iopub.status.idle": "2022-04-04T01:56:44.184043Z",
     "shell.execute_reply": "2022-04-04T01:56:44.184507Z",
     "shell.execute_reply.started": "2022-04-04T01:56:06.017601Z"
    },
    "papermill": {
     "duration": 0.07029,
     "end_time": "2022-04-04T01:56:44.184659",
     "exception": false,
     "start_time": "2022-04-04T01:56:44.114369",
     "status": "completed"
    },
    "tags": []
   },
   "outputs": [
    {
     "data": {
      "text/plain": [
       "(4378, 14)"
      ]
     },
     "execution_count": 29,
     "metadata": {},
     "output_type": "execute_result"
    }
   ],
   "source": [
    "df_transported = df[(df[\"Transported\"] == 1)]\n",
    "df_transported.shape"
   ]
  },
  {
   "cell_type": "markdown",
   "id": "dcdabbd4",
   "metadata": {
    "papermill": {
     "duration": 0.064053,
     "end_time": "2022-04-04T01:56:44.310812",
     "exception": false,
     "start_time": "2022-04-04T01:56:44.246759",
     "status": "completed"
    },
    "tags": []
   },
   "source": [
    "### 필요한 카테고리로 묶어주기"
   ]
  },
  {
   "cell_type": "code",
   "execution_count": 30,
   "id": "eb43ba99",
   "metadata": {
    "execution": {
     "iopub.execute_input": "2022-04-04T01:56:44.441104Z",
     "iopub.status.busy": "2022-04-04T01:56:44.440064Z",
     "iopub.status.idle": "2022-04-04T01:56:44.454842Z",
     "shell.execute_reply": "2022-04-04T01:56:44.455450Z",
     "shell.execute_reply.started": "2022-04-04T01:56:06.033696Z"
    },
    "papermill": {
     "duration": 0.080607,
     "end_time": "2022-04-04T01:56:44.455620",
     "exception": false,
     "start_time": "2022-04-04T01:56:44.375013",
     "status": "completed"
    },
    "tags": []
   },
   "outputs": [
    {
     "data": {
      "text/html": [
       "<div>\n",
       "<style scoped>\n",
       "    .dataframe tbody tr th:only-of-type {\n",
       "        vertical-align: middle;\n",
       "    }\n",
       "\n",
       "    .dataframe tbody tr th {\n",
       "        vertical-align: top;\n",
       "    }\n",
       "\n",
       "    .dataframe thead th {\n",
       "        text-align: right;\n",
       "    }\n",
       "</style>\n",
       "<table border=\"1\" class=\"dataframe\">\n",
       "  <thead>\n",
       "    <tr style=\"text-align: right;\">\n",
       "      <th></th>\n",
       "      <th>PassengerId</th>\n",
       "      <th>HomePlanet</th>\n",
       "      <th>CryoSleep</th>\n",
       "      <th>Cabin</th>\n",
       "      <th>Destination</th>\n",
       "      <th>VIP</th>\n",
       "      <th>Name</th>\n",
       "    </tr>\n",
       "  </thead>\n",
       "  <tbody>\n",
       "    <tr>\n",
       "      <th>0</th>\n",
       "      <td>0001_01</td>\n",
       "      <td>Europa</td>\n",
       "      <td>False</td>\n",
       "      <td>B/0/P</td>\n",
       "      <td>TRAPPIST-1e</td>\n",
       "      <td>False</td>\n",
       "      <td>Maham Ofracculy</td>\n",
       "    </tr>\n",
       "    <tr>\n",
       "      <th>1</th>\n",
       "      <td>0002_01</td>\n",
       "      <td>Earth</td>\n",
       "      <td>False</td>\n",
       "      <td>F/0/S</td>\n",
       "      <td>TRAPPIST-1e</td>\n",
       "      <td>False</td>\n",
       "      <td>Juanna Vines</td>\n",
       "    </tr>\n",
       "    <tr>\n",
       "      <th>2</th>\n",
       "      <td>0003_01</td>\n",
       "      <td>Europa</td>\n",
       "      <td>False</td>\n",
       "      <td>A/0/S</td>\n",
       "      <td>TRAPPIST-1e</td>\n",
       "      <td>True</td>\n",
       "      <td>Altark Susent</td>\n",
       "    </tr>\n",
       "    <tr>\n",
       "      <th>3</th>\n",
       "      <td>0003_02</td>\n",
       "      <td>Europa</td>\n",
       "      <td>False</td>\n",
       "      <td>A/0/S</td>\n",
       "      <td>TRAPPIST-1e</td>\n",
       "      <td>False</td>\n",
       "      <td>Solam Susent</td>\n",
       "    </tr>\n",
       "    <tr>\n",
       "      <th>4</th>\n",
       "      <td>0004_01</td>\n",
       "      <td>Earth</td>\n",
       "      <td>False</td>\n",
       "      <td>F/1/S</td>\n",
       "      <td>TRAPPIST-1e</td>\n",
       "      <td>False</td>\n",
       "      <td>Willy Santantines</td>\n",
       "    </tr>\n",
       "  </tbody>\n",
       "</table>\n",
       "</div>"
      ],
      "text/plain": [
       "  PassengerId HomePlanet CryoSleep  Cabin  Destination    VIP  \\\n",
       "0     0001_01     Europa     False  B/0/P  TRAPPIST-1e  False   \n",
       "1     0002_01      Earth     False  F/0/S  TRAPPIST-1e  False   \n",
       "2     0003_01     Europa     False  A/0/S  TRAPPIST-1e   True   \n",
       "3     0003_02     Europa     False  A/0/S  TRAPPIST-1e  False   \n",
       "4     0004_01      Earth     False  F/1/S  TRAPPIST-1e  False   \n",
       "\n",
       "                Name  \n",
       "0    Maham Ofracculy  \n",
       "1       Juanna Vines  \n",
       "2      Altark Susent  \n",
       "3       Solam Susent  \n",
       "4  Willy Santantines  "
      ]
     },
     "execution_count": 30,
     "metadata": {},
     "output_type": "execute_result"
    }
   ],
   "source": [
    "# train\n",
    "df_cat = df.select_dtypes(include='object')\n",
    "df_cat.head()"
   ]
  },
  {
   "cell_type": "code",
   "execution_count": 31,
   "id": "117baf54",
   "metadata": {
    "execution": {
     "iopub.execute_input": "2022-04-04T01:56:44.600692Z",
     "iopub.status.busy": "2022-04-04T01:56:44.599663Z",
     "iopub.status.idle": "2022-04-04T01:56:44.604493Z",
     "shell.execute_reply": "2022-04-04T01:56:44.604954Z",
     "shell.execute_reply.started": "2022-04-04T01:56:06.054053Z"
    },
    "papermill": {
     "duration": 0.081933,
     "end_time": "2022-04-04T01:56:44.605128",
     "exception": false,
     "start_time": "2022-04-04T01:56:44.523195",
     "status": "completed"
    },
    "tags": []
   },
   "outputs": [
    {
     "data": {
      "text/html": [
       "<div>\n",
       "<style scoped>\n",
       "    .dataframe tbody tr th:only-of-type {\n",
       "        vertical-align: middle;\n",
       "    }\n",
       "\n",
       "    .dataframe tbody tr th {\n",
       "        vertical-align: top;\n",
       "    }\n",
       "\n",
       "    .dataframe thead th {\n",
       "        text-align: right;\n",
       "    }\n",
       "</style>\n",
       "<table border=\"1\" class=\"dataframe\">\n",
       "  <thead>\n",
       "    <tr style=\"text-align: right;\">\n",
       "      <th></th>\n",
       "      <th>PassengerId</th>\n",
       "      <th>HomePlanet</th>\n",
       "      <th>CryoSleep</th>\n",
       "      <th>Cabin</th>\n",
       "      <th>Destination</th>\n",
       "      <th>VIP</th>\n",
       "      <th>Name</th>\n",
       "    </tr>\n",
       "  </thead>\n",
       "  <tbody>\n",
       "    <tr>\n",
       "      <th>0</th>\n",
       "      <td>0013_01</td>\n",
       "      <td>Earth</td>\n",
       "      <td>True</td>\n",
       "      <td>G/3/S</td>\n",
       "      <td>TRAPPIST-1e</td>\n",
       "      <td>False</td>\n",
       "      <td>Nelly Carsoning</td>\n",
       "    </tr>\n",
       "    <tr>\n",
       "      <th>1</th>\n",
       "      <td>0018_01</td>\n",
       "      <td>Earth</td>\n",
       "      <td>False</td>\n",
       "      <td>F/4/S</td>\n",
       "      <td>TRAPPIST-1e</td>\n",
       "      <td>False</td>\n",
       "      <td>Lerome Peckers</td>\n",
       "    </tr>\n",
       "    <tr>\n",
       "      <th>2</th>\n",
       "      <td>0019_01</td>\n",
       "      <td>Europa</td>\n",
       "      <td>True</td>\n",
       "      <td>C/0/S</td>\n",
       "      <td>55 Cancri e</td>\n",
       "      <td>False</td>\n",
       "      <td>Sabih Unhearfus</td>\n",
       "    </tr>\n",
       "    <tr>\n",
       "      <th>3</th>\n",
       "      <td>0021_01</td>\n",
       "      <td>Europa</td>\n",
       "      <td>False</td>\n",
       "      <td>C/1/S</td>\n",
       "      <td>TRAPPIST-1e</td>\n",
       "      <td>False</td>\n",
       "      <td>Meratz Caltilter</td>\n",
       "    </tr>\n",
       "    <tr>\n",
       "      <th>4</th>\n",
       "      <td>0023_01</td>\n",
       "      <td>Earth</td>\n",
       "      <td>False</td>\n",
       "      <td>F/5/S</td>\n",
       "      <td>TRAPPIST-1e</td>\n",
       "      <td>False</td>\n",
       "      <td>Brence Harperez</td>\n",
       "    </tr>\n",
       "  </tbody>\n",
       "</table>\n",
       "</div>"
      ],
      "text/plain": [
       "  PassengerId HomePlanet CryoSleep  Cabin  Destination    VIP  \\\n",
       "0     0013_01      Earth      True  G/3/S  TRAPPIST-1e  False   \n",
       "1     0018_01      Earth     False  F/4/S  TRAPPIST-1e  False   \n",
       "2     0019_01     Europa      True  C/0/S  55 Cancri e  False   \n",
       "3     0021_01     Europa     False  C/1/S  TRAPPIST-1e  False   \n",
       "4     0023_01      Earth     False  F/5/S  TRAPPIST-1e  False   \n",
       "\n",
       "               Name  \n",
       "0   Nelly Carsoning  \n",
       "1    Lerome Peckers  \n",
       "2   Sabih Unhearfus  \n",
       "3  Meratz Caltilter  \n",
       "4   Brence Harperez  "
      ]
     },
     "execution_count": 31,
     "metadata": {},
     "output_type": "execute_result"
    }
   ],
   "source": [
    "# test\n",
    "test_cat = test.select_dtypes(include = 'object')\n",
    "test_cat.head()"
   ]
  },
  {
   "cell_type": "code",
   "execution_count": 32,
   "id": "bda9373e",
   "metadata": {
    "execution": {
     "iopub.execute_input": "2022-04-04T01:56:44.737264Z",
     "iopub.status.busy": "2022-04-04T01:56:44.736629Z",
     "iopub.status.idle": "2022-04-04T01:56:44.751458Z",
     "shell.execute_reply": "2022-04-04T01:56:44.752052Z",
     "shell.execute_reply.started": "2022-04-04T01:56:06.075444Z"
    },
    "papermill": {
     "duration": 0.082618,
     "end_time": "2022-04-04T01:56:44.752222",
     "exception": false,
     "start_time": "2022-04-04T01:56:44.669604",
     "status": "completed"
    },
    "tags": []
   },
   "outputs": [
    {
     "data": {
      "text/html": [
       "<div>\n",
       "<style scoped>\n",
       "    .dataframe tbody tr th:only-of-type {\n",
       "        vertical-align: middle;\n",
       "    }\n",
       "\n",
       "    .dataframe tbody tr th {\n",
       "        vertical-align: top;\n",
       "    }\n",
       "\n",
       "    .dataframe thead th {\n",
       "        text-align: right;\n",
       "    }\n",
       "</style>\n",
       "<table border=\"1\" class=\"dataframe\">\n",
       "  <thead>\n",
       "    <tr style=\"text-align: right;\">\n",
       "      <th></th>\n",
       "      <th>Age</th>\n",
       "      <th>RoomService</th>\n",
       "      <th>FoodCourt</th>\n",
       "      <th>ShoppingMall</th>\n",
       "      <th>Spa</th>\n",
       "      <th>VRDeck</th>\n",
       "    </tr>\n",
       "  </thead>\n",
       "  <tbody>\n",
       "    <tr>\n",
       "      <th>0</th>\n",
       "      <td>39.0</td>\n",
       "      <td>0.0</td>\n",
       "      <td>0.0</td>\n",
       "      <td>0.0</td>\n",
       "      <td>0.0</td>\n",
       "      <td>0.0</td>\n",
       "    </tr>\n",
       "    <tr>\n",
       "      <th>1</th>\n",
       "      <td>24.0</td>\n",
       "      <td>109.0</td>\n",
       "      <td>9.0</td>\n",
       "      <td>25.0</td>\n",
       "      <td>549.0</td>\n",
       "      <td>44.0</td>\n",
       "    </tr>\n",
       "    <tr>\n",
       "      <th>2</th>\n",
       "      <td>58.0</td>\n",
       "      <td>43.0</td>\n",
       "      <td>3576.0</td>\n",
       "      <td>0.0</td>\n",
       "      <td>6715.0</td>\n",
       "      <td>49.0</td>\n",
       "    </tr>\n",
       "    <tr>\n",
       "      <th>3</th>\n",
       "      <td>33.0</td>\n",
       "      <td>0.0</td>\n",
       "      <td>1283.0</td>\n",
       "      <td>371.0</td>\n",
       "      <td>3329.0</td>\n",
       "      <td>193.0</td>\n",
       "    </tr>\n",
       "    <tr>\n",
       "      <th>4</th>\n",
       "      <td>16.0</td>\n",
       "      <td>303.0</td>\n",
       "      <td>70.0</td>\n",
       "      <td>151.0</td>\n",
       "      <td>565.0</td>\n",
       "      <td>2.0</td>\n",
       "    </tr>\n",
       "  </tbody>\n",
       "</table>\n",
       "</div>"
      ],
      "text/plain": [
       "    Age  RoomService  FoodCourt  ShoppingMall     Spa  VRDeck\n",
       "0  39.0          0.0        0.0           0.0     0.0     0.0\n",
       "1  24.0        109.0        9.0          25.0   549.0    44.0\n",
       "2  58.0         43.0     3576.0           0.0  6715.0    49.0\n",
       "3  33.0          0.0     1283.0         371.0  3329.0   193.0\n",
       "4  16.0        303.0       70.0         151.0   565.0     2.0"
      ]
     },
     "execution_count": 32,
     "metadata": {},
     "output_type": "execute_result"
    }
   ],
   "source": [
    "df_cat = df.select_dtypes(include='float64')\n",
    "df_cat.head()"
   ]
  },
  {
   "cell_type": "markdown",
   "id": "cff7ff30",
   "metadata": {
    "papermill": {
     "duration": 0.064036,
     "end_time": "2022-04-04T01:56:44.881630",
     "exception": false,
     "start_time": "2022-04-04T01:56:44.817594",
     "status": "completed"
    },
    "tags": []
   },
   "source": [
    "CryoSleep(저온수면) False 또는 True, 목적지, VIP 관계성 "
   ]
  },
  {
   "cell_type": "markdown",
   "id": "b4a0d2fb",
   "metadata": {
    "papermill": {
     "duration": 0.064127,
     "end_time": "2022-04-04T01:56:45.009736",
     "exception": false,
     "start_time": "2022-04-04T01:56:44.945609",
     "status": "completed"
    },
    "tags": []
   },
   "source": [
    "### 표준화 작업\n",
    "- 표쥰화 작업\n",
    "- 활동적인 사람(밖에 나와 있는 사람 이거나 쇼핑몰이나 즐길거리가 많은 곳에서 차원이동하는 곳이 가까웠다?)의 생존율이 높았다는 가설을 세웠는데,, 이걸 토대로 한 번 예측을 해보자."
   ]
  },
  {
   "cell_type": "code",
   "execution_count": 33,
   "id": "3c7421c8",
   "metadata": {
    "execution": {
     "iopub.execute_input": "2022-04-04T01:56:45.143456Z",
     "iopub.status.busy": "2022-04-04T01:56:45.142857Z",
     "iopub.status.idle": "2022-04-04T01:56:45.148484Z",
     "shell.execute_reply": "2022-04-04T01:56:45.149066Z",
     "shell.execute_reply.started": "2022-04-04T01:56:06.092788Z"
    },
    "papermill": {
     "duration": 0.073512,
     "end_time": "2022-04-04T01:56:45.149227",
     "exception": false,
     "start_time": "2022-04-04T01:56:45.075715",
     "status": "completed"
    },
    "tags": []
   },
   "outputs": [],
   "source": [
    "data = df[['Age', 'RoomService', 'FoodCourt',\n",
    "           'ShoppingMall', 'Spa', 'VRDeck']].to_numpy()\n",
    "target = df[['Transported']].to_numpy()"
   ]
  },
  {
   "cell_type": "code",
   "execution_count": 34,
   "id": "e9ce89c2",
   "metadata": {
    "execution": {
     "iopub.execute_input": "2022-04-04T01:56:45.292232Z",
     "iopub.status.busy": "2022-04-04T01:56:45.291512Z",
     "iopub.status.idle": "2022-04-04T01:56:45.449246Z",
     "shell.execute_reply": "2022-04-04T01:56:45.449962Z",
     "shell.execute_reply.started": "2022-04-04T01:56:06.105540Z"
    },
    "papermill": {
     "duration": 0.235951,
     "end_time": "2022-04-04T01:56:45.450196",
     "exception": false,
     "start_time": "2022-04-04T01:56:45.214245",
     "status": "completed"
    },
    "tags": []
   },
   "outputs": [
    {
     "name": "stdout",
     "output_type": "stream",
     "text": [
      "(6954, 6) (1739, 6)\n"
     ]
    }
   ],
   "source": [
    "from sklearn.model_selection import train_test_split\n",
    "train_input, test_input, train_target, test_target = train_test_split(\n",
    "    data, target, test_size = 0.2, random_state=42)\n",
    "\n",
    "print(train_input.shape, test_input.shape)"
   ]
  },
  {
   "cell_type": "code",
   "execution_count": 35,
   "id": "8772a298",
   "metadata": {
    "execution": {
     "iopub.execute_input": "2022-04-04T01:56:45.583433Z",
     "iopub.status.busy": "2022-04-04T01:56:45.582790Z",
     "iopub.status.idle": "2022-04-04T01:56:45.585703Z",
     "shell.execute_reply": "2022-04-04T01:56:45.586292Z",
     "shell.execute_reply.started": "2022-04-04T01:56:06.119310Z"
    },
    "papermill": {
     "duration": 0.070905,
     "end_time": "2022-04-04T01:56:45.586451",
     "exception": false,
     "start_time": "2022-04-04T01:56:45.515546",
     "status": "completed"
    },
    "tags": []
   },
   "outputs": [],
   "source": [
    "#from sklearn.linear_model import LogisticRegression\n",
    "#lr = LogisticRegression()\n",
    "#lr.fit(train_scaled, train_target)\n",
    "#print(lr.score(train_scaled, train_target))\n",
    "#print(lr.score(test_scaled, test_target))\n",
    "#print(lr.coef_, lr.intercept_)"
   ]
  },
  {
   "cell_type": "code",
   "execution_count": 36,
   "id": "3f357b6b",
   "metadata": {
    "execution": {
     "iopub.execute_input": "2022-04-04T01:56:45.720061Z",
     "iopub.status.busy": "2022-04-04T01:56:45.719395Z",
     "iopub.status.idle": "2022-04-04T01:56:45.722735Z",
     "shell.execute_reply": "2022-04-04T01:56:45.723267Z",
     "shell.execute_reply.started": "2022-04-04T01:56:06.124951Z"
    },
    "papermill": {
     "duration": 0.071865,
     "end_time": "2022-04-04T01:56:45.723432",
     "exception": false,
     "start_time": "2022-04-04T01:56:45.651567",
     "status": "completed"
    },
    "tags": []
   },
   "outputs": [],
   "source": [
    "#from sklearn.preprocessing import StandardScaler\n",
    "#ss = StandardScaler()\n",
    "#ss.fit(train_input)\n",
    "#train_scaled = ss.transform(train_input)\n",
    "#test_scaled = ss.transform(test_input)"
   ]
  },
  {
   "cell_type": "code",
   "execution_count": 37,
   "id": "bd0df5cd",
   "metadata": {
    "execution": {
     "iopub.execute_input": "2022-04-04T01:56:45.856035Z",
     "iopub.status.busy": "2022-04-04T01:56:45.855356Z",
     "iopub.status.idle": "2022-04-04T01:56:45.858288Z",
     "shell.execute_reply": "2022-04-04T01:56:45.858835Z",
     "shell.execute_reply.started": "2022-04-04T01:56:06.140503Z"
    },
    "papermill": {
     "duration": 0.070801,
     "end_time": "2022-04-04T01:56:45.859022",
     "exception": false,
     "start_time": "2022-04-04T01:56:45.788221",
     "status": "completed"
    },
    "tags": []
   },
   "outputs": [],
   "source": [
    "#from sklearn.linear_model import LogisticRegression\n",
    "#lr = LogisticRegression()\n",
    "#lr.fit(train_scaled, train_target)\n",
    "#print(lr.score(train_scaled, train_target))\n",
    "#print(lr.score(test_scaled, test_target))"
   ]
  }
 ],
 "metadata": {
  "kernelspec": {
   "display_name": "Python 3",
   "language": "python",
   "name": "python3"
  },
  "language_info": {
   "codemirror_mode": {
    "name": "ipython",
    "version": 3
   },
   "file_extension": ".py",
   "mimetype": "text/x-python",
   "name": "python",
   "nbconvert_exporter": "python",
   "pygments_lexer": "ipython3",
   "version": "3.7.12"
  },
  "papermill": {
   "default_parameters": {},
   "duration": 19.85109,
   "end_time": "2022-04-04T01:56:46.633283",
   "environment_variables": {},
   "exception": null,
   "input_path": "__notebook__.ipynb",
   "output_path": "__notebook__.ipynb",
   "parameters": {},
   "start_time": "2022-04-04T01:56:26.782193",
   "version": "2.3.3"
  }
 },
 "nbformat": 4,
 "nbformat_minor": 5
}
