{
 "cells": [
  {
   "cell_type": "code",
   "execution_count": 1,
   "id": "20d6eb36",
   "metadata": {
    "_cell_guid": "b1076dfc-b9ad-4769-8c92-a6c4dae69d19",
    "_uuid": "8f2839f25d086af736a60e9eeb907d3b93b6e0e5",
    "execution": {
     "iopub.execute_input": "2022-04-01T08:38:09.086219Z",
     "iopub.status.busy": "2022-04-01T08:38:09.085490Z",
     "iopub.status.idle": "2022-04-01T08:38:09.093210Z",
     "shell.execute_reply": "2022-04-01T08:38:09.092123Z",
     "shell.execute_reply.started": "2022-04-01T08:36:56.279345Z"
    },
    "papermill": {
     "duration": 0.060136,
     "end_time": "2022-04-01T08:38:09.093476",
     "exception": false,
     "start_time": "2022-04-01T08:38:09.033340",
     "status": "completed"
    },
    "tags": []
   },
   "outputs": [
    {
     "name": "stdout",
     "output_type": "stream",
     "text": [
      "/kaggle/input/spaceship-titanic/sample_submission.csv\n",
      "/kaggle/input/spaceship-titanic/train.csv\n",
      "/kaggle/input/spaceship-titanic/test.csv\n"
     ]
    }
   ],
   "source": [
    "# This Python 3 environment comes with many helpful analytics libraries installed\n",
    "# It is defined by the kaggle/python Docker image: https://github.com/kaggle/docker-python\n",
    "# For example, here's several helpful packages to load\n",
    "\n",
    "import numpy as np # linear algebra\n",
    "import pandas as pd # data processing, CSV file I/O (e.g. pd.read_csv)\n",
    "\n",
    "# Input data files are available in the read-only \"../input/\" directory\n",
    "# For example, running this (by clicking run or pressing Shift+Enter) will list all files under the input directory\n",
    "\n",
    "import os\n",
    "for dirname, _, filenames in os.walk('/kaggle/input'):\n",
    "    for filename in filenames:\n",
    "        print(os.path.join(dirname, filename))\n",
    "\n",
    "# You can write up to 20GB to the current directory (/kaggle/working/) that gets preserved as output when you create a version using \"Save & Run All\" \n",
    "# You can also write temporary files to /kaggle/temp/, but they won't be saved outside of the current session"
   ]
  },
  {
   "cell_type": "markdown",
   "id": "a87afcd4",
   "metadata": {
    "papermill": {
     "duration": 0.038535,
     "end_time": "2022-04-01T08:38:09.173816",
     "exception": false,
     "start_time": "2022-04-01T08:38:09.135281",
     "status": "completed"
    },
    "tags": []
   },
   "source": [
    "1. **라이브러리 및 데이터 불러오기\n",
    " - **라이브러리 버전 확인 반드시 해준다!!**\n",
    "2. 탐색적 자료 분석 (EDA)\n",
    " - 데이터 시각화\n",
    " - 산점도, 막대그래프 등\n",
    " - 그래프 해석해서 설명 달기\n",
    " - 약간의 데이터 전처리\n",
    "3. 데이터 전처리\n",
    " - Feature Engineering\n",
    " - ML 모형을 돌리기 위해 표준화 등/ 원핫-인코딩\n",
    " - 파생변수(도출변수) 만들기\n",
    "  + 왜 이변수를 만들었는지에 대한 설명 필요\n",
    "4. 머신러닝 모형 개발\n",
    " - 모형(로지스틱,,등)에 대한 설명 필요\n",
    " - 모형은 1, 2개 정도만 사용하자\n",
    " - 교차 검증, 하이퍼파라미터 튜닝\n",
    "5. 모형 평가\n",
    " - 훈련 데이터를 쪼개서 훈련 데이터와 검증 데이터 분리\n",
    " - 정확도 비교\n",
    " - 혼동행렬(confusion Matrix) 설명을 잘 찾아서 넣어주자\n",
    "6. 제출\n",
    " - 제출 양식 샘플은 쌤이 만들어 준다.\n",
    "★. 참고\n",
    " - 다른 사람의 code를 참고 했다면 노트북 표절 방지를 위해 참조한 코드는 반드시 링크 걸어둘 것\n",
    "  + 저자 이름, 글 제목, 링크 주소.\n",
    "★. 마감일\n",
    " - 4월 12일 17시 40분\n",
    " - 제출 형태\n",
    "  + Leaderboard 랭킹 사진 캡쳐\n",
    "  + 고용노동부 보고하기.\n",
    "\n",
    "★★ 코드가 오류가 계속 날 때는 쌤이 도움이 되는 링크만 준다(실력은 늘지도,,)"
   ]
  },
  {
   "cell_type": "markdown",
   "id": "22487b82",
   "metadata": {
    "papermill": {
     "duration": 0.038581,
     "end_time": "2022-04-01T08:38:09.251782",
     "exception": false,
     "start_time": "2022-04-01T08:38:09.213201",
     "status": "completed"
    },
    "tags": []
   },
   "source": [
    "#### 데이터 설명\n",
    "- 우주선 타이타닉이 시공간 이상과 충돌 하는 동안에 승객이 다른 차원으로 이동했는가에 대한 여부 예측하는 것.\n",
    " + 이러한 예측을 돕기 위해 손상된 함선의 컴퓨터 시스템에서 복구된 개인 기록이 제공됩니다.\n",
    "\n",
    "- sample_submission.csv : 올바른 형식의 송신 파일.\n",
    "- train : 승객이 다른 차원으로 운송되었는지 여부. 예측하려는 대상 열입니다.(훈련데이터로 사용됨)\n",
    "- test : 테스트 데이터로 사용되는 나머지 승객의 1/3(~4300)에 대한 개인 기록. 작업은 이 세트의 승객에 대한 운송 값을 예측하는 것\n",
    "\n",
    "- PassengerId - 테스트 세트에 포함된 각 승객의 ID\n",
    "- Transported - 타겟. 각 승객에 대해 참 또는 거짓을 예측"
   ]
  },
  {
   "cell_type": "code",
   "execution_count": 2,
   "id": "5494344d",
   "metadata": {
    "execution": {
     "iopub.execute_input": "2022-04-01T08:38:09.336841Z",
     "iopub.status.busy": "2022-04-01T08:38:09.336008Z",
     "iopub.status.idle": "2022-04-01T08:38:09.421731Z",
     "shell.execute_reply": "2022-04-01T08:38:09.421129Z",
     "shell.execute_reply.started": "2022-04-01T08:36:56.674427Z"
    },
    "papermill": {
     "duration": 0.130558,
     "end_time": "2022-04-01T08:38:09.421893",
     "exception": false,
     "start_time": "2022-04-01T08:38:09.291335",
     "status": "completed"
    },
    "tags": []
   },
   "outputs": [],
   "source": [
    "import pandas as pd\n",
    "submission = pd.read_csv(\"../input/spaceship-titanic/sample_submission.csv\")\n",
    "test = pd.read_csv(\"../input/spaceship-titanic/test.csv\")\n",
    "df = pd.read_csv(\"../input/spaceship-titanic/train.csv\")"
   ]
  },
  {
   "cell_type": "code",
   "execution_count": 3,
   "id": "44c79921",
   "metadata": {
    "execution": {
     "iopub.execute_input": "2022-04-01T08:38:09.510382Z",
     "iopub.status.busy": "2022-04-01T08:38:09.509310Z",
     "iopub.status.idle": "2022-04-01T08:38:09.520822Z",
     "shell.execute_reply": "2022-04-01T08:38:09.521469Z",
     "shell.execute_reply.started": "2022-04-01T08:36:56.942998Z"
    },
    "papermill": {
     "duration": 0.05987,
     "end_time": "2022-04-01T08:38:09.521675",
     "exception": false,
     "start_time": "2022-04-01T08:38:09.461805",
     "status": "completed"
    },
    "tags": []
   },
   "outputs": [
    {
     "data": {
      "text/html": [
       "<div>\n",
       "<style scoped>\n",
       "    .dataframe tbody tr th:only-of-type {\n",
       "        vertical-align: middle;\n",
       "    }\n",
       "\n",
       "    .dataframe tbody tr th {\n",
       "        vertical-align: top;\n",
       "    }\n",
       "\n",
       "    .dataframe thead th {\n",
       "        text-align: right;\n",
       "    }\n",
       "</style>\n",
       "<table border=\"1\" class=\"dataframe\">\n",
       "  <thead>\n",
       "    <tr style=\"text-align: right;\">\n",
       "      <th></th>\n",
       "      <th>PassengerId</th>\n",
       "      <th>Transported</th>\n",
       "    </tr>\n",
       "  </thead>\n",
       "  <tbody>\n",
       "    <tr>\n",
       "      <th>0</th>\n",
       "      <td>0013_01</td>\n",
       "      <td>False</td>\n",
       "    </tr>\n",
       "    <tr>\n",
       "      <th>1</th>\n",
       "      <td>0018_01</td>\n",
       "      <td>False</td>\n",
       "    </tr>\n",
       "    <tr>\n",
       "      <th>2</th>\n",
       "      <td>0019_01</td>\n",
       "      <td>False</td>\n",
       "    </tr>\n",
       "    <tr>\n",
       "      <th>3</th>\n",
       "      <td>0021_01</td>\n",
       "      <td>False</td>\n",
       "    </tr>\n",
       "    <tr>\n",
       "      <th>4</th>\n",
       "      <td>0023_01</td>\n",
       "      <td>False</td>\n",
       "    </tr>\n",
       "  </tbody>\n",
       "</table>\n",
       "</div>"
      ],
      "text/plain": [
       "  PassengerId  Transported\n",
       "0     0013_01        False\n",
       "1     0018_01        False\n",
       "2     0019_01        False\n",
       "3     0021_01        False\n",
       "4     0023_01        False"
      ]
     },
     "execution_count": 3,
     "metadata": {},
     "output_type": "execute_result"
    }
   ],
   "source": [
    "submission.head()"
   ]
  },
  {
   "cell_type": "code",
   "execution_count": 4,
   "id": "1e78bb5e",
   "metadata": {
    "execution": {
     "iopub.execute_input": "2022-04-01T08:38:09.605694Z",
     "iopub.status.busy": "2022-04-01T08:38:09.605063Z",
     "iopub.status.idle": "2022-04-01T08:38:09.625265Z",
     "shell.execute_reply": "2022-04-01T08:38:09.624716Z",
     "shell.execute_reply.started": "2022-04-01T08:36:57.174681Z"
    },
    "papermill": {
     "duration": 0.062687,
     "end_time": "2022-04-01T08:38:09.625406",
     "exception": false,
     "start_time": "2022-04-01T08:38:09.562719",
     "status": "completed"
    },
    "tags": []
   },
   "outputs": [
    {
     "data": {
      "text/html": [
       "<div>\n",
       "<style scoped>\n",
       "    .dataframe tbody tr th:only-of-type {\n",
       "        vertical-align: middle;\n",
       "    }\n",
       "\n",
       "    .dataframe tbody tr th {\n",
       "        vertical-align: top;\n",
       "    }\n",
       "\n",
       "    .dataframe thead th {\n",
       "        text-align: right;\n",
       "    }\n",
       "</style>\n",
       "<table border=\"1\" class=\"dataframe\">\n",
       "  <thead>\n",
       "    <tr style=\"text-align: right;\">\n",
       "      <th></th>\n",
       "      <th>PassengerId</th>\n",
       "      <th>HomePlanet</th>\n",
       "      <th>CryoSleep</th>\n",
       "      <th>Cabin</th>\n",
       "      <th>Destination</th>\n",
       "      <th>Age</th>\n",
       "      <th>VIP</th>\n",
       "      <th>RoomService</th>\n",
       "      <th>FoodCourt</th>\n",
       "      <th>ShoppingMall</th>\n",
       "      <th>Spa</th>\n",
       "      <th>VRDeck</th>\n",
       "      <th>Name</th>\n",
       "    </tr>\n",
       "  </thead>\n",
       "  <tbody>\n",
       "    <tr>\n",
       "      <th>0</th>\n",
       "      <td>0013_01</td>\n",
       "      <td>Earth</td>\n",
       "      <td>True</td>\n",
       "      <td>G/3/S</td>\n",
       "      <td>TRAPPIST-1e</td>\n",
       "      <td>27.0</td>\n",
       "      <td>False</td>\n",
       "      <td>0.0</td>\n",
       "      <td>0.0</td>\n",
       "      <td>0.0</td>\n",
       "      <td>0.0</td>\n",
       "      <td>0.0</td>\n",
       "      <td>Nelly Carsoning</td>\n",
       "    </tr>\n",
       "    <tr>\n",
       "      <th>1</th>\n",
       "      <td>0018_01</td>\n",
       "      <td>Earth</td>\n",
       "      <td>False</td>\n",
       "      <td>F/4/S</td>\n",
       "      <td>TRAPPIST-1e</td>\n",
       "      <td>19.0</td>\n",
       "      <td>False</td>\n",
       "      <td>0.0</td>\n",
       "      <td>9.0</td>\n",
       "      <td>0.0</td>\n",
       "      <td>2823.0</td>\n",
       "      <td>0.0</td>\n",
       "      <td>Lerome Peckers</td>\n",
       "    </tr>\n",
       "    <tr>\n",
       "      <th>2</th>\n",
       "      <td>0019_01</td>\n",
       "      <td>Europa</td>\n",
       "      <td>True</td>\n",
       "      <td>C/0/S</td>\n",
       "      <td>55 Cancri e</td>\n",
       "      <td>31.0</td>\n",
       "      <td>False</td>\n",
       "      <td>0.0</td>\n",
       "      <td>0.0</td>\n",
       "      <td>0.0</td>\n",
       "      <td>0.0</td>\n",
       "      <td>0.0</td>\n",
       "      <td>Sabih Unhearfus</td>\n",
       "    </tr>\n",
       "    <tr>\n",
       "      <th>3</th>\n",
       "      <td>0021_01</td>\n",
       "      <td>Europa</td>\n",
       "      <td>False</td>\n",
       "      <td>C/1/S</td>\n",
       "      <td>TRAPPIST-1e</td>\n",
       "      <td>38.0</td>\n",
       "      <td>False</td>\n",
       "      <td>0.0</td>\n",
       "      <td>6652.0</td>\n",
       "      <td>0.0</td>\n",
       "      <td>181.0</td>\n",
       "      <td>585.0</td>\n",
       "      <td>Meratz Caltilter</td>\n",
       "    </tr>\n",
       "    <tr>\n",
       "      <th>4</th>\n",
       "      <td>0023_01</td>\n",
       "      <td>Earth</td>\n",
       "      <td>False</td>\n",
       "      <td>F/5/S</td>\n",
       "      <td>TRAPPIST-1e</td>\n",
       "      <td>20.0</td>\n",
       "      <td>False</td>\n",
       "      <td>10.0</td>\n",
       "      <td>0.0</td>\n",
       "      <td>635.0</td>\n",
       "      <td>0.0</td>\n",
       "      <td>0.0</td>\n",
       "      <td>Brence Harperez</td>\n",
       "    </tr>\n",
       "  </tbody>\n",
       "</table>\n",
       "</div>"
      ],
      "text/plain": [
       "  PassengerId HomePlanet CryoSleep  Cabin  Destination   Age    VIP  \\\n",
       "0     0013_01      Earth      True  G/3/S  TRAPPIST-1e  27.0  False   \n",
       "1     0018_01      Earth     False  F/4/S  TRAPPIST-1e  19.0  False   \n",
       "2     0019_01     Europa      True  C/0/S  55 Cancri e  31.0  False   \n",
       "3     0021_01     Europa     False  C/1/S  TRAPPIST-1e  38.0  False   \n",
       "4     0023_01      Earth     False  F/5/S  TRAPPIST-1e  20.0  False   \n",
       "\n",
       "   RoomService  FoodCourt  ShoppingMall     Spa  VRDeck              Name  \n",
       "0          0.0        0.0           0.0     0.0     0.0   Nelly Carsoning  \n",
       "1          0.0        9.0           0.0  2823.0     0.0    Lerome Peckers  \n",
       "2          0.0        0.0           0.0     0.0     0.0   Sabih Unhearfus  \n",
       "3          0.0     6652.0           0.0   181.0   585.0  Meratz Caltilter  \n",
       "4         10.0        0.0         635.0     0.0     0.0   Brence Harperez  "
      ]
     },
     "execution_count": 4,
     "metadata": {},
     "output_type": "execute_result"
    }
   ],
   "source": [
    "test.head()"
   ]
  },
  {
   "cell_type": "code",
   "execution_count": 5,
   "id": "c42c751a",
   "metadata": {
    "execution": {
     "iopub.execute_input": "2022-04-01T08:38:09.709072Z",
     "iopub.status.busy": "2022-04-01T08:38:09.708454Z",
     "iopub.status.idle": "2022-04-01T08:38:09.727899Z",
     "shell.execute_reply": "2022-04-01T08:38:09.728512Z",
     "shell.execute_reply.started": "2022-04-01T08:36:57.407179Z"
    },
    "papermill": {
     "duration": 0.062908,
     "end_time": "2022-04-01T08:38:09.728694",
     "exception": false,
     "start_time": "2022-04-01T08:38:09.665786",
     "status": "completed"
    },
    "tags": []
   },
   "outputs": [
    {
     "data": {
      "text/html": [
       "<div>\n",
       "<style scoped>\n",
       "    .dataframe tbody tr th:only-of-type {\n",
       "        vertical-align: middle;\n",
       "    }\n",
       "\n",
       "    .dataframe tbody tr th {\n",
       "        vertical-align: top;\n",
       "    }\n",
       "\n",
       "    .dataframe thead th {\n",
       "        text-align: right;\n",
       "    }\n",
       "</style>\n",
       "<table border=\"1\" class=\"dataframe\">\n",
       "  <thead>\n",
       "    <tr style=\"text-align: right;\">\n",
       "      <th></th>\n",
       "      <th>PassengerId</th>\n",
       "      <th>HomePlanet</th>\n",
       "      <th>CryoSleep</th>\n",
       "      <th>Cabin</th>\n",
       "      <th>Destination</th>\n",
       "      <th>Age</th>\n",
       "      <th>VIP</th>\n",
       "      <th>RoomService</th>\n",
       "      <th>FoodCourt</th>\n",
       "      <th>ShoppingMall</th>\n",
       "      <th>Spa</th>\n",
       "      <th>VRDeck</th>\n",
       "      <th>Name</th>\n",
       "      <th>Transported</th>\n",
       "    </tr>\n",
       "  </thead>\n",
       "  <tbody>\n",
       "    <tr>\n",
       "      <th>0</th>\n",
       "      <td>0001_01</td>\n",
       "      <td>Europa</td>\n",
       "      <td>False</td>\n",
       "      <td>B/0/P</td>\n",
       "      <td>TRAPPIST-1e</td>\n",
       "      <td>39.0</td>\n",
       "      <td>False</td>\n",
       "      <td>0.0</td>\n",
       "      <td>0.0</td>\n",
       "      <td>0.0</td>\n",
       "      <td>0.0</td>\n",
       "      <td>0.0</td>\n",
       "      <td>Maham Ofracculy</td>\n",
       "      <td>False</td>\n",
       "    </tr>\n",
       "    <tr>\n",
       "      <th>1</th>\n",
       "      <td>0002_01</td>\n",
       "      <td>Earth</td>\n",
       "      <td>False</td>\n",
       "      <td>F/0/S</td>\n",
       "      <td>TRAPPIST-1e</td>\n",
       "      <td>24.0</td>\n",
       "      <td>False</td>\n",
       "      <td>109.0</td>\n",
       "      <td>9.0</td>\n",
       "      <td>25.0</td>\n",
       "      <td>549.0</td>\n",
       "      <td>44.0</td>\n",
       "      <td>Juanna Vines</td>\n",
       "      <td>True</td>\n",
       "    </tr>\n",
       "    <tr>\n",
       "      <th>2</th>\n",
       "      <td>0003_01</td>\n",
       "      <td>Europa</td>\n",
       "      <td>False</td>\n",
       "      <td>A/0/S</td>\n",
       "      <td>TRAPPIST-1e</td>\n",
       "      <td>58.0</td>\n",
       "      <td>True</td>\n",
       "      <td>43.0</td>\n",
       "      <td>3576.0</td>\n",
       "      <td>0.0</td>\n",
       "      <td>6715.0</td>\n",
       "      <td>49.0</td>\n",
       "      <td>Altark Susent</td>\n",
       "      <td>False</td>\n",
       "    </tr>\n",
       "    <tr>\n",
       "      <th>3</th>\n",
       "      <td>0003_02</td>\n",
       "      <td>Europa</td>\n",
       "      <td>False</td>\n",
       "      <td>A/0/S</td>\n",
       "      <td>TRAPPIST-1e</td>\n",
       "      <td>33.0</td>\n",
       "      <td>False</td>\n",
       "      <td>0.0</td>\n",
       "      <td>1283.0</td>\n",
       "      <td>371.0</td>\n",
       "      <td>3329.0</td>\n",
       "      <td>193.0</td>\n",
       "      <td>Solam Susent</td>\n",
       "      <td>False</td>\n",
       "    </tr>\n",
       "    <tr>\n",
       "      <th>4</th>\n",
       "      <td>0004_01</td>\n",
       "      <td>Earth</td>\n",
       "      <td>False</td>\n",
       "      <td>F/1/S</td>\n",
       "      <td>TRAPPIST-1e</td>\n",
       "      <td>16.0</td>\n",
       "      <td>False</td>\n",
       "      <td>303.0</td>\n",
       "      <td>70.0</td>\n",
       "      <td>151.0</td>\n",
       "      <td>565.0</td>\n",
       "      <td>2.0</td>\n",
       "      <td>Willy Santantines</td>\n",
       "      <td>True</td>\n",
       "    </tr>\n",
       "  </tbody>\n",
       "</table>\n",
       "</div>"
      ],
      "text/plain": [
       "  PassengerId HomePlanet CryoSleep  Cabin  Destination   Age    VIP  \\\n",
       "0     0001_01     Europa     False  B/0/P  TRAPPIST-1e  39.0  False   \n",
       "1     0002_01      Earth     False  F/0/S  TRAPPIST-1e  24.0  False   \n",
       "2     0003_01     Europa     False  A/0/S  TRAPPIST-1e  58.0   True   \n",
       "3     0003_02     Europa     False  A/0/S  TRAPPIST-1e  33.0  False   \n",
       "4     0004_01      Earth     False  F/1/S  TRAPPIST-1e  16.0  False   \n",
       "\n",
       "   RoomService  FoodCourt  ShoppingMall     Spa  VRDeck               Name  \\\n",
       "0          0.0        0.0           0.0     0.0     0.0    Maham Ofracculy   \n",
       "1        109.0        9.0          25.0   549.0    44.0       Juanna Vines   \n",
       "2         43.0     3576.0           0.0  6715.0    49.0      Altark Susent   \n",
       "3          0.0     1283.0         371.0  3329.0   193.0       Solam Susent   \n",
       "4        303.0       70.0         151.0   565.0     2.0  Willy Santantines   \n",
       "\n",
       "   Transported  \n",
       "0        False  \n",
       "1         True  \n",
       "2        False  \n",
       "3        False  \n",
       "4         True  "
      ]
     },
     "execution_count": 5,
     "metadata": {},
     "output_type": "execute_result"
    }
   ],
   "source": [
    "df.head()"
   ]
  },
  {
   "cell_type": "code",
   "execution_count": 6,
   "id": "00b407dd",
   "metadata": {
    "execution": {
     "iopub.execute_input": "2022-04-01T08:38:09.814436Z",
     "iopub.status.busy": "2022-04-01T08:38:09.813745Z",
     "iopub.status.idle": "2022-04-01T08:38:09.844852Z",
     "shell.execute_reply": "2022-04-01T08:38:09.845669Z",
     "shell.execute_reply.started": "2022-04-01T08:36:57.643922Z"
    },
    "papermill": {
     "duration": 0.076152,
     "end_time": "2022-04-01T08:38:09.845927",
     "exception": false,
     "start_time": "2022-04-01T08:38:09.769775",
     "status": "completed"
    },
    "tags": []
   },
   "outputs": [
    {
     "name": "stdout",
     "output_type": "stream",
     "text": [
      "<class 'pandas.core.frame.DataFrame'>\n",
      "RangeIndex: 8693 entries, 0 to 8692\n",
      "Data columns (total 14 columns):\n",
      " #   Column        Non-Null Count  Dtype  \n",
      "---  ------        --------------  -----  \n",
      " 0   PassengerId   8693 non-null   object \n",
      " 1   HomePlanet    8492 non-null   object \n",
      " 2   CryoSleep     8476 non-null   object \n",
      " 3   Cabin         8494 non-null   object \n",
      " 4   Destination   8511 non-null   object \n",
      " 5   Age           8514 non-null   float64\n",
      " 6   VIP           8490 non-null   object \n",
      " 7   RoomService   8512 non-null   float64\n",
      " 8   FoodCourt     8510 non-null   float64\n",
      " 9   ShoppingMall  8485 non-null   float64\n",
      " 10  Spa           8510 non-null   float64\n",
      " 11  VRDeck        8505 non-null   float64\n",
      " 12  Name          8493 non-null   object \n",
      " 13  Transported   8693 non-null   bool   \n",
      "dtypes: bool(1), float64(6), object(7)\n",
      "memory usage: 891.5+ KB\n"
     ]
    }
   ],
   "source": [
    "df.info()"
   ]
  },
  {
   "cell_type": "code",
   "execution_count": 7,
   "id": "3c6e6a34",
   "metadata": {
    "execution": {
     "iopub.execute_input": "2022-04-01T08:38:09.933587Z",
     "iopub.status.busy": "2022-04-01T08:38:09.932910Z",
     "iopub.status.idle": "2022-04-01T08:38:09.949821Z",
     "shell.execute_reply": "2022-04-01T08:38:09.950790Z",
     "shell.execute_reply.started": "2022-04-01T08:36:57.912061Z"
    },
    "papermill": {
     "duration": 0.061983,
     "end_time": "2022-04-01T08:38:09.951042",
     "exception": false,
     "start_time": "2022-04-01T08:38:09.889059",
     "status": "completed"
    },
    "tags": []
   },
   "outputs": [
    {
     "name": "stdout",
     "output_type": "stream",
     "text": [
      "<class 'pandas.core.frame.DataFrame'>\n",
      "RangeIndex: 4277 entries, 0 to 4276\n",
      "Data columns (total 13 columns):\n",
      " #   Column        Non-Null Count  Dtype  \n",
      "---  ------        --------------  -----  \n",
      " 0   PassengerId   4277 non-null   object \n",
      " 1   HomePlanet    4190 non-null   object \n",
      " 2   CryoSleep     4184 non-null   object \n",
      " 3   Cabin         4177 non-null   object \n",
      " 4   Destination   4185 non-null   object \n",
      " 5   Age           4186 non-null   float64\n",
      " 6   VIP           4184 non-null   object \n",
      " 7   RoomService   4195 non-null   float64\n",
      " 8   FoodCourt     4171 non-null   float64\n",
      " 9   ShoppingMall  4179 non-null   float64\n",
      " 10  Spa           4176 non-null   float64\n",
      " 11  VRDeck        4197 non-null   float64\n",
      " 12  Name          4183 non-null   object \n",
      "dtypes: float64(6), object(7)\n",
      "memory usage: 434.5+ KB\n"
     ]
    }
   ],
   "source": [
    "test.info()"
   ]
  },
  {
   "cell_type": "code",
   "execution_count": 8,
   "id": "22102eb3",
   "metadata": {
    "execution": {
     "iopub.execute_input": "2022-04-01T08:38:10.063218Z",
     "iopub.status.busy": "2022-04-01T08:38:10.061893Z",
     "iopub.status.idle": "2022-04-01T08:38:10.064369Z",
     "shell.execute_reply": "2022-04-01T08:38:10.064970Z",
     "shell.execute_reply.started": "2022-04-01T08:36:58.135660Z"
    },
    "papermill": {
     "duration": 0.060521,
     "end_time": "2022-04-01T08:38:10.065202",
     "exception": false,
     "start_time": "2022-04-01T08:38:10.004681",
     "status": "completed"
    },
    "tags": []
   },
   "outputs": [],
   "source": [
    "import numpy as np\n",
    "import matplotlib.pyplot as plt"
   ]
  },
  {
   "cell_type": "code",
   "execution_count": 9,
   "id": "eedaa7ae",
   "metadata": {
    "execution": {
     "iopub.execute_input": "2022-04-01T08:38:10.152706Z",
     "iopub.status.busy": "2022-04-01T08:38:10.152003Z",
     "iopub.status.idle": "2022-04-01T08:38:10.156833Z",
     "shell.execute_reply": "2022-04-01T08:38:10.157427Z",
     "shell.execute_reply.started": "2022-04-01T08:36:58.347679Z"
    },
    "papermill": {
     "duration": 0.049752,
     "end_time": "2022-04-01T08:38:10.157611",
     "exception": false,
     "start_time": "2022-04-01T08:38:10.107859",
     "status": "completed"
    },
    "tags": []
   },
   "outputs": [
    {
     "data": {
      "text/plain": [
       "Index(['PassengerId', 'HomePlanet', 'CryoSleep', 'Cabin', 'Destination', 'Age',\n",
       "       'VIP', 'RoomService', 'FoodCourt', 'ShoppingMall', 'Spa', 'VRDeck',\n",
       "       'Name'],\n",
       "      dtype='object')"
      ]
     },
     "execution_count": 9,
     "metadata": {},
     "output_type": "execute_result"
    }
   ],
   "source": [
    "test.columns"
   ]
  },
  {
   "cell_type": "code",
   "execution_count": 10,
   "id": "f826d50d",
   "metadata": {
    "execution": {
     "iopub.execute_input": "2022-04-01T08:38:10.248445Z",
     "iopub.status.busy": "2022-04-01T08:38:10.247736Z",
     "iopub.status.idle": "2022-04-01T08:38:10.250317Z",
     "shell.execute_reply": "2022-04-01T08:38:10.250786Z",
     "shell.execute_reply.started": "2022-04-01T08:36:58.530281Z"
    },
    "papermill": {
     "duration": 0.050837,
     "end_time": "2022-04-01T08:38:10.250953",
     "exception": false,
     "start_time": "2022-04-01T08:38:10.200116",
     "status": "completed"
    },
    "tags": []
   },
   "outputs": [
    {
     "data": {
      "text/plain": [
       "Index(['PassengerId', 'HomePlanet', 'CryoSleep', 'Cabin', 'Destination', 'Age',\n",
       "       'VIP', 'RoomService', 'FoodCourt', 'ShoppingMall', 'Spa', 'VRDeck',\n",
       "       'Name', 'Transported'],\n",
       "      dtype='object')"
      ]
     },
     "execution_count": 10,
     "metadata": {},
     "output_type": "execute_result"
    }
   ],
   "source": [
    "df.columns"
   ]
  },
  {
   "cell_type": "markdown",
   "id": "5d4de81e",
   "metadata": {
    "papermill": {
     "duration": 0.042028,
     "end_time": "2022-04-01T08:38:10.335233",
     "exception": false,
     "start_time": "2022-04-01T08:38:10.293205",
     "status": "completed"
    },
    "tags": []
   },
   "source": [
    "- 드랍을 시키는 이유는 모형에 아무런 영향을 주지 않기 때문.\n",
    "- 드랍은 지정된 행이나 열을 삭제하기 때문에 행축을 지정(axis= 0 또는 1 )"
   ]
  },
  {
   "cell_type": "code",
   "execution_count": 11,
   "id": "78f4ca52",
   "metadata": {
    "execution": {
     "iopub.execute_input": "2022-04-01T08:38:10.422787Z",
     "iopub.status.busy": "2022-04-01T08:38:10.422171Z",
     "iopub.status.idle": "2022-04-01T08:38:10.450059Z",
     "shell.execute_reply": "2022-04-01T08:38:10.450707Z",
     "shell.execute_reply.started": "2022-04-01T08:36:58.725641Z"
    },
    "papermill": {
     "duration": 0.073533,
     "end_time": "2022-04-01T08:38:10.450886",
     "exception": false,
     "start_time": "2022-04-01T08:38:10.377353",
     "status": "completed"
    },
    "tags": []
   },
   "outputs": [
    {
     "data": {
      "text/html": [
       "<div>\n",
       "<style scoped>\n",
       "    .dataframe tbody tr th:only-of-type {\n",
       "        vertical-align: middle;\n",
       "    }\n",
       "\n",
       "    .dataframe tbody tr th {\n",
       "        vertical-align: top;\n",
       "    }\n",
       "\n",
       "    .dataframe thead th {\n",
       "        text-align: right;\n",
       "    }\n",
       "</style>\n",
       "<table border=\"1\" class=\"dataframe\">\n",
       "  <thead>\n",
       "    <tr style=\"text-align: right;\">\n",
       "      <th></th>\n",
       "      <th>HomePlanet</th>\n",
       "      <th>CryoSleep</th>\n",
       "      <th>Destination</th>\n",
       "      <th>Age</th>\n",
       "      <th>VIP</th>\n",
       "      <th>RoomService</th>\n",
       "      <th>FoodCourt</th>\n",
       "      <th>ShoppingMall</th>\n",
       "      <th>Spa</th>\n",
       "      <th>VRDeck</th>\n",
       "      <th>Transported</th>\n",
       "    </tr>\n",
       "  </thead>\n",
       "  <tbody>\n",
       "    <tr>\n",
       "      <th>0</th>\n",
       "      <td>Europa</td>\n",
       "      <td>False</td>\n",
       "      <td>TRAPPIST-1e</td>\n",
       "      <td>39.0</td>\n",
       "      <td>False</td>\n",
       "      <td>0.0</td>\n",
       "      <td>0.0</td>\n",
       "      <td>0.0</td>\n",
       "      <td>0.0</td>\n",
       "      <td>0.0</td>\n",
       "      <td>False</td>\n",
       "    </tr>\n",
       "    <tr>\n",
       "      <th>1</th>\n",
       "      <td>Earth</td>\n",
       "      <td>False</td>\n",
       "      <td>TRAPPIST-1e</td>\n",
       "      <td>24.0</td>\n",
       "      <td>False</td>\n",
       "      <td>109.0</td>\n",
       "      <td>9.0</td>\n",
       "      <td>25.0</td>\n",
       "      <td>549.0</td>\n",
       "      <td>44.0</td>\n",
       "      <td>True</td>\n",
       "    </tr>\n",
       "    <tr>\n",
       "      <th>2</th>\n",
       "      <td>Europa</td>\n",
       "      <td>False</td>\n",
       "      <td>TRAPPIST-1e</td>\n",
       "      <td>58.0</td>\n",
       "      <td>True</td>\n",
       "      <td>43.0</td>\n",
       "      <td>3576.0</td>\n",
       "      <td>0.0</td>\n",
       "      <td>6715.0</td>\n",
       "      <td>49.0</td>\n",
       "      <td>False</td>\n",
       "    </tr>\n",
       "    <tr>\n",
       "      <th>3</th>\n",
       "      <td>Europa</td>\n",
       "      <td>False</td>\n",
       "      <td>TRAPPIST-1e</td>\n",
       "      <td>33.0</td>\n",
       "      <td>False</td>\n",
       "      <td>0.0</td>\n",
       "      <td>1283.0</td>\n",
       "      <td>371.0</td>\n",
       "      <td>3329.0</td>\n",
       "      <td>193.0</td>\n",
       "      <td>False</td>\n",
       "    </tr>\n",
       "    <tr>\n",
       "      <th>4</th>\n",
       "      <td>Earth</td>\n",
       "      <td>False</td>\n",
       "      <td>TRAPPIST-1e</td>\n",
       "      <td>16.0</td>\n",
       "      <td>False</td>\n",
       "      <td>303.0</td>\n",
       "      <td>70.0</td>\n",
       "      <td>151.0</td>\n",
       "      <td>565.0</td>\n",
       "      <td>2.0</td>\n",
       "      <td>True</td>\n",
       "    </tr>\n",
       "    <tr>\n",
       "      <th>...</th>\n",
       "      <td>...</td>\n",
       "      <td>...</td>\n",
       "      <td>...</td>\n",
       "      <td>...</td>\n",
       "      <td>...</td>\n",
       "      <td>...</td>\n",
       "      <td>...</td>\n",
       "      <td>...</td>\n",
       "      <td>...</td>\n",
       "      <td>...</td>\n",
       "      <td>...</td>\n",
       "    </tr>\n",
       "    <tr>\n",
       "      <th>8688</th>\n",
       "      <td>Europa</td>\n",
       "      <td>False</td>\n",
       "      <td>55 Cancri e</td>\n",
       "      <td>41.0</td>\n",
       "      <td>True</td>\n",
       "      <td>0.0</td>\n",
       "      <td>6819.0</td>\n",
       "      <td>0.0</td>\n",
       "      <td>1643.0</td>\n",
       "      <td>74.0</td>\n",
       "      <td>False</td>\n",
       "    </tr>\n",
       "    <tr>\n",
       "      <th>8689</th>\n",
       "      <td>Earth</td>\n",
       "      <td>True</td>\n",
       "      <td>PSO J318.5-22</td>\n",
       "      <td>18.0</td>\n",
       "      <td>False</td>\n",
       "      <td>0.0</td>\n",
       "      <td>0.0</td>\n",
       "      <td>0.0</td>\n",
       "      <td>0.0</td>\n",
       "      <td>0.0</td>\n",
       "      <td>False</td>\n",
       "    </tr>\n",
       "    <tr>\n",
       "      <th>8690</th>\n",
       "      <td>Earth</td>\n",
       "      <td>False</td>\n",
       "      <td>TRAPPIST-1e</td>\n",
       "      <td>26.0</td>\n",
       "      <td>False</td>\n",
       "      <td>0.0</td>\n",
       "      <td>0.0</td>\n",
       "      <td>1872.0</td>\n",
       "      <td>1.0</td>\n",
       "      <td>0.0</td>\n",
       "      <td>True</td>\n",
       "    </tr>\n",
       "    <tr>\n",
       "      <th>8691</th>\n",
       "      <td>Europa</td>\n",
       "      <td>False</td>\n",
       "      <td>55 Cancri e</td>\n",
       "      <td>32.0</td>\n",
       "      <td>False</td>\n",
       "      <td>0.0</td>\n",
       "      <td>1049.0</td>\n",
       "      <td>0.0</td>\n",
       "      <td>353.0</td>\n",
       "      <td>3235.0</td>\n",
       "      <td>False</td>\n",
       "    </tr>\n",
       "    <tr>\n",
       "      <th>8692</th>\n",
       "      <td>Europa</td>\n",
       "      <td>False</td>\n",
       "      <td>TRAPPIST-1e</td>\n",
       "      <td>44.0</td>\n",
       "      <td>False</td>\n",
       "      <td>126.0</td>\n",
       "      <td>4688.0</td>\n",
       "      <td>0.0</td>\n",
       "      <td>0.0</td>\n",
       "      <td>12.0</td>\n",
       "      <td>True</td>\n",
       "    </tr>\n",
       "  </tbody>\n",
       "</table>\n",
       "<p>8693 rows × 11 columns</p>\n",
       "</div>"
      ],
      "text/plain": [
       "     HomePlanet CryoSleep    Destination   Age    VIP  RoomService  FoodCourt  \\\n",
       "0        Europa     False    TRAPPIST-1e  39.0  False          0.0        0.0   \n",
       "1         Earth     False    TRAPPIST-1e  24.0  False        109.0        9.0   \n",
       "2        Europa     False    TRAPPIST-1e  58.0   True         43.0     3576.0   \n",
       "3        Europa     False    TRAPPIST-1e  33.0  False          0.0     1283.0   \n",
       "4         Earth     False    TRAPPIST-1e  16.0  False        303.0       70.0   \n",
       "...         ...       ...            ...   ...    ...          ...        ...   \n",
       "8688     Europa     False    55 Cancri e  41.0   True          0.0     6819.0   \n",
       "8689      Earth      True  PSO J318.5-22  18.0  False          0.0        0.0   \n",
       "8690      Earth     False    TRAPPIST-1e  26.0  False          0.0        0.0   \n",
       "8691     Europa     False    55 Cancri e  32.0  False          0.0     1049.0   \n",
       "8692     Europa     False    TRAPPIST-1e  44.0  False        126.0     4688.0   \n",
       "\n",
       "      ShoppingMall     Spa  VRDeck  Transported  \n",
       "0              0.0     0.0     0.0        False  \n",
       "1             25.0   549.0    44.0         True  \n",
       "2              0.0  6715.0    49.0        False  \n",
       "3            371.0  3329.0   193.0        False  \n",
       "4            151.0   565.0     2.0         True  \n",
       "...            ...     ...     ...          ...  \n",
       "8688           0.0  1643.0    74.0        False  \n",
       "8689           0.0     0.0     0.0        False  \n",
       "8690        1872.0     1.0     0.0         True  \n",
       "8691           0.0   353.0  3235.0        False  \n",
       "8692           0.0     0.0    12.0         True  \n",
       "\n",
       "[8693 rows x 11 columns]"
      ]
     },
     "execution_count": 11,
     "metadata": {},
     "output_type": "execute_result"
    }
   ],
   "source": [
    "df = df.drop(['PassengerId', 'Cabin', 'Name'], axis=1)\n",
    "df"
   ]
  },
  {
   "cell_type": "code",
   "execution_count": 12,
   "id": "e1c826cc",
   "metadata": {
    "execution": {
     "iopub.execute_input": "2022-04-01T08:38:10.539446Z",
     "iopub.status.busy": "2022-04-01T08:38:10.538813Z",
     "iopub.status.idle": "2022-04-01T08:38:10.550726Z",
     "shell.execute_reply": "2022-04-01T08:38:10.551326Z",
     "shell.execute_reply.started": "2022-04-01T08:36:58.871369Z"
    },
    "papermill": {
     "duration": 0.057808,
     "end_time": "2022-04-01T08:38:10.551510",
     "exception": false,
     "start_time": "2022-04-01T08:38:10.493702",
     "status": "completed"
    },
    "tags": []
   },
   "outputs": [
    {
     "data": {
      "text/plain": [
       "HomePlanet      8492\n",
       "CryoSleep       8476\n",
       "Destination     8511\n",
       "Age             8514\n",
       "VIP             8490\n",
       "RoomService     8512\n",
       "FoodCourt       8510\n",
       "ShoppingMall    8485\n",
       "Spa             8510\n",
       "VRDeck          8505\n",
       "Transported     8693\n",
       "dtype: int64"
      ]
     },
     "execution_count": 12,
     "metadata": {},
     "output_type": "execute_result"
    }
   ],
   "source": [
    "df.count() # 각 객체 별 수"
   ]
  },
  {
   "cell_type": "code",
   "execution_count": 13,
   "id": "7c224ed0",
   "metadata": {
    "execution": {
     "iopub.execute_input": "2022-04-01T08:38:10.642465Z",
     "iopub.status.busy": "2022-04-01T08:38:10.641744Z",
     "iopub.status.idle": "2022-04-01T08:38:10.644913Z",
     "shell.execute_reply": "2022-04-01T08:38:10.645431Z",
     "shell.execute_reply.started": "2022-04-01T08:36:58.944361Z"
    },
    "papermill": {
     "duration": 0.049981,
     "end_time": "2022-04-01T08:38:10.645618",
     "exception": false,
     "start_time": "2022-04-01T08:38:10.595637",
     "status": "completed"
    },
    "tags": []
   },
   "outputs": [],
   "source": [
    "# 결측치 확인\n",
    "#df['Transported'].isnull().sum()"
   ]
  },
  {
   "cell_type": "code",
   "execution_count": 14,
   "id": "e40c4a73",
   "metadata": {
    "execution": {
     "iopub.execute_input": "2022-04-01T08:38:10.736655Z",
     "iopub.status.busy": "2022-04-01T08:38:10.735924Z",
     "iopub.status.idle": "2022-04-01T08:38:10.738840Z",
     "shell.execute_reply": "2022-04-01T08:38:10.739355Z",
     "shell.execute_reply.started": "2022-04-01T08:36:59.005908Z"
    },
    "papermill": {
     "duration": 0.049737,
     "end_time": "2022-04-01T08:38:10.739603",
     "exception": false,
     "start_time": "2022-04-01T08:38:10.689866",
     "status": "completed"
    },
    "tags": []
   },
   "outputs": [],
   "source": [
    "#df['Transported'].unique()"
   ]
  },
  {
   "cell_type": "code",
   "execution_count": 15,
   "id": "f715f213",
   "metadata": {
    "execution": {
     "iopub.execute_input": "2022-04-01T08:38:10.831483Z",
     "iopub.status.busy": "2022-04-01T08:38:10.830829Z",
     "iopub.status.idle": "2022-04-01T08:38:10.837044Z",
     "shell.execute_reply": "2022-04-01T08:38:10.837606Z",
     "shell.execute_reply.started": "2022-04-01T08:36:59.062800Z"
    },
    "papermill": {
     "duration": 0.054446,
     "end_time": "2022-04-01T08:38:10.837779",
     "exception": false,
     "start_time": "2022-04-01T08:38:10.783333",
     "status": "completed"
    },
    "tags": []
   },
   "outputs": [
    {
     "data": {
      "text/plain": [
       "True     4378\n",
       "False    4315\n",
       "Name: Transported, dtype: int64"
      ]
     },
     "execution_count": 15,
     "metadata": {},
     "output_type": "execute_result"
    }
   ],
   "source": [
    "df['Transported'].value_counts()"
   ]
  },
  {
   "cell_type": "code",
   "execution_count": 16,
   "id": "00574d53",
   "metadata": {
    "execution": {
     "iopub.execute_input": "2022-04-01T08:38:10.930119Z",
     "iopub.status.busy": "2022-04-01T08:38:10.929413Z",
     "iopub.status.idle": "2022-04-01T08:38:10.937222Z",
     "shell.execute_reply": "2022-04-01T08:38:10.937750Z",
     "shell.execute_reply.started": "2022-04-01T08:36:59.106380Z"
    },
    "papermill": {
     "duration": 0.055213,
     "end_time": "2022-04-01T08:38:10.937926",
     "exception": false,
     "start_time": "2022-04-01T08:38:10.882713",
     "status": "completed"
    },
    "tags": []
   },
   "outputs": [
    {
     "data": {
      "text/plain": [
       "False    8291\n",
       "True      199\n",
       "Name: VIP, dtype: int64"
      ]
     },
     "execution_count": 16,
     "metadata": {},
     "output_type": "execute_result"
    }
   ],
   "source": [
    "df['VIP'].value_counts()"
   ]
  },
  {
   "cell_type": "code",
   "execution_count": 17,
   "id": "1336d3d5",
   "metadata": {
    "execution": {
     "iopub.execute_input": "2022-04-01T08:38:11.031194Z",
     "iopub.status.busy": "2022-04-01T08:38:11.030506Z",
     "iopub.status.idle": "2022-04-01T08:38:11.039496Z",
     "shell.execute_reply": "2022-04-01T08:38:11.039997Z",
     "shell.execute_reply.started": "2022-04-01T08:36:59.134644Z"
    },
    "papermill": {
     "duration": 0.056876,
     "end_time": "2022-04-01T08:38:11.040198",
     "exception": false,
     "start_time": "2022-04-01T08:38:10.983322",
     "status": "completed"
    },
    "tags": []
   },
   "outputs": [
    {
     "data": {
      "text/plain": [
       "(4315, 11)"
      ]
     },
     "execution_count": 17,
     "metadata": {},
     "output_type": "execute_result"
    }
   ],
   "source": [
    "df_nottransported = df[(df[\"Transported\"] == 0)]\n",
    "df_nottransported.shape"
   ]
  },
  {
   "cell_type": "code",
   "execution_count": 18,
   "id": "8a3ac869",
   "metadata": {
    "execution": {
     "iopub.execute_input": "2022-04-01T08:38:11.134410Z",
     "iopub.status.busy": "2022-04-01T08:38:11.133723Z",
     "iopub.status.idle": "2022-04-01T08:38:11.140792Z",
     "shell.execute_reply": "2022-04-01T08:38:11.141326Z",
     "shell.execute_reply.started": "2022-04-01T08:36:59.167032Z"
    },
    "papermill": {
     "duration": 0.054915,
     "end_time": "2022-04-01T08:38:11.141530",
     "exception": false,
     "start_time": "2022-04-01T08:38:11.086615",
     "status": "completed"
    },
    "tags": []
   },
   "outputs": [
    {
     "data": {
      "text/plain": [
       "(4378, 11)"
      ]
     },
     "execution_count": 18,
     "metadata": {},
     "output_type": "execute_result"
    }
   ],
   "source": [
    "df_transported = df[(df[\"Transported\"] == 1)]\n",
    "df_transported.shape"
   ]
  },
  {
   "cell_type": "code",
   "execution_count": 19,
   "id": "b157e229",
   "metadata": {
    "execution": {
     "iopub.execute_input": "2022-04-01T08:38:11.236718Z",
     "iopub.status.busy": "2022-04-01T08:38:11.235931Z",
     "iopub.status.idle": "2022-04-01T08:38:11.238302Z",
     "shell.execute_reply": "2022-04-01T08:38:11.238859Z",
     "shell.execute_reply.started": "2022-04-01T08:36:59.208860Z"
    },
    "papermill": {
     "duration": 0.052325,
     "end_time": "2022-04-01T08:38:11.239035",
     "exception": false,
     "start_time": "2022-04-01T08:38:11.186710",
     "status": "completed"
    },
    "tags": []
   },
   "outputs": [],
   "source": [
    "#fig, ax = plt.subplots()\n",
    "#sns.countplot(x='VIP', hub='Transported', data=df,\n",
    "#             palette=\"nipy_spectral\",\n",
    "#             order=df['VIP'].value_counts().index)\n",
    "#plt.show()"
   ]
  },
  {
   "cell_type": "markdown",
   "id": "c2e54223",
   "metadata": {
    "papermill": {
     "duration": 0.044799,
     "end_time": "2022-04-01T08:38:11.329281",
     "exception": false,
     "start_time": "2022-04-01T08:38:11.284482",
     "status": "completed"
    },
    "tags": []
   },
   "source": [
    "결측치 수치(복붙)"
   ]
  },
  {
   "cell_type": "code",
   "execution_count": 20,
   "id": "382a2e62",
   "metadata": {
    "execution": {
     "iopub.execute_input": "2022-04-01T08:38:11.422755Z",
     "iopub.status.busy": "2022-04-01T08:38:11.422116Z",
     "iopub.status.idle": "2022-04-01T08:38:11.512290Z",
     "shell.execute_reply": "2022-04-01T08:38:11.512752Z",
     "shell.execute_reply.started": "2022-04-01T08:36:59.242574Z"
    },
    "papermill": {
     "duration": 0.138072,
     "end_time": "2022-04-01T08:38:11.512932",
     "exception": false,
     "start_time": "2022-04-01T08:38:11.374860",
     "status": "completed"
    },
    "tags": []
   },
   "outputs": [
    {
     "data": {
      "text/html": [
       "<style type=\"text/css\">\n",
       "#T_5b880_row0_col0, #T_5b880_row0_col1 {\n",
       "  background-color: #006699;\n",
       "  color: #f1f1f1;\n",
       "}\n",
       "#T_5b880_row1_col0, #T_5b880_row1_col1 {\n",
       "  background-color: #c6e2ec;\n",
       "  color: #000000;\n",
       "}\n",
       "#T_5b880_row2_col0, #T_5b880_row2_col1 {\n",
       "  background-color: #002f36;\n",
       "  color: #f1f1f1;\n",
       "}\n",
       "#T_5b880_row3_col0, #T_5b880_row3_col1 {\n",
       "  background-color: #004527;\n",
       "  color: #f1f1f1;\n",
       "}\n",
       "#T_5b880_row4_col0, #T_5b880_row4_col1 {\n",
       "  background-color: #0075a3;\n",
       "  color: #f1f1f1;\n",
       "}\n",
       "#T_5b880_row5_col0, #T_5b880_row5_col1 {\n",
       "  background-color: #003631;\n",
       "  color: #f1f1f1;\n",
       "}\n",
       "#T_5b880_row6_col0, #T_5b880_row6_col1, #T_5b880_row8_col0, #T_5b880_row8_col1 {\n",
       "  background-color: #00263c;\n",
       "  color: #f1f1f1;\n",
       "}\n",
       "#T_5b880_row7_col0, #T_5b880_row7_col1 {\n",
       "  background-color: #399cbd;\n",
       "  color: #f1f1f1;\n",
       "}\n",
       "#T_5b880_row9_col0, #T_5b880_row9_col1 {\n",
       "  background-color: #000156;\n",
       "  color: #f1f1f1;\n",
       "}\n",
       "</style>\n",
       "<table id=\"T_5b880_\">\n",
       "  <thead>\n",
       "    <tr>\n",
       "      <th class=\"blank level0\" >&nbsp;</th>\n",
       "      <th class=\"col_heading level0 col0\" >Null Values</th>\n",
       "      <th class=\"col_heading level0 col1\" >% Missing Values</th>\n",
       "    </tr>\n",
       "  </thead>\n",
       "  <tbody>\n",
       "    <tr>\n",
       "      <th id=\"T_5b880_level0_row0\" class=\"row_heading level0 row0\" >HomePlanet</th>\n",
       "      <td id=\"T_5b880_row0_col0\" class=\"data row0 col0\" >201</td>\n",
       "      <td id=\"T_5b880_row0_col1\" class=\"data row0 col1\" >2.312205</td>\n",
       "    </tr>\n",
       "    <tr>\n",
       "      <th id=\"T_5b880_level0_row1\" class=\"row_heading level0 row1\" >CryoSleep</th>\n",
       "      <td id=\"T_5b880_row1_col0\" class=\"data row1 col0\" >217</td>\n",
       "      <td id=\"T_5b880_row1_col1\" class=\"data row1 col1\" >2.496261</td>\n",
       "    </tr>\n",
       "    <tr>\n",
       "      <th id=\"T_5b880_level0_row2\" class=\"row_heading level0 row2\" >Destination</th>\n",
       "      <td id=\"T_5b880_row2_col0\" class=\"data row2 col0\" >182</td>\n",
       "      <td id=\"T_5b880_row2_col1\" class=\"data row2 col1\" >2.093639</td>\n",
       "    </tr>\n",
       "    <tr>\n",
       "      <th id=\"T_5b880_level0_row3\" class=\"row_heading level0 row3\" >Age</th>\n",
       "      <td id=\"T_5b880_row3_col0\" class=\"data row3 col0\" >179</td>\n",
       "      <td id=\"T_5b880_row3_col1\" class=\"data row3 col1\" >2.059128</td>\n",
       "    </tr>\n",
       "    <tr>\n",
       "      <th id=\"T_5b880_level0_row4\" class=\"row_heading level0 row4\" >VIP</th>\n",
       "      <td id=\"T_5b880_row4_col0\" class=\"data row4 col0\" >203</td>\n",
       "      <td id=\"T_5b880_row4_col1\" class=\"data row4 col1\" >2.335212</td>\n",
       "    </tr>\n",
       "    <tr>\n",
       "      <th id=\"T_5b880_level0_row5\" class=\"row_heading level0 row5\" >RoomService</th>\n",
       "      <td id=\"T_5b880_row5_col0\" class=\"data row5 col0\" >181</td>\n",
       "      <td id=\"T_5b880_row5_col1\" class=\"data row5 col1\" >2.082135</td>\n",
       "    </tr>\n",
       "    <tr>\n",
       "      <th id=\"T_5b880_level0_row6\" class=\"row_heading level0 row6\" >FoodCourt</th>\n",
       "      <td id=\"T_5b880_row6_col0\" class=\"data row6 col0\" >183</td>\n",
       "      <td id=\"T_5b880_row6_col1\" class=\"data row6 col1\" >2.105142</td>\n",
       "    </tr>\n",
       "    <tr>\n",
       "      <th id=\"T_5b880_level0_row7\" class=\"row_heading level0 row7\" >ShoppingMall</th>\n",
       "      <td id=\"T_5b880_row7_col0\" class=\"data row7 col0\" >208</td>\n",
       "      <td id=\"T_5b880_row7_col1\" class=\"data row7 col1\" >2.392730</td>\n",
       "    </tr>\n",
       "    <tr>\n",
       "      <th id=\"T_5b880_level0_row8\" class=\"row_heading level0 row8\" >Spa</th>\n",
       "      <td id=\"T_5b880_row8_col0\" class=\"data row8 col0\" >183</td>\n",
       "      <td id=\"T_5b880_row8_col1\" class=\"data row8 col1\" >2.105142</td>\n",
       "    </tr>\n",
       "    <tr>\n",
       "      <th id=\"T_5b880_level0_row9\" class=\"row_heading level0 row9\" >VRDeck</th>\n",
       "      <td id=\"T_5b880_row9_col0\" class=\"data row9 col0\" >188</td>\n",
       "      <td id=\"T_5b880_row9_col1\" class=\"data row9 col1\" >2.162660</td>\n",
       "    </tr>\n",
       "  </tbody>\n",
       "</table>\n"
      ],
      "text/plain": [
       "<pandas.io.formats.style.Styler at 0x7f28c10b8210>"
      ]
     },
     "execution_count": 20,
     "metadata": {},
     "output_type": "execute_result"
    }
   ],
   "source": [
    "null=pd.DataFrame(df.isnull().sum(),columns=[\"Null Values\"])\n",
    "null[\"% Missing Values\"]=(df.isna().sum()/len(df)*100)\n",
    "null = null[null[\"% Missing Values\"] > 0]\n",
    "null.style.background_gradient(cmap='ocean',low =0.2,high=0.1)\n"
   ]
  },
  {
   "cell_type": "code",
   "execution_count": 21,
   "id": "7fa13a88",
   "metadata": {
    "execution": {
     "iopub.execute_input": "2022-04-01T08:38:11.607324Z",
     "iopub.status.busy": "2022-04-01T08:38:11.606704Z",
     "iopub.status.idle": "2022-04-01T08:38:11.615037Z",
     "shell.execute_reply": "2022-04-01T08:38:11.615548Z",
     "shell.execute_reply.started": "2022-04-01T08:36:59.273883Z"
    },
    "papermill": {
     "duration": 0.057084,
     "end_time": "2022-04-01T08:38:11.615718",
     "exception": false,
     "start_time": "2022-04-01T08:38:11.558634",
     "status": "completed"
    },
    "tags": []
   },
   "outputs": [
    {
     "data": {
      "text/html": [
       "<div>\n",
       "<style scoped>\n",
       "    .dataframe tbody tr th:only-of-type {\n",
       "        vertical-align: middle;\n",
       "    }\n",
       "\n",
       "    .dataframe tbody tr th {\n",
       "        vertical-align: top;\n",
       "    }\n",
       "\n",
       "    .dataframe thead th {\n",
       "        text-align: right;\n",
       "    }\n",
       "</style>\n",
       "<table border=\"1\" class=\"dataframe\">\n",
       "  <thead>\n",
       "    <tr style=\"text-align: right;\">\n",
       "      <th></th>\n",
       "    </tr>\n",
       "  </thead>\n",
       "  <tbody>\n",
       "    <tr>\n",
       "      <th>HomePlanet</th>\n",
       "    </tr>\n",
       "    <tr>\n",
       "      <th>CryoSleep</th>\n",
       "    </tr>\n",
       "    <tr>\n",
       "      <th>Destination</th>\n",
       "    </tr>\n",
       "  </tbody>\n",
       "</table>\n",
       "</div>"
      ],
      "text/plain": [
       "Empty DataFrame\n",
       "Columns: []\n",
       "Index: [HomePlanet, CryoSleep, Destination]"
      ]
     },
     "execution_count": 21,
     "metadata": {},
     "output_type": "execute_result"
    }
   ],
   "source": [
    "null_cat=null.select_dtypes(include='object')\n",
    "null_cat.head(3)"
   ]
  },
  {
   "cell_type": "code",
   "execution_count": 22,
   "id": "237e5015",
   "metadata": {
    "execution": {
     "iopub.execute_input": "2022-04-01T08:38:11.711222Z",
     "iopub.status.busy": "2022-04-01T08:38:11.710571Z",
     "iopub.status.idle": "2022-04-01T08:38:11.713720Z",
     "shell.execute_reply": "2022-04-01T08:38:11.714366Z",
     "shell.execute_reply.started": "2022-04-01T08:36:59.283228Z"
    },
    "papermill": {
     "duration": 0.052668,
     "end_time": "2022-04-01T08:38:11.714550",
     "exception": false,
     "start_time": "2022-04-01T08:38:11.661882",
     "status": "completed"
    },
    "tags": []
   },
   "outputs": [],
   "source": [
    "#null=pd.DataFrame(test.isnull().sum(),columns=[\"Null Values\"])\n",
    "#null[\"% Missing Values\"]=(df.isna().sum()/len(df)*100)\n",
    "#null = null[null[\"% Missing Values\"] > 0]\n",
    "#null.style.background_gradient(cmap='ocean',low =0.2,high=0.1)"
   ]
  },
  {
   "cell_type": "code",
   "execution_count": 23,
   "id": "776daad3",
   "metadata": {
    "execution": {
     "iopub.execute_input": "2022-04-01T08:38:11.810605Z",
     "iopub.status.busy": "2022-04-01T08:38:11.809918Z",
     "iopub.status.idle": "2022-04-01T08:38:11.813534Z",
     "shell.execute_reply": "2022-04-01T08:38:11.814084Z",
     "shell.execute_reply.started": "2022-04-01T08:36:59.294920Z"
    },
    "papermill": {
     "duration": 0.052935,
     "end_time": "2022-04-01T08:38:11.814273",
     "exception": false,
     "start_time": "2022-04-01T08:38:11.761338",
     "status": "completed"
    },
    "tags": []
   },
   "outputs": [],
   "source": [
    "#df.corr()"
   ]
  },
  {
   "cell_type": "code",
   "execution_count": 24,
   "id": "1bb897e8",
   "metadata": {
    "execution": {
     "iopub.execute_input": "2022-04-01T08:38:11.911967Z",
     "iopub.status.busy": "2022-04-01T08:38:11.911300Z",
     "iopub.status.idle": "2022-04-01T08:38:11.936512Z",
     "shell.execute_reply": "2022-04-01T08:38:11.937071Z",
     "shell.execute_reply.started": "2022-04-01T08:36:59.312460Z"
    },
    "papermill": {
     "duration": 0.074948,
     "end_time": "2022-04-01T08:38:11.937265",
     "exception": false,
     "start_time": "2022-04-01T08:38:11.862317",
     "status": "completed"
    },
    "tags": []
   },
   "outputs": [
    {
     "data": {
      "text/html": [
       "<div>\n",
       "<style scoped>\n",
       "    .dataframe tbody tr th:only-of-type {\n",
       "        vertical-align: middle;\n",
       "    }\n",
       "\n",
       "    .dataframe tbody tr th {\n",
       "        vertical-align: top;\n",
       "    }\n",
       "\n",
       "    .dataframe thead th {\n",
       "        text-align: right;\n",
       "    }\n",
       "</style>\n",
       "<table border=\"1\" class=\"dataframe\">\n",
       "  <thead>\n",
       "    <tr style=\"text-align: right;\">\n",
       "      <th></th>\n",
       "      <th>HomePlanet</th>\n",
       "      <th>CryoSleep</th>\n",
       "      <th>Destination</th>\n",
       "      <th>Age</th>\n",
       "      <th>VIP</th>\n",
       "      <th>RoomService</th>\n",
       "      <th>FoodCourt</th>\n",
       "      <th>ShoppingMall</th>\n",
       "      <th>Spa</th>\n",
       "      <th>VRDeck</th>\n",
       "    </tr>\n",
       "  </thead>\n",
       "  <tbody>\n",
       "    <tr>\n",
       "      <th>0</th>\n",
       "      <td>Earth</td>\n",
       "      <td>True</td>\n",
       "      <td>TRAPPIST-1e</td>\n",
       "      <td>27.0</td>\n",
       "      <td>False</td>\n",
       "      <td>0.0</td>\n",
       "      <td>0.0</td>\n",
       "      <td>0.0</td>\n",
       "      <td>0.0</td>\n",
       "      <td>0.0</td>\n",
       "    </tr>\n",
       "    <tr>\n",
       "      <th>1</th>\n",
       "      <td>Earth</td>\n",
       "      <td>False</td>\n",
       "      <td>TRAPPIST-1e</td>\n",
       "      <td>19.0</td>\n",
       "      <td>False</td>\n",
       "      <td>0.0</td>\n",
       "      <td>9.0</td>\n",
       "      <td>0.0</td>\n",
       "      <td>2823.0</td>\n",
       "      <td>0.0</td>\n",
       "    </tr>\n",
       "    <tr>\n",
       "      <th>2</th>\n",
       "      <td>Europa</td>\n",
       "      <td>True</td>\n",
       "      <td>55 Cancri e</td>\n",
       "      <td>31.0</td>\n",
       "      <td>False</td>\n",
       "      <td>0.0</td>\n",
       "      <td>0.0</td>\n",
       "      <td>0.0</td>\n",
       "      <td>0.0</td>\n",
       "      <td>0.0</td>\n",
       "    </tr>\n",
       "    <tr>\n",
       "      <th>3</th>\n",
       "      <td>Europa</td>\n",
       "      <td>False</td>\n",
       "      <td>TRAPPIST-1e</td>\n",
       "      <td>38.0</td>\n",
       "      <td>False</td>\n",
       "      <td>0.0</td>\n",
       "      <td>6652.0</td>\n",
       "      <td>0.0</td>\n",
       "      <td>181.0</td>\n",
       "      <td>585.0</td>\n",
       "    </tr>\n",
       "    <tr>\n",
       "      <th>4</th>\n",
       "      <td>Earth</td>\n",
       "      <td>False</td>\n",
       "      <td>TRAPPIST-1e</td>\n",
       "      <td>20.0</td>\n",
       "      <td>False</td>\n",
       "      <td>10.0</td>\n",
       "      <td>0.0</td>\n",
       "      <td>635.0</td>\n",
       "      <td>0.0</td>\n",
       "      <td>0.0</td>\n",
       "    </tr>\n",
       "    <tr>\n",
       "      <th>...</th>\n",
       "      <td>...</td>\n",
       "      <td>...</td>\n",
       "      <td>...</td>\n",
       "      <td>...</td>\n",
       "      <td>...</td>\n",
       "      <td>...</td>\n",
       "      <td>...</td>\n",
       "      <td>...</td>\n",
       "      <td>...</td>\n",
       "      <td>...</td>\n",
       "    </tr>\n",
       "    <tr>\n",
       "      <th>4272</th>\n",
       "      <td>Earth</td>\n",
       "      <td>True</td>\n",
       "      <td>TRAPPIST-1e</td>\n",
       "      <td>34.0</td>\n",
       "      <td>False</td>\n",
       "      <td>0.0</td>\n",
       "      <td>0.0</td>\n",
       "      <td>0.0</td>\n",
       "      <td>0.0</td>\n",
       "      <td>0.0</td>\n",
       "    </tr>\n",
       "    <tr>\n",
       "      <th>4273</th>\n",
       "      <td>Earth</td>\n",
       "      <td>False</td>\n",
       "      <td>TRAPPIST-1e</td>\n",
       "      <td>42.0</td>\n",
       "      <td>False</td>\n",
       "      <td>0.0</td>\n",
       "      <td>847.0</td>\n",
       "      <td>17.0</td>\n",
       "      <td>10.0</td>\n",
       "      <td>144.0</td>\n",
       "    </tr>\n",
       "    <tr>\n",
       "      <th>4274</th>\n",
       "      <td>Mars</td>\n",
       "      <td>True</td>\n",
       "      <td>55 Cancri e</td>\n",
       "      <td>NaN</td>\n",
       "      <td>False</td>\n",
       "      <td>0.0</td>\n",
       "      <td>0.0</td>\n",
       "      <td>0.0</td>\n",
       "      <td>0.0</td>\n",
       "      <td>0.0</td>\n",
       "    </tr>\n",
       "    <tr>\n",
       "      <th>4275</th>\n",
       "      <td>Europa</td>\n",
       "      <td>False</td>\n",
       "      <td>NaN</td>\n",
       "      <td>NaN</td>\n",
       "      <td>False</td>\n",
       "      <td>0.0</td>\n",
       "      <td>2680.0</td>\n",
       "      <td>0.0</td>\n",
       "      <td>0.0</td>\n",
       "      <td>523.0</td>\n",
       "    </tr>\n",
       "    <tr>\n",
       "      <th>4276</th>\n",
       "      <td>Earth</td>\n",
       "      <td>True</td>\n",
       "      <td>PSO J318.5-22</td>\n",
       "      <td>43.0</td>\n",
       "      <td>False</td>\n",
       "      <td>0.0</td>\n",
       "      <td>0.0</td>\n",
       "      <td>0.0</td>\n",
       "      <td>0.0</td>\n",
       "      <td>0.0</td>\n",
       "    </tr>\n",
       "  </tbody>\n",
       "</table>\n",
       "<p>4277 rows × 10 columns</p>\n",
       "</div>"
      ],
      "text/plain": [
       "     HomePlanet CryoSleep    Destination   Age    VIP  RoomService  FoodCourt  \\\n",
       "0         Earth      True    TRAPPIST-1e  27.0  False          0.0        0.0   \n",
       "1         Earth     False    TRAPPIST-1e  19.0  False          0.0        9.0   \n",
       "2        Europa      True    55 Cancri e  31.0  False          0.0        0.0   \n",
       "3        Europa     False    TRAPPIST-1e  38.0  False          0.0     6652.0   \n",
       "4         Earth     False    TRAPPIST-1e  20.0  False         10.0        0.0   \n",
       "...         ...       ...            ...   ...    ...          ...        ...   \n",
       "4272      Earth      True    TRAPPIST-1e  34.0  False          0.0        0.0   \n",
       "4273      Earth     False    TRAPPIST-1e  42.0  False          0.0      847.0   \n",
       "4274       Mars      True    55 Cancri e   NaN  False          0.0        0.0   \n",
       "4275     Europa     False            NaN   NaN  False          0.0     2680.0   \n",
       "4276      Earth      True  PSO J318.5-22  43.0  False          0.0        0.0   \n",
       "\n",
       "      ShoppingMall     Spa  VRDeck  \n",
       "0              0.0     0.0     0.0  \n",
       "1              0.0  2823.0     0.0  \n",
       "2              0.0     0.0     0.0  \n",
       "3              0.0   181.0   585.0  \n",
       "4            635.0     0.0     0.0  \n",
       "...            ...     ...     ...  \n",
       "4272           0.0     0.0     0.0  \n",
       "4273          17.0    10.0   144.0  \n",
       "4274           0.0     0.0     0.0  \n",
       "4275           0.0     0.0   523.0  \n",
       "4276           0.0     0.0     0.0  \n",
       "\n",
       "[4277 rows x 10 columns]"
      ]
     },
     "execution_count": 24,
     "metadata": {},
     "output_type": "execute_result"
    }
   ],
   "source": [
    "test = test.drop(['PassengerId', 'Cabin', 'Name'], axis = 1)\n",
    "test"
   ]
  },
  {
   "cell_type": "code",
   "execution_count": 25,
   "id": "65303156",
   "metadata": {
    "execution": {
     "iopub.execute_input": "2022-04-01T08:38:12.035564Z",
     "iopub.status.busy": "2022-04-01T08:38:12.034805Z",
     "iopub.status.idle": "2022-04-01T08:38:12.047269Z",
     "shell.execute_reply": "2022-04-01T08:38:12.047866Z",
     "shell.execute_reply.started": "2022-04-01T08:36:59.446051Z"
    },
    "papermill": {
     "duration": 0.063202,
     "end_time": "2022-04-01T08:38:12.048048",
     "exception": false,
     "start_time": "2022-04-01T08:38:11.984846",
     "status": "completed"
    },
    "tags": []
   },
   "outputs": [
    {
     "data": {
      "text/html": [
       "<div>\n",
       "<style scoped>\n",
       "    .dataframe tbody tr th:only-of-type {\n",
       "        vertical-align: middle;\n",
       "    }\n",
       "\n",
       "    .dataframe tbody tr th {\n",
       "        vertical-align: top;\n",
       "    }\n",
       "\n",
       "    .dataframe thead th {\n",
       "        text-align: right;\n",
       "    }\n",
       "</style>\n",
       "<table border=\"1\" class=\"dataframe\">\n",
       "  <thead>\n",
       "    <tr style=\"text-align: right;\">\n",
       "      <th></th>\n",
       "      <th>HomePlanet</th>\n",
       "      <th>CryoSleep</th>\n",
       "      <th>Destination</th>\n",
       "      <th>VIP</th>\n",
       "    </tr>\n",
       "  </thead>\n",
       "  <tbody>\n",
       "    <tr>\n",
       "      <th>0</th>\n",
       "      <td>Europa</td>\n",
       "      <td>False</td>\n",
       "      <td>TRAPPIST-1e</td>\n",
       "      <td>False</td>\n",
       "    </tr>\n",
       "    <tr>\n",
       "      <th>1</th>\n",
       "      <td>Earth</td>\n",
       "      <td>False</td>\n",
       "      <td>TRAPPIST-1e</td>\n",
       "      <td>False</td>\n",
       "    </tr>\n",
       "    <tr>\n",
       "      <th>2</th>\n",
       "      <td>Europa</td>\n",
       "      <td>False</td>\n",
       "      <td>TRAPPIST-1e</td>\n",
       "      <td>True</td>\n",
       "    </tr>\n",
       "    <tr>\n",
       "      <th>3</th>\n",
       "      <td>Europa</td>\n",
       "      <td>False</td>\n",
       "      <td>TRAPPIST-1e</td>\n",
       "      <td>False</td>\n",
       "    </tr>\n",
       "    <tr>\n",
       "      <th>4</th>\n",
       "      <td>Earth</td>\n",
       "      <td>False</td>\n",
       "      <td>TRAPPIST-1e</td>\n",
       "      <td>False</td>\n",
       "    </tr>\n",
       "  </tbody>\n",
       "</table>\n",
       "</div>"
      ],
      "text/plain": [
       "  HomePlanet CryoSleep  Destination    VIP\n",
       "0     Europa     False  TRAPPIST-1e  False\n",
       "1      Earth     False  TRAPPIST-1e  False\n",
       "2     Europa     False  TRAPPIST-1e   True\n",
       "3     Europa     False  TRAPPIST-1e  False\n",
       "4      Earth     False  TRAPPIST-1e  False"
      ]
     },
     "execution_count": 25,
     "metadata": {},
     "output_type": "execute_result"
    }
   ],
   "source": [
    "# train\n",
    "df_cat = df.select_dtypes(include='object')\n",
    "df_cat.head()"
   ]
  },
  {
   "cell_type": "code",
   "execution_count": 26,
   "id": "22e99b0e",
   "metadata": {
    "execution": {
     "iopub.execute_input": "2022-04-01T08:38:12.159257Z",
     "iopub.status.busy": "2022-04-01T08:38:12.152251Z",
     "iopub.status.idle": "2022-04-01T08:38:12.161791Z",
     "shell.execute_reply": "2022-04-01T08:38:12.162306Z",
     "shell.execute_reply.started": "2022-04-01T08:36:59.675464Z"
    },
    "papermill": {
     "duration": 0.064735,
     "end_time": "2022-04-01T08:38:12.162494",
     "exception": false,
     "start_time": "2022-04-01T08:38:12.097759",
     "status": "completed"
    },
    "tags": []
   },
   "outputs": [
    {
     "data": {
      "text/html": [
       "<div>\n",
       "<style scoped>\n",
       "    .dataframe tbody tr th:only-of-type {\n",
       "        vertical-align: middle;\n",
       "    }\n",
       "\n",
       "    .dataframe tbody tr th {\n",
       "        vertical-align: top;\n",
       "    }\n",
       "\n",
       "    .dataframe thead th {\n",
       "        text-align: right;\n",
       "    }\n",
       "</style>\n",
       "<table border=\"1\" class=\"dataframe\">\n",
       "  <thead>\n",
       "    <tr style=\"text-align: right;\">\n",
       "      <th></th>\n",
       "      <th>HomePlanet</th>\n",
       "      <th>CryoSleep</th>\n",
       "      <th>Destination</th>\n",
       "      <th>VIP</th>\n",
       "    </tr>\n",
       "  </thead>\n",
       "  <tbody>\n",
       "    <tr>\n",
       "      <th>0</th>\n",
       "      <td>Earth</td>\n",
       "      <td>True</td>\n",
       "      <td>TRAPPIST-1e</td>\n",
       "      <td>False</td>\n",
       "    </tr>\n",
       "    <tr>\n",
       "      <th>1</th>\n",
       "      <td>Earth</td>\n",
       "      <td>False</td>\n",
       "      <td>TRAPPIST-1e</td>\n",
       "      <td>False</td>\n",
       "    </tr>\n",
       "    <tr>\n",
       "      <th>2</th>\n",
       "      <td>Europa</td>\n",
       "      <td>True</td>\n",
       "      <td>55 Cancri e</td>\n",
       "      <td>False</td>\n",
       "    </tr>\n",
       "    <tr>\n",
       "      <th>3</th>\n",
       "      <td>Europa</td>\n",
       "      <td>False</td>\n",
       "      <td>TRAPPIST-1e</td>\n",
       "      <td>False</td>\n",
       "    </tr>\n",
       "    <tr>\n",
       "      <th>4</th>\n",
       "      <td>Earth</td>\n",
       "      <td>False</td>\n",
       "      <td>TRAPPIST-1e</td>\n",
       "      <td>False</td>\n",
       "    </tr>\n",
       "  </tbody>\n",
       "</table>\n",
       "</div>"
      ],
      "text/plain": [
       "  HomePlanet CryoSleep  Destination    VIP\n",
       "0      Earth      True  TRAPPIST-1e  False\n",
       "1      Earth     False  TRAPPIST-1e  False\n",
       "2     Europa      True  55 Cancri e  False\n",
       "3     Europa     False  TRAPPIST-1e  False\n",
       "4      Earth     False  TRAPPIST-1e  False"
      ]
     },
     "execution_count": 26,
     "metadata": {},
     "output_type": "execute_result"
    }
   ],
   "source": [
    "# test\n",
    "df_cat = test.select_dtypes(include = 'object')\n",
    "df_cat.head()"
   ]
  },
  {
   "cell_type": "markdown",
   "id": "f8ae7ded",
   "metadata": {
    "papermill": {
     "duration": 0.048244,
     "end_time": "2022-04-01T08:38:12.260048",
     "exception": false,
     "start_time": "2022-04-01T08:38:12.211804",
     "status": "completed"
    },
    "tags": []
   },
   "source": [
    "CryoSleep(저온수면) False 또는 True, 목적지, VIP 관계성 "
   ]
  },
  {
   "cell_type": "markdown",
   "id": "291c34c7",
   "metadata": {
    "papermill": {
     "duration": 0.047681,
     "end_time": "2022-04-01T08:38:12.357964",
     "exception": false,
     "start_time": "2022-04-01T08:38:12.310283",
     "status": "completed"
    },
    "tags": []
   },
   "source": [
    "- 간단한 통계\n",
    " + df(train), test"
   ]
  },
  {
   "cell_type": "code",
   "execution_count": 27,
   "id": "e41da29b",
   "metadata": {
    "execution": {
     "iopub.execute_input": "2022-04-01T08:38:12.458913Z",
     "iopub.status.busy": "2022-04-01T08:38:12.458222Z",
     "iopub.status.idle": "2022-04-01T08:38:12.479727Z",
     "shell.execute_reply": "2022-04-01T08:38:12.480320Z",
     "shell.execute_reply.started": "2022-04-01T08:36:59.877875Z"
    },
    "papermill": {
     "duration": 0.073446,
     "end_time": "2022-04-01T08:38:12.480514",
     "exception": false,
     "start_time": "2022-04-01T08:38:12.407068",
     "status": "completed"
    },
    "tags": []
   },
   "outputs": [],
   "source": [
    "df_1 = df.describe()"
   ]
  },
  {
   "cell_type": "code",
   "execution_count": 28,
   "id": "097b3663",
   "metadata": {
    "execution": {
     "iopub.execute_input": "2022-04-01T08:38:12.581368Z",
     "iopub.status.busy": "2022-04-01T08:38:12.580692Z",
     "iopub.status.idle": "2022-04-01T08:38:12.587245Z",
     "shell.execute_reply": "2022-04-01T08:38:12.587757Z",
     "shell.execute_reply.started": "2022-04-01T08:36:59.987630Z"
    },
    "papermill": {
     "duration": 0.058302,
     "end_time": "2022-04-01T08:38:12.587935",
     "exception": false,
     "start_time": "2022-04-01T08:38:12.529633",
     "status": "completed"
    },
    "tags": []
   },
   "outputs": [
    {
     "data": {
      "text/plain": [
       "203"
      ]
     },
     "execution_count": 28,
     "metadata": {},
     "output_type": "execute_result"
    }
   ],
   "source": [
    "df['VIP'].isnull().sum()"
   ]
  },
  {
   "cell_type": "code",
   "execution_count": 29,
   "id": "8046fbc8",
   "metadata": {
    "execution": {
     "iopub.execute_input": "2022-04-01T08:38:12.689154Z",
     "iopub.status.busy": "2022-04-01T08:38:12.688455Z",
     "iopub.status.idle": "2022-04-01T08:38:12.715743Z",
     "shell.execute_reply": "2022-04-01T08:38:12.716283Z",
     "shell.execute_reply.started": "2022-04-01T08:37:00.079227Z"
    },
    "papermill": {
     "duration": 0.079817,
     "end_time": "2022-04-01T08:38:12.716546",
     "exception": false,
     "start_time": "2022-04-01T08:38:12.636729",
     "status": "completed"
    },
    "tags": []
   },
   "outputs": [
    {
     "data": {
      "text/html": [
       "<div>\n",
       "<style scoped>\n",
       "    .dataframe tbody tr th:only-of-type {\n",
       "        vertical-align: middle;\n",
       "    }\n",
       "\n",
       "    .dataframe tbody tr th {\n",
       "        vertical-align: top;\n",
       "    }\n",
       "\n",
       "    .dataframe thead th {\n",
       "        text-align: right;\n",
       "    }\n",
       "</style>\n",
       "<table border=\"1\" class=\"dataframe\">\n",
       "  <thead>\n",
       "    <tr style=\"text-align: right;\">\n",
       "      <th></th>\n",
       "      <th>Age</th>\n",
       "      <th>RoomService</th>\n",
       "      <th>FoodCourt</th>\n",
       "      <th>ShoppingMall</th>\n",
       "      <th>Spa</th>\n",
       "      <th>VRDeck</th>\n",
       "    </tr>\n",
       "  </thead>\n",
       "  <tbody>\n",
       "    <tr>\n",
       "      <th>count</th>\n",
       "      <td>4186.000000</td>\n",
       "      <td>4195.000000</td>\n",
       "      <td>4171.000000</td>\n",
       "      <td>4179.000000</td>\n",
       "      <td>4176.000000</td>\n",
       "      <td>4197.000000</td>\n",
       "    </tr>\n",
       "    <tr>\n",
       "      <th>mean</th>\n",
       "      <td>28.658146</td>\n",
       "      <td>219.266269</td>\n",
       "      <td>439.484296</td>\n",
       "      <td>177.295525</td>\n",
       "      <td>303.052443</td>\n",
       "      <td>310.710031</td>\n",
       "    </tr>\n",
       "    <tr>\n",
       "      <th>std</th>\n",
       "      <td>14.179072</td>\n",
       "      <td>607.011289</td>\n",
       "      <td>1527.663045</td>\n",
       "      <td>560.821123</td>\n",
       "      <td>1117.186015</td>\n",
       "      <td>1246.994742</td>\n",
       "    </tr>\n",
       "    <tr>\n",
       "      <th>min</th>\n",
       "      <td>0.000000</td>\n",
       "      <td>0.000000</td>\n",
       "      <td>0.000000</td>\n",
       "      <td>0.000000</td>\n",
       "      <td>0.000000</td>\n",
       "      <td>0.000000</td>\n",
       "    </tr>\n",
       "    <tr>\n",
       "      <th>25%</th>\n",
       "      <td>19.000000</td>\n",
       "      <td>0.000000</td>\n",
       "      <td>0.000000</td>\n",
       "      <td>0.000000</td>\n",
       "      <td>0.000000</td>\n",
       "      <td>0.000000</td>\n",
       "    </tr>\n",
       "    <tr>\n",
       "      <th>50%</th>\n",
       "      <td>26.000000</td>\n",
       "      <td>0.000000</td>\n",
       "      <td>0.000000</td>\n",
       "      <td>0.000000</td>\n",
       "      <td>0.000000</td>\n",
       "      <td>0.000000</td>\n",
       "    </tr>\n",
       "    <tr>\n",
       "      <th>75%</th>\n",
       "      <td>37.000000</td>\n",
       "      <td>53.000000</td>\n",
       "      <td>78.000000</td>\n",
       "      <td>33.000000</td>\n",
       "      <td>50.000000</td>\n",
       "      <td>36.000000</td>\n",
       "    </tr>\n",
       "    <tr>\n",
       "      <th>max</th>\n",
       "      <td>79.000000</td>\n",
       "      <td>11567.000000</td>\n",
       "      <td>25273.000000</td>\n",
       "      <td>8292.000000</td>\n",
       "      <td>19844.000000</td>\n",
       "      <td>22272.000000</td>\n",
       "    </tr>\n",
       "  </tbody>\n",
       "</table>\n",
       "</div>"
      ],
      "text/plain": [
       "               Age   RoomService     FoodCourt  ShoppingMall           Spa  \\\n",
       "count  4186.000000   4195.000000   4171.000000   4179.000000   4176.000000   \n",
       "mean     28.658146    219.266269    439.484296    177.295525    303.052443   \n",
       "std      14.179072    607.011289   1527.663045    560.821123   1117.186015   \n",
       "min       0.000000      0.000000      0.000000      0.000000      0.000000   \n",
       "25%      19.000000      0.000000      0.000000      0.000000      0.000000   \n",
       "50%      26.000000      0.000000      0.000000      0.000000      0.000000   \n",
       "75%      37.000000     53.000000     78.000000     33.000000     50.000000   \n",
       "max      79.000000  11567.000000  25273.000000   8292.000000  19844.000000   \n",
       "\n",
       "             VRDeck  \n",
       "count   4197.000000  \n",
       "mean     310.710031  \n",
       "std     1246.994742  \n",
       "min        0.000000  \n",
       "25%        0.000000  \n",
       "50%        0.000000  \n",
       "75%       36.000000  \n",
       "max    22272.000000  "
      ]
     },
     "execution_count": 29,
     "metadata": {},
     "output_type": "execute_result"
    }
   ],
   "source": [
    "test.describe()"
   ]
  },
  {
   "cell_type": "code",
   "execution_count": 30,
   "id": "23fcf91b",
   "metadata": {
    "execution": {
     "iopub.execute_input": "2022-04-01T08:38:12.819575Z",
     "iopub.status.busy": "2022-04-01T08:38:12.818819Z",
     "iopub.status.idle": "2022-04-01T08:38:12.826444Z",
     "shell.execute_reply": "2022-04-01T08:38:12.825805Z",
     "shell.execute_reply.started": "2022-04-01T08:37:00.208407Z"
    },
    "papermill": {
     "duration": 0.060059,
     "end_time": "2022-04-01T08:38:12.826595",
     "exception": false,
     "start_time": "2022-04-01T08:38:12.766536",
     "status": "completed"
    },
    "tags": []
   },
   "outputs": [
    {
     "name": "stdout",
     "output_type": "stream",
     "text": [
      "(8693, 6)\n",
      "[[3.900e+01 0.000e+00 0.000e+00 0.000e+00 0.000e+00 0.000e+00]\n",
      " [2.400e+01 1.090e+02 9.000e+00 2.500e+01 5.490e+02 4.400e+01]\n",
      " [5.800e+01 4.300e+01 3.576e+03 0.000e+00 6.715e+03 4.900e+01]\n",
      " ...\n",
      " [2.600e+01 0.000e+00 0.000e+00 1.872e+03 1.000e+00 0.000e+00]\n",
      " [3.200e+01 0.000e+00 1.049e+03 0.000e+00 3.530e+02 3.235e+03]\n",
      " [4.400e+01 1.260e+02 4.688e+03 0.000e+00 0.000e+00 1.200e+01]]\n"
     ]
    }
   ],
   "source": [
    "df_data = df[['Age', 'RoomService', 'FoodCourt', 'ShoppingMall', 'Spa', 'VRDeck']].to_numpy()\n",
    "print(df_data.shape)\n",
    "print(df_data)"
   ]
  },
  {
   "cell_type": "code",
   "execution_count": 31,
   "id": "d51841f6",
   "metadata": {
    "execution": {
     "iopub.execute_input": "2022-04-01T08:38:12.936342Z",
     "iopub.status.busy": "2022-04-01T08:38:12.935635Z",
     "iopub.status.idle": "2022-04-01T08:38:12.938850Z",
     "shell.execute_reply": "2022-04-01T08:38:12.938326Z",
     "shell.execute_reply.started": "2022-04-01T08:37:00.340430Z"
    },
    "papermill": {
     "duration": 0.060713,
     "end_time": "2022-04-01T08:38:12.939004",
     "exception": false,
     "start_time": "2022-04-01T08:38:12.878291",
     "status": "completed"
    },
    "tags": []
   },
   "outputs": [
    {
     "data": {
      "text/plain": [
       "array([[False],\n",
       "       [ True],\n",
       "       [False],\n",
       "       ...,\n",
       "       [ True],\n",
       "       [False],\n",
       "       [ True]])"
      ]
     },
     "execution_count": 31,
     "metadata": {},
     "output_type": "execute_result"
    }
   ],
   "source": [
    "df_target = df[['Transported']].to_numpy()\n",
    "df_target"
   ]
  },
  {
   "cell_type": "code",
   "execution_count": 32,
   "id": "1987c11e",
   "metadata": {
    "execution": {
     "iopub.execute_input": "2022-04-01T08:38:13.046950Z",
     "iopub.status.busy": "2022-04-01T08:38:13.044681Z",
     "iopub.status.idle": "2022-04-01T08:38:13.048850Z",
     "shell.execute_reply": "2022-04-01T08:38:13.049328Z",
     "shell.execute_reply.started": "2022-04-01T08:37:00.458124Z"
    },
    "papermill": {
     "duration": 0.059318,
     "end_time": "2022-04-01T08:38:13.049517",
     "exception": false,
     "start_time": "2022-04-01T08:38:12.990199",
     "status": "completed"
    },
    "tags": []
   },
   "outputs": [],
   "source": [
    "df = pd.DataFrame()"
   ]
  },
  {
   "cell_type": "code",
   "execution_count": 33,
   "id": "684c2aa8",
   "metadata": {
    "execution": {
     "iopub.execute_input": "2022-04-01T08:38:13.159560Z",
     "iopub.status.busy": "2022-04-01T08:38:13.158824Z",
     "iopub.status.idle": "2022-04-01T08:38:14.222732Z",
     "shell.execute_reply": "2022-04-01T08:38:14.222104Z",
     "shell.execute_reply.started": "2022-04-01T08:37:00.574890Z"
    },
    "papermill": {
     "duration": 1.122281,
     "end_time": "2022-04-01T08:38:14.222891",
     "exception": false,
     "start_time": "2022-04-01T08:38:13.100610",
     "status": "completed"
    },
    "tags": []
   },
   "outputs": [
    {
     "name": "stdout",
     "output_type": "stream",
     "text": [
      "(6954, 6) (1739, 6)\n",
      "[[2.800e+01 0.000e+00 5.500e+01 0.000e+00 6.560e+02 0.000e+00]\n",
      " [1.700e+01 0.000e+00 1.195e+03 3.100e+01 0.000e+00 0.000e+00]\n",
      " [2.800e+01 0.000e+00 0.000e+00 0.000e+00 0.000e+00 0.000e+00]\n",
      " ...\n",
      " [2.200e+01 1.580e+02 0.000e+00 4.760e+02 0.000e+00 2.600e+01]\n",
      " [3.400e+01 3.790e+02 0.000e+00 1.626e+03 0.000e+00 0.000e+00]\n",
      " [2.800e+01 7.000e+00 4.890e+02 0.000e+00 4.000e+00 6.027e+03]]\n"
     ]
    }
   ],
   "source": [
    "from sklearn.model_selection import train_test_split\n",
    "train_input, test_input, train_target, test_target = train_test_split(\n",
    "    df_data, df_target, test_size = 0.2, random_state=42)\n",
    "\n",
    "print(train_input.shape, test_input.shape)\n",
    "print(train_input)"
   ]
  },
  {
   "cell_type": "code",
   "execution_count": 34,
   "id": "72ed86af",
   "metadata": {
    "execution": {
     "iopub.execute_input": "2022-04-01T08:38:14.334874Z",
     "iopub.status.busy": "2022-04-01T08:38:14.333887Z",
     "iopub.status.idle": "2022-04-01T08:38:14.337462Z",
     "shell.execute_reply": "2022-04-01T08:38:14.338018Z",
     "shell.execute_reply.started": "2022-04-01T08:37:00.692227Z"
    },
    "papermill": {
     "duration": 0.063984,
     "end_time": "2022-04-01T08:38:14.338213",
     "exception": false,
     "start_time": "2022-04-01T08:38:14.274229",
     "status": "completed"
    },
    "tags": []
   },
   "outputs": [],
   "source": [
    "from sklearn.preprocessing import StandardScaler\n",
    "ss = StandardScaler()\n",
    "ss.fit(train_input)\n",
    "train_scaled = ss.transform(train_input)\n",
    "test_scaled = ss.transform(test_input)"
   ]
  },
  {
   "cell_type": "code",
   "execution_count": 35,
   "id": "865d1768",
   "metadata": {
    "execution": {
     "iopub.execute_input": "2022-04-01T08:38:14.448374Z",
     "iopub.status.busy": "2022-04-01T08:38:14.447280Z",
     "iopub.status.idle": "2022-04-01T08:38:14.450844Z",
     "shell.execute_reply": "2022-04-01T08:38:14.451409Z",
     "shell.execute_reply.started": "2022-04-01T08:37:00.804542Z"
    },
    "papermill": {
     "duration": 0.061049,
     "end_time": "2022-04-01T08:38:14.451588",
     "exception": false,
     "start_time": "2022-04-01T08:38:14.390539",
     "status": "completed"
    },
    "tags": []
   },
   "outputs": [],
   "source": [
    "#from sklearn.linear_model import LogisticRegression\n",
    "#lr = LogisticRegression()\n",
    "#lr.fit(train_scaled, train_target)\n",
    "#print(lr.score(train_scaled, train_target))\n",
    "#print(lr.score(test_scaled, test_target))"
   ]
  }
 ],
 "metadata": {
  "kernelspec": {
   "display_name": "Python 3",
   "language": "python",
   "name": "python3"
  },
  "language_info": {
   "codemirror_mode": {
    "name": "ipython",
    "version": 3
   },
   "file_extension": ".py",
   "mimetype": "text/x-python",
   "name": "python",
   "nbconvert_exporter": "python",
   "pygments_lexer": "ipython3",
   "version": "3.7.12"
  },
  "papermill": {
   "default_parameters": {},
   "duration": 16.024952,
   "end_time": "2022-04-01T08:38:15.213693",
   "environment_variables": {},
   "exception": null,
   "input_path": "__notebook__.ipynb",
   "output_path": "__notebook__.ipynb",
   "parameters": {},
   "start_time": "2022-04-01T08:37:59.188741",
   "version": "2.3.3"
  }
 },
 "nbformat": 4,
 "nbformat_minor": 5
}
